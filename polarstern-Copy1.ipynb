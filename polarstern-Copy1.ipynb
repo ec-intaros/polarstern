{
 "cells": [
  {
   "cell_type": "code",
   "execution_count": 80,
   "metadata": {},
   "outputs": [],
   "source": [
    "import matplotlib\n",
    "import matplotlib.pyplot as plt\n",
    "%matplotlib inline\n",
    "\n",
    "import cioppy\n",
    "import numpy as np\n",
    "\n",
    "from shapely.wkt import loads\n",
    "import shapely\n",
    "from shapely.geometry import Point\n",
    "from shapely.geometry import LineString\n",
    "\n",
    "import ipywidgets as widgets\n",
    "from ipywidgets import interact, interactive, fixed, interact_manual\n",
    "from ipywidgets import HTML\n",
    "\n",
    "from geopandas import GeoDataFrame\n",
    "import pandas as pd\n",
    "\n",
    "import pytz\n",
    "from datetime import datetime\n",
    "\n",
    "from ipyleaflet import *"
   ]
  },
  {
   "cell_type": "markdown",
   "metadata": {},
   "source": [
    "Download the Polarstern AIS data from https://www.sailwx.info/shiptrack/shipposition.phtml?call=DBLK at the link **Dump ship's entire track history**\n",
    "\n",
    "Upload the file _shipdump.html_ "
   ]
  },
  {
   "cell_type": "code",
   "execution_count": 123,
   "metadata": {},
   "outputs": [],
   "source": [
    "ais_positions = 'shipdump.html'"
   ]
  },
  {
   "cell_type": "markdown",
   "metadata": {},
   "source": [
    "Open the Polarstern entire track history and store all lines in a list"
   ]
  },
  {
   "cell_type": "code",
   "execution_count": 124,
   "metadata": {},
   "outputs": [],
   "source": [
    "fin = open( ais_positions, \"r\" )\n",
    "data_list = fin.readlines()\n",
    "fin.close()\n"
   ]
  },
  {
   "cell_type": "markdown",
   "metadata": {},
   "source": [
    "Remove the HTML tags (first four lines and last three lines)"
   ]
  },
  {
   "cell_type": "code",
   "execution_count": 125,
   "metadata": {},
   "outputs": [],
   "source": [
    "del data_list[0:4]\n",
    "del data_list[-3:]"
   ]
  },
  {
   "cell_type": "markdown",
   "metadata": {},
   "source": [
    "Save the track history as a comma separated values files and then open it as a Pandas dataframe"
   ]
  },
  {
   "cell_type": "code",
   "execution_count": 126,
   "metadata": {},
   "outputs": [],
   "source": [
    "f = open('polarstern.csv', 'w')\n",
    "f.writelines('\\n'.join(data_list))\n",
    "f.close()\n",
    "df = pd.read_csv('polarstern.csv')"
   ]
  },
  {
   "cell_type": "code",
   "execution_count": null,
   "metadata": {},
   "outputs": [],
   "source": []
  },
  {
   "cell_type": "markdown",
   "metadata": {},
   "source": [
    "Show the first AIS positions"
   ]
  },
  {
   "cell_type": "code",
   "execution_count": 127,
   "metadata": {},
   "outputs": [
    {
     "data": {
      "text/html": [
       "<div>\n",
       "<style scoped>\n",
       "    .dataframe tbody tr th:only-of-type {\n",
       "        vertical-align: middle;\n",
       "    }\n",
       "\n",
       "    .dataframe tbody tr th {\n",
       "        vertical-align: top;\n",
       "    }\n",
       "\n",
       "    .dataframe thead th {\n",
       "        text-align: right;\n",
       "    }\n",
       "</style>\n",
       "<table border=\"1\" class=\"dataframe\">\n",
       "  <thead>\n",
       "    <tr style=\"text-align: right;\">\n",
       "      <th></th>\n",
       "      <th>UTC date/time</th>\n",
       "      <th>Unix UTC timestamp</th>\n",
       "      <th>lat</th>\n",
       "      <th>lon</th>\n",
       "      <th>callsign</th>\n",
       "      <th>wind from</th>\n",
       "      <th>knots</th>\n",
       "      <th>gust</th>\n",
       "      <th>barometer</th>\n",
       "      <th>air temp</th>\n",
       "      <th>dew point</th>\n",
       "      <th>water temp</th>\n",
       "      <th>Unnamed: 12</th>\n",
       "    </tr>\n",
       "  </thead>\n",
       "  <tbody>\n",
       "    <tr>\n",
       "      <th>0</th>\n",
       "      <td>2018-Nov-08 1100</td>\n",
       "      <td>1541674822</td>\n",
       "      <td>53.567</td>\n",
       "      <td>8.55503</td>\n",
       "      <td>DBLK</td>\n",
       "      <td>NULL</td>\n",
       "      <td>NULL</td>\n",
       "      <td>NULL</td>\n",
       "      <td>NULL</td>\n",
       "      <td>NULL</td>\n",
       "      <td>NULL</td>\n",
       "      <td>NULL</td>\n",
       "      <td>NaN</td>\n",
       "    </tr>\n",
       "    <tr>\n",
       "      <th>1</th>\n",
       "      <td>2018-Nov-08 1030</td>\n",
       "      <td>1541673022</td>\n",
       "      <td>53.567</td>\n",
       "      <td>8.55503</td>\n",
       "      <td>DBLK</td>\n",
       "      <td>NULL</td>\n",
       "      <td>NULL</td>\n",
       "      <td>NULL</td>\n",
       "      <td>NULL</td>\n",
       "      <td>NULL</td>\n",
       "      <td>NULL</td>\n",
       "      <td>NULL</td>\n",
       "      <td>NaN</td>\n",
       "    </tr>\n",
       "    <tr>\n",
       "      <th>2</th>\n",
       "      <td>2018-Nov-08 1000</td>\n",
       "      <td>1541671221</td>\n",
       "      <td>53.567</td>\n",
       "      <td>8.55503</td>\n",
       "      <td>DBLK</td>\n",
       "      <td>NULL</td>\n",
       "      <td>NULL</td>\n",
       "      <td>NULL</td>\n",
       "      <td>NULL</td>\n",
       "      <td>NULL</td>\n",
       "      <td>NULL</td>\n",
       "      <td>NULL</td>\n",
       "      <td>NaN</td>\n",
       "    </tr>\n",
       "    <tr>\n",
       "      <th>3</th>\n",
       "      <td>2018-Nov-08 0930</td>\n",
       "      <td>1541669421</td>\n",
       "      <td>53.567</td>\n",
       "      <td>8.55503</td>\n",
       "      <td>DBLK</td>\n",
       "      <td>NULL</td>\n",
       "      <td>NULL</td>\n",
       "      <td>NULL</td>\n",
       "      <td>NULL</td>\n",
       "      <td>NULL</td>\n",
       "      <td>NULL</td>\n",
       "      <td>NULL</td>\n",
       "      <td>NaN</td>\n",
       "    </tr>\n",
       "    <tr>\n",
       "      <th>4</th>\n",
       "      <td>2018-Nov-08 0900</td>\n",
       "      <td>1541667622</td>\n",
       "      <td>53.567</td>\n",
       "      <td>8.55503</td>\n",
       "      <td>DBLK</td>\n",
       "      <td>NULL</td>\n",
       "      <td>NULL</td>\n",
       "      <td>NULL</td>\n",
       "      <td>NULL</td>\n",
       "      <td>NULL</td>\n",
       "      <td>NULL</td>\n",
       "      <td>NULL</td>\n",
       "      <td>NaN</td>\n",
       "    </tr>\n",
       "  </tbody>\n",
       "</table>\n",
       "</div>"
      ],
      "text/plain": [
       "      UTC date/time  Unix UTC timestamp     lat      lon callsign wind from  \\\n",
       "0  2018-Nov-08 1100          1541674822  53.567  8.55503     DBLK      NULL   \n",
       "1  2018-Nov-08 1030          1541673022  53.567  8.55503     DBLK      NULL   \n",
       "2  2018-Nov-08 1000          1541671221  53.567  8.55503     DBLK      NULL   \n",
       "3  2018-Nov-08 0930          1541669421  53.567  8.55503     DBLK      NULL   \n",
       "4  2018-Nov-08 0900          1541667622  53.567  8.55503     DBLK      NULL   \n",
       "\n",
       "   knots   gust barometer air temp dew point water temp  Unnamed: 12  \n",
       "0   NULL   NULL      NULL     NULL      NULL       NULL          NaN  \n",
       "1   NULL   NULL      NULL     NULL      NULL       NULL          NaN  \n",
       "2   NULL   NULL      NULL     NULL      NULL       NULL          NaN  \n",
       "3   NULL   NULL      NULL     NULL      NULL       NULL          NaN  \n",
       "4   NULL   NULL      NULL     NULL      NULL       NULL          NaN  "
      ]
     },
     "execution_count": 127,
     "metadata": {},
     "output_type": "execute_result"
    }
   ],
   "source": [
    "df.head()"
   ]
  },
  {
   "cell_type": "markdown",
   "metadata": {},
   "source": [
    "Convert the 'Unix UTC timestamp' to a date/time in ISO 8061 format"
   ]
  },
  {
   "cell_type": "code",
   "execution_count": 128,
   "metadata": {},
   "outputs": [],
   "source": [
    "df['Unix UTC timestamp'] = df['Unix UTC timestamp'].apply(lambda x: datetime.fromtimestamp(x).isoformat()+'Z')\n",
    "\n"
   ]
  },
  {
   "cell_type": "markdown",
   "metadata": {},
   "source": [
    "Rename the column"
   ]
  },
  {
   "cell_type": "code",
   "execution_count": 129,
   "metadata": {},
   "outputs": [],
   "source": [
    "df = df.rename(index=str, columns={'Unix UTC timestamp': 'ISO8061 date/time'})"
   ]
  },
  {
   "cell_type": "markdown",
   "metadata": {},
   "source": [
    "Convert the field to data time to allow doing queries:"
   ]
  },
  {
   "cell_type": "code",
   "execution_count": 133,
   "metadata": {},
   "outputs": [],
   "source": [
    "df['ISO8061 date/time'] = pd.to_datetime(df['ISO8061 date/time']) "
   ]
  },
  {
   "cell_type": "code",
   "execution_count": null,
   "metadata": {},
   "outputs": [],
   "source": []
  },
  {
   "cell_type": "code",
   "execution_count": 134,
   "metadata": {},
   "outputs": [
    {
     "data": {
      "text/html": [
       "<div>\n",
       "<style scoped>\n",
       "    .dataframe tbody tr th:only-of-type {\n",
       "        vertical-align: middle;\n",
       "    }\n",
       "\n",
       "    .dataframe tbody tr th {\n",
       "        vertical-align: top;\n",
       "    }\n",
       "\n",
       "    .dataframe thead th {\n",
       "        text-align: right;\n",
       "    }\n",
       "</style>\n",
       "<table border=\"1\" class=\"dataframe\">\n",
       "  <thead>\n",
       "    <tr style=\"text-align: right;\">\n",
       "      <th></th>\n",
       "      <th>UTC date/time</th>\n",
       "      <th>ISO8061 date/time</th>\n",
       "      <th>lat</th>\n",
       "      <th>lon</th>\n",
       "      <th>callsign</th>\n",
       "      <th>wind from</th>\n",
       "      <th>knots</th>\n",
       "      <th>gust</th>\n",
       "      <th>barometer</th>\n",
       "      <th>air temp</th>\n",
       "      <th>dew point</th>\n",
       "      <th>water temp</th>\n",
       "      <th>Unnamed: 12</th>\n",
       "    </tr>\n",
       "  </thead>\n",
       "  <tbody>\n",
       "    <tr>\n",
       "      <th>0</th>\n",
       "      <td>2018-Nov-08 1100</td>\n",
       "      <td>2018-11-08 12:00:22</td>\n",
       "      <td>53.567</td>\n",
       "      <td>8.55503</td>\n",
       "      <td>DBLK</td>\n",
       "      <td>NULL</td>\n",
       "      <td>NULL</td>\n",
       "      <td>NULL</td>\n",
       "      <td>NULL</td>\n",
       "      <td>NULL</td>\n",
       "      <td>NULL</td>\n",
       "      <td>NULL</td>\n",
       "      <td>NaN</td>\n",
       "    </tr>\n",
       "    <tr>\n",
       "      <th>1</th>\n",
       "      <td>2018-Nov-08 1030</td>\n",
       "      <td>2018-11-08 11:30:22</td>\n",
       "      <td>53.567</td>\n",
       "      <td>8.55503</td>\n",
       "      <td>DBLK</td>\n",
       "      <td>NULL</td>\n",
       "      <td>NULL</td>\n",
       "      <td>NULL</td>\n",
       "      <td>NULL</td>\n",
       "      <td>NULL</td>\n",
       "      <td>NULL</td>\n",
       "      <td>NULL</td>\n",
       "      <td>NaN</td>\n",
       "    </tr>\n",
       "    <tr>\n",
       "      <th>2</th>\n",
       "      <td>2018-Nov-08 1000</td>\n",
       "      <td>2018-11-08 11:00:21</td>\n",
       "      <td>53.567</td>\n",
       "      <td>8.55503</td>\n",
       "      <td>DBLK</td>\n",
       "      <td>NULL</td>\n",
       "      <td>NULL</td>\n",
       "      <td>NULL</td>\n",
       "      <td>NULL</td>\n",
       "      <td>NULL</td>\n",
       "      <td>NULL</td>\n",
       "      <td>NULL</td>\n",
       "      <td>NaN</td>\n",
       "    </tr>\n",
       "    <tr>\n",
       "      <th>3</th>\n",
       "      <td>2018-Nov-08 0930</td>\n",
       "      <td>2018-11-08 10:30:21</td>\n",
       "      <td>53.567</td>\n",
       "      <td>8.55503</td>\n",
       "      <td>DBLK</td>\n",
       "      <td>NULL</td>\n",
       "      <td>NULL</td>\n",
       "      <td>NULL</td>\n",
       "      <td>NULL</td>\n",
       "      <td>NULL</td>\n",
       "      <td>NULL</td>\n",
       "      <td>NULL</td>\n",
       "      <td>NaN</td>\n",
       "    </tr>\n",
       "    <tr>\n",
       "      <th>4</th>\n",
       "      <td>2018-Nov-08 0900</td>\n",
       "      <td>2018-11-08 10:00:22</td>\n",
       "      <td>53.567</td>\n",
       "      <td>8.55503</td>\n",
       "      <td>DBLK</td>\n",
       "      <td>NULL</td>\n",
       "      <td>NULL</td>\n",
       "      <td>NULL</td>\n",
       "      <td>NULL</td>\n",
       "      <td>NULL</td>\n",
       "      <td>NULL</td>\n",
       "      <td>NULL</td>\n",
       "      <td>NaN</td>\n",
       "    </tr>\n",
       "  </tbody>\n",
       "</table>\n",
       "</div>"
      ],
      "text/plain": [
       "      UTC date/time   ISO8061 date/time     lat      lon callsign wind from  \\\n",
       "0  2018-Nov-08 1100 2018-11-08 12:00:22  53.567  8.55503     DBLK      NULL   \n",
       "1  2018-Nov-08 1030 2018-11-08 11:30:22  53.567  8.55503     DBLK      NULL   \n",
       "2  2018-Nov-08 1000 2018-11-08 11:00:21  53.567  8.55503     DBLK      NULL   \n",
       "3  2018-Nov-08 0930 2018-11-08 10:30:21  53.567  8.55503     DBLK      NULL   \n",
       "4  2018-Nov-08 0900 2018-11-08 10:00:22  53.567  8.55503     DBLK      NULL   \n",
       "\n",
       "   knots   gust barometer air temp dew point water temp  Unnamed: 12  \n",
       "0   NULL   NULL      NULL     NULL      NULL       NULL          NaN  \n",
       "1   NULL   NULL      NULL     NULL      NULL       NULL          NaN  \n",
       "2   NULL   NULL      NULL     NULL      NULL       NULL          NaN  \n",
       "3   NULL   NULL      NULL     NULL      NULL       NULL          NaN  \n",
       "4   NULL   NULL      NULL     NULL      NULL       NULL          NaN  "
      ]
     },
     "execution_count": 134,
     "metadata": {},
     "output_type": "execute_result"
    }
   ],
   "source": [
    "df.head()"
   ]
  },
  {
   "cell_type": "markdown",
   "metadata": {},
   "source": [
    "Create a geo data frame including the conversion of the lat/lon columns to a geometry "
   ]
  },
  {
   "cell_type": "code",
   "execution_count": 135,
   "metadata": {},
   "outputs": [],
   "source": [
    "geometry = [Point(xy) for xy in zip(df.lon, df.lat)]\n",
    "df = df.drop(['lon', 'lat'], axis=1)\n",
    "crs = {'init': 'epsg:4326'}\n",
    "gdf = GeoDataFrame(df, crs=crs, geometry=geometry)"
   ]
  },
  {
   "cell_type": "code",
   "execution_count": 136,
   "metadata": {},
   "outputs": [
    {
     "data": {
      "text/html": [
       "<div>\n",
       "<style scoped>\n",
       "    .dataframe tbody tr th:only-of-type {\n",
       "        vertical-align: middle;\n",
       "    }\n",
       "\n",
       "    .dataframe tbody tr th {\n",
       "        vertical-align: top;\n",
       "    }\n",
       "\n",
       "    .dataframe thead th {\n",
       "        text-align: right;\n",
       "    }\n",
       "</style>\n",
       "<table border=\"1\" class=\"dataframe\">\n",
       "  <thead>\n",
       "    <tr style=\"text-align: right;\">\n",
       "      <th></th>\n",
       "      <th>UTC date/time</th>\n",
       "      <th>ISO8061 date/time</th>\n",
       "      <th>callsign</th>\n",
       "      <th>wind from</th>\n",
       "      <th>knots</th>\n",
       "      <th>gust</th>\n",
       "      <th>barometer</th>\n",
       "      <th>air temp</th>\n",
       "      <th>dew point</th>\n",
       "      <th>water temp</th>\n",
       "      <th>Unnamed: 12</th>\n",
       "      <th>geometry</th>\n",
       "    </tr>\n",
       "  </thead>\n",
       "  <tbody>\n",
       "    <tr>\n",
       "      <th>0</th>\n",
       "      <td>2018-Nov-08 1100</td>\n",
       "      <td>2018-11-08 12:00:22</td>\n",
       "      <td>DBLK</td>\n",
       "      <td>NULL</td>\n",
       "      <td>NULL</td>\n",
       "      <td>NULL</td>\n",
       "      <td>NULL</td>\n",
       "      <td>NULL</td>\n",
       "      <td>NULL</td>\n",
       "      <td>NULL</td>\n",
       "      <td>NaN</td>\n",
       "      <td>POINT (8.55503 53.567)</td>\n",
       "    </tr>\n",
       "    <tr>\n",
       "      <th>1</th>\n",
       "      <td>2018-Nov-08 1030</td>\n",
       "      <td>2018-11-08 11:30:22</td>\n",
       "      <td>DBLK</td>\n",
       "      <td>NULL</td>\n",
       "      <td>NULL</td>\n",
       "      <td>NULL</td>\n",
       "      <td>NULL</td>\n",
       "      <td>NULL</td>\n",
       "      <td>NULL</td>\n",
       "      <td>NULL</td>\n",
       "      <td>NaN</td>\n",
       "      <td>POINT (8.55503 53.567)</td>\n",
       "    </tr>\n",
       "    <tr>\n",
       "      <th>2</th>\n",
       "      <td>2018-Nov-08 1000</td>\n",
       "      <td>2018-11-08 11:00:21</td>\n",
       "      <td>DBLK</td>\n",
       "      <td>NULL</td>\n",
       "      <td>NULL</td>\n",
       "      <td>NULL</td>\n",
       "      <td>NULL</td>\n",
       "      <td>NULL</td>\n",
       "      <td>NULL</td>\n",
       "      <td>NULL</td>\n",
       "      <td>NaN</td>\n",
       "      <td>POINT (8.55503 53.567)</td>\n",
       "    </tr>\n",
       "    <tr>\n",
       "      <th>3</th>\n",
       "      <td>2018-Nov-08 0930</td>\n",
       "      <td>2018-11-08 10:30:21</td>\n",
       "      <td>DBLK</td>\n",
       "      <td>NULL</td>\n",
       "      <td>NULL</td>\n",
       "      <td>NULL</td>\n",
       "      <td>NULL</td>\n",
       "      <td>NULL</td>\n",
       "      <td>NULL</td>\n",
       "      <td>NULL</td>\n",
       "      <td>NaN</td>\n",
       "      <td>POINT (8.55503 53.567)</td>\n",
       "    </tr>\n",
       "    <tr>\n",
       "      <th>4</th>\n",
       "      <td>2018-Nov-08 0900</td>\n",
       "      <td>2018-11-08 10:00:22</td>\n",
       "      <td>DBLK</td>\n",
       "      <td>NULL</td>\n",
       "      <td>NULL</td>\n",
       "      <td>NULL</td>\n",
       "      <td>NULL</td>\n",
       "      <td>NULL</td>\n",
       "      <td>NULL</td>\n",
       "      <td>NULL</td>\n",
       "      <td>NaN</td>\n",
       "      <td>POINT (8.55503 53.567)</td>\n",
       "    </tr>\n",
       "  </tbody>\n",
       "</table>\n",
       "</div>"
      ],
      "text/plain": [
       "      UTC date/time   ISO8061 date/time callsign wind from  knots   gust  \\\n",
       "0  2018-Nov-08 1100 2018-11-08 12:00:22     DBLK      NULL   NULL   NULL   \n",
       "1  2018-Nov-08 1030 2018-11-08 11:30:22     DBLK      NULL   NULL   NULL   \n",
       "2  2018-Nov-08 1000 2018-11-08 11:00:21     DBLK      NULL   NULL   NULL   \n",
       "3  2018-Nov-08 0930 2018-11-08 10:30:21     DBLK      NULL   NULL   NULL   \n",
       "4  2018-Nov-08 0900 2018-11-08 10:00:22     DBLK      NULL   NULL   NULL   \n",
       "\n",
       "  barometer air temp dew point water temp  Unnamed: 12                geometry  \n",
       "0      NULL     NULL      NULL       NULL          NaN  POINT (8.55503 53.567)  \n",
       "1      NULL     NULL      NULL       NULL          NaN  POINT (8.55503 53.567)  \n",
       "2      NULL     NULL      NULL       NULL          NaN  POINT (8.55503 53.567)  \n",
       "3      NULL     NULL      NULL       NULL          NaN  POINT (8.55503 53.567)  \n",
       "4      NULL     NULL      NULL       NULL          NaN  POINT (8.55503 53.567)  "
      ]
     },
     "execution_count": 136,
     "metadata": {},
     "output_type": "execute_result"
    }
   ],
   "source": [
    "gdf.head()"
   ]
  },
  {
   "cell_type": "markdown",
   "metadata": {},
   "source": [
    "Set the index on the _ISO8061 date/time_ column and create a new geo data frame for the August AIS data"
   ]
  },
  {
   "cell_type": "code",
   "execution_count": 138,
   "metadata": {},
   "outputs": [],
   "source": [
    "gdf = gdf.set_index(gdf['ISO8061 date/time'])"
   ]
  },
  {
   "cell_type": "code",
   "execution_count": 139,
   "metadata": {},
   "outputs": [],
   "source": [
    "august = gdf.loc['2018-08-01 01:00:00':'2018-08-31 04:00:00']"
   ]
  },
  {
   "cell_type": "code",
   "execution_count": 18,
   "metadata": {},
   "outputs": [
    {
     "data": {
      "text/plain": [
       "<matplotlib.axes._subplots.AxesSubplot at 0x7fec1a52f690>"
      ]
     },
     "execution_count": 18,
     "metadata": {},
     "output_type": "execute_result"
    },
    {
     "data": {
      "image/png": "[encoded data removed]",
      "text/plain": [
       "<matplotlib.figure.Figure at 0x7fec1a8eaf10>"
      ]
     },
     "metadata": {
      "needs_background": "light"
     },
     "output_type": "display_data"
    }
   ],
   "source": [
    "august.plot()"
   ]
  },
  {
   "cell_type": "code",
   "execution_count": 19,
   "metadata": {},
   "outputs": [
    {
     "data": {
      "text/html": [
       "<div>\n",
       "<style scoped>\n",
       "    .dataframe tbody tr th:only-of-type {\n",
       "        vertical-align: middle;\n",
       "    }\n",
       "\n",
       "    .dataframe tbody tr th {\n",
       "        vertical-align: top;\n",
       "    }\n",
       "\n",
       "    .dataframe thead th {\n",
       "        text-align: right;\n",
       "    }\n",
       "</style>\n",
       "<table border=\"1\" class=\"dataframe\">\n",
       "  <thead>\n",
       "    <tr style=\"text-align: right;\">\n",
       "      <th></th>\n",
       "      <th>UTC date/time</th>\n",
       "      <th>ISO8061 date/time</th>\n",
       "      <th>callsign</th>\n",
       "      <th>wind from</th>\n",
       "      <th>knots</th>\n",
       "      <th>gust</th>\n",
       "      <th>barometer</th>\n",
       "      <th>air temp</th>\n",
       "      <th>dew point</th>\n",
       "      <th>water temp</th>\n",
       "      <th>Unnamed: 12</th>\n",
       "      <th>geometry</th>\n",
       "    </tr>\n",
       "    <tr>\n",
       "      <th>ISO8061 date/time</th>\n",
       "      <th></th>\n",
       "      <th></th>\n",
       "      <th></th>\n",
       "      <th></th>\n",
       "      <th></th>\n",
       "      <th></th>\n",
       "      <th></th>\n",
       "      <th></th>\n",
       "      <th></th>\n",
       "      <th></th>\n",
       "      <th></th>\n",
       "      <th></th>\n",
       "    </tr>\n",
       "  </thead>\n",
       "  <tbody>\n",
       "    <tr>\n",
       "      <th>2018-08-31 04:00:00</th>\n",
       "      <td>2018-Aug-31 0200</td>\n",
       "      <td>2018-08-31 04:00:00</td>\n",
       "      <td>DBLK</td>\n",
       "      <td>260</td>\n",
       "      <td>9.71925</td>\n",
       "      <td>NULL</td>\n",
       "      <td>997.8</td>\n",
       "      <td>-1.4</td>\n",
       "      <td>-3.50001</td>\n",
       "      <td>-0.9</td>\n",
       "      <td>NaN</td>\n",
       "      <td>POINT (-11.1 78.8)</td>\n",
       "    </tr>\n",
       "    <tr>\n",
       "      <th>2018-08-31 03:00:00</th>\n",
       "      <td>2018-Aug-31 0100</td>\n",
       "      <td>2018-08-31 03:00:00</td>\n",
       "      <td>DBLK</td>\n",
       "      <td>260</td>\n",
       "      <td>11.6631</td>\n",
       "      <td>NULL</td>\n",
       "      <td>997.5</td>\n",
       "      <td>-1.29999</td>\n",
       "      <td>-3.69999</td>\n",
       "      <td>-0.500006</td>\n",
       "      <td>NaN</td>\n",
       "      <td>POINT (-10.6 78.8)</td>\n",
       "    </tr>\n",
       "    <tr>\n",
       "      <th>2018-08-31 02:00:00</th>\n",
       "      <td>2018-Aug-31 0000</td>\n",
       "      <td>2018-08-31 02:00:00</td>\n",
       "      <td>DBLK</td>\n",
       "      <td>270</td>\n",
       "      <td>13.60695</td>\n",
       "      <td>NULL</td>\n",
       "      <td>997</td>\n",
       "      <td>-1.00001</td>\n",
       "      <td>-3.50001</td>\n",
       "      <td>-0.100012</td>\n",
       "      <td>NaN</td>\n",
       "      <td>POINT (-10.1 78.8)</td>\n",
       "    </tr>\n",
       "    <tr>\n",
       "      <th>2018-08-31 01:00:00</th>\n",
       "      <td>2018-Aug-30 2300</td>\n",
       "      <td>2018-08-31 01:00:00</td>\n",
       "      <td>DBLK</td>\n",
       "      <td>280</td>\n",
       "      <td>13.60695</td>\n",
       "      <td>NULL</td>\n",
       "      <td>996.3</td>\n",
       "      <td>-0.600012</td>\n",
       "      <td>-2.29999</td>\n",
       "      <td>0.1</td>\n",
       "      <td>NaN</td>\n",
       "      <td>POINT (-9.699999999999999 78.8)</td>\n",
       "    </tr>\n",
       "    <tr>\n",
       "      <th>2018-08-31 00:00:00</th>\n",
       "      <td>2018-Aug-30 2200</td>\n",
       "      <td>2018-08-31 00:00:00</td>\n",
       "      <td>DBLK</td>\n",
       "      <td>290</td>\n",
       "      <td>17.49465</td>\n",
       "      <td>NULL</td>\n",
       "      <td>995.7</td>\n",
       "      <td>-0.799994</td>\n",
       "      <td>-1.9</td>\n",
       "      <td>0.200006</td>\n",
       "      <td>NaN</td>\n",
       "      <td>POINT (-9.1 78.8)</td>\n",
       "    </tr>\n",
       "  </tbody>\n",
       "</table>\n",
       "</div>"
      ],
      "text/plain": [
       "                        UTC date/time   ISO8061 date/time callsign wind from  \\\n",
       "ISO8061 date/time                                                              \n",
       "2018-08-31 04:00:00  2018-Aug-31 0200 2018-08-31 04:00:00     DBLK       260   \n",
       "2018-08-31 03:00:00  2018-Aug-31 0100 2018-08-31 03:00:00     DBLK       260   \n",
       "2018-08-31 02:00:00  2018-Aug-31 0000 2018-08-31 02:00:00     DBLK       270   \n",
       "2018-08-31 01:00:00  2018-Aug-30 2300 2018-08-31 01:00:00     DBLK       280   \n",
       "2018-08-31 00:00:00  2018-Aug-30 2200 2018-08-31 00:00:00     DBLK       290   \n",
       "\n",
       "                         knots   gust barometer    air temp  dew point  \\\n",
       "ISO8061 date/time                                                        \n",
       "2018-08-31 04:00:00    9.71925   NULL     997.8        -1.4   -3.50001   \n",
       "2018-08-31 03:00:00    11.6631   NULL     997.5    -1.29999   -3.69999   \n",
       "2018-08-31 02:00:00   13.60695   NULL       997    -1.00001   -3.50001   \n",
       "2018-08-31 01:00:00   13.60695   NULL     996.3   -0.600012   -2.29999   \n",
       "2018-08-31 00:00:00   17.49465   NULL     995.7   -0.799994       -1.9   \n",
       "\n",
       "                     water temp  Unnamed: 12                         geometry  \n",
       "ISO8061 date/time                                                              \n",
       "2018-08-31 04:00:00        -0.9          NaN               POINT (-11.1 78.8)  \n",
       "2018-08-31 03:00:00   -0.500006          NaN               POINT (-10.6 78.8)  \n",
       "2018-08-31 02:00:00   -0.100012          NaN               POINT (-10.1 78.8)  \n",
       "2018-08-31 01:00:00         0.1          NaN  POINT (-9.699999999999999 78.8)  \n",
       "2018-08-31 00:00:00    0.200006          NaN                POINT (-9.1 78.8)  "
      ]
     },
     "execution_count": 19,
     "metadata": {},
     "output_type": "execute_result"
    }
   ],
   "source": [
    "august.head()"
   ]
  },
  {
   "cell_type": "markdown",
   "metadata": {},
   "source": [
    "The tweet is about the Polarstern position at 2018-08-22 03:00:00:"
   ]
  },
  {
   "cell_type": "code",
   "execution_count": 141,
   "metadata": {},
   "outputs": [
    {
     "data": {
      "text/plain": [
       "'POINT (-35.3 83.90000000000001)'"
      ]
     },
     "execution_count": 141,
     "metadata": {},
     "output_type": "execute_result"
    }
   ],
   "source": [
    "wkt = gdf.loc['2018-08-22 03:00:00']['geometry'].values[0].wkt\n",
    "\n",
    "wkt"
   ]
  },
  {
   "cell_type": "code",
   "execution_count": 143,
   "metadata": {},
   "outputs": [
    {
     "data": {
      "text/html": [
       "<div>\n",
       "<style scoped>\n",
       "    .dataframe tbody tr th:only-of-type {\n",
       "        vertical-align: middle;\n",
       "    }\n",
       "\n",
       "    .dataframe tbody tr th {\n",
       "        vertical-align: top;\n",
       "    }\n",
       "\n",
       "    .dataframe thead th {\n",
       "        text-align: right;\n",
       "    }\n",
       "</style>\n",
       "<table border=\"1\" class=\"dataframe\">\n",
       "  <thead>\n",
       "    <tr style=\"text-align: right;\">\n",
       "      <th></th>\n",
       "      <th>UTC date/time</th>\n",
       "      <th>ISO8061 date/time</th>\n",
       "      <th>callsign</th>\n",
       "      <th>wind from</th>\n",
       "      <th>knots</th>\n",
       "      <th>gust</th>\n",
       "      <th>barometer</th>\n",
       "      <th>air temp</th>\n",
       "      <th>dew point</th>\n",
       "      <th>water temp</th>\n",
       "      <th>Unnamed: 12</th>\n",
       "      <th>geometry</th>\n",
       "    </tr>\n",
       "    <tr>\n",
       "      <th>ISO8061 date/time</th>\n",
       "      <th></th>\n",
       "      <th></th>\n",
       "      <th></th>\n",
       "      <th></th>\n",
       "      <th></th>\n",
       "      <th></th>\n",
       "      <th></th>\n",
       "      <th></th>\n",
       "      <th></th>\n",
       "      <th></th>\n",
       "      <th></th>\n",
       "      <th></th>\n",
       "    </tr>\n",
       "  </thead>\n",
       "  <tbody>\n",
       "    <tr>\n",
       "      <th>2018-08-22 03:00:00</th>\n",
       "      <td>2018-Aug-22 0100</td>\n",
       "      <td>2018-08-22 03:00:00</td>\n",
       "      <td>DBLK</td>\n",
       "      <td>260</td>\n",
       "      <td>3.8877</td>\n",
       "      <td>NULL</td>\n",
       "      <td>1005.9</td>\n",
       "      <td>-2.19999</td>\n",
       "      <td>-2.69999</td>\n",
       "      <td>-0.299994</td>\n",
       "      <td>NaN</td>\n",
       "      <td>POINT (-35.3 83.90000000000001)</td>\n",
       "    </tr>\n",
       "  </tbody>\n",
       "</table>\n",
       "</div>"
      ],
      "text/plain": [
       "                        UTC date/time   ISO8061 date/time callsign wind from  \\\n",
       "ISO8061 date/time                                                              \n",
       "2018-08-22 03:00:00  2018-Aug-22 0100 2018-08-22 03:00:00     DBLK       260   \n",
       "\n",
       "                       knots   gust barometer   air temp  dew point  \\\n",
       "ISO8061 date/time                                                     \n",
       "2018-08-22 03:00:00   3.8877   NULL    1005.9   -2.19999   -2.69999   \n",
       "\n",
       "                     water temp  Unnamed: 12                         geometry  \n",
       "ISO8061 date/time                                                              \n",
       "2018-08-22 03:00:00   -0.299994          NaN  POINT (-35.3 83.90000000000001)  "
      ]
     },
     "execution_count": 143,
     "metadata": {},
     "output_type": "execute_result"
    }
   ],
   "source": [
    "toi = gdf.loc['2018-08-22 03:00:00']\n",
    "\n",
    "toi"
   ]
  },
  {
   "cell_type": "markdown",
   "metadata": {},
   "source": [
    "start_time = toi['ISO8061 date/time'].values[0] - np.timedelta64(1, 'h')\n",
    "stop_time = toi['ISO8061 date/time'].values[0]"
   ]
  },
  {
   "cell_type": "markdown",
   "metadata": {},
   "source": [
    "str(start_time)"
   ]
  },
  {
   "cell_type": "markdown",
   "metadata": {},
   "source": [
    "stop_time"
   ]
  },
  {
   "cell_type": "code",
   "execution_count": 26,
   "metadata": {},
   "outputs": [],
   "source": [
    "#august.apply(get_s1_reference, axis=1)"
   ]
  },
  {
   "cell_type": "markdown",
   "metadata": {},
   "source": [
    "Convert the Polarstern AIS positions on 2018-08-22 03:00:00 to a line:"
   ]
  },
  {
   "cell_type": "code",
   "execution_count": 144,
   "metadata": {},
   "outputs": [
    {
     "data": {
      "text/plain": [
       "'LINESTRING (-36.9 83.8, -36.2 83.8, -35.5 83.90000000000001, -34.8 83.90000000000001, -34 83.90000000000001, -33.3 84, -32.6 84, -31.9 84, -31.1 84, -30.3 84.09999999999999, -29.6 84.09999999999999, -28.8 84.09999999999999, -28.7 84.09999999999999, -30.2 84.09999999999999, -31.2 84, -32.1 84, -33 84, -33.8 84, -34.4 83.90000000000001, -35.3 83.90000000000001, -36.1 83.90000000000001, -36.9 83.90000000000001, -36.6 83.90000000000001)'"
      ]
     },
     "execution_count": 144,
     "metadata": {},
     "output_type": "execute_result"
    }
   ],
   "source": [
    "LineString(list(gdf.loc['2018-08-22']['geometry'].values)).wkt"
   ]
  },
  {
   "cell_type": "code",
   "execution_count": null,
   "metadata": {},
   "outputs": [],
   "source": []
  },
  {
   "cell_type": "code",
   "execution_count": 29,
   "metadata": {},
   "outputs": [
    {
     "data": {
      "text/plain": [
       "UTC date/time           2018-Aug-31 0100\n",
       "ISO8061 date/time    2018-08-31 03:00:00\n",
       "callsign                            DBLK\n",
       "wind from                            260\n",
       "knots                            11.6631\n",
       "gust                                NULL\n",
       "barometer                          997.5\n",
       "air temp                        -1.29999\n",
       "dew point                       -3.69999\n",
       "water temp                     -0.500006\n",
       "Unnamed: 12                          NaN\n",
       "geometry              POINT (-10.6 78.8)\n",
       "Name: 2018-08-31 03:00:00, dtype: object"
      ]
     },
     "execution_count": 29,
     "metadata": {},
     "output_type": "execute_result"
    }
   ],
   "source": [
    "august.iloc[1]"
   ]
  },
  {
   "cell_type": "code",
   "execution_count": 30,
   "metadata": {},
   "outputs": [
    {
     "data": {
      "text/plain": [
       "'POINT (-35.3 83.90000000000001)'"
      ]
     },
     "execution_count": 30,
     "metadata": {},
     "output_type": "execute_result"
    }
   ],
   "source": [
    "gdf.loc['2018-08-22 03:00:00']['geometry'].values[0].wkt"
   ]
  },
  {
   "cell_type": "code",
   "execution_count": 31,
   "metadata": {},
   "outputs": [],
   "source": [
    "result = get_s1_reference(gdf.loc['2018-08-22 03:00:00'])"
   ]
  },
  {
   "cell_type": "code",
   "execution_count": 32,
   "metadata": {},
   "outputs": [
    {
     "data": {
      "text/plain": [
       "'/data2/S1B_EW_GRDM_1SDH_20180822T181427_20180822T181532_012379_016D29_884F.zip'"
      ]
     },
     "execution_count": 32,
     "metadata": {},
     "output_type": "execute_result"
    }
   ],
   "source": [
    "ciop.copy(urls=result['enclosure'], extract=False, target='/data2')"
   ]
  },
  {
   "cell_type": "code",
   "execution_count": 33,
   "metadata": {},
   "outputs": [],
   "source": [
    "geom = LineString(list(gdf.loc['2018-08-22']['geometry'].values)).wkt\n",
    "start_time = '2018-08-22T00:00:00Z'\n",
    "stop_time = '2018-08-22T23:59:59Z'"
   ]
  },
  {
   "cell_type": "code",
   "execution_count": 34,
   "metadata": {},
   "outputs": [],
   "source": [
    "search_params = dict([('geom', geom),\n",
    "                          ('start', start_time),\n",
    "                          ('stop', stop_time),\n",
    "                          ('pt', 'GRD')])"
   ]
  },
  {
   "cell_type": "code",
   "execution_count": 35,
   "metadata": {},
   "outputs": [],
   "source": [
    "series = 'https://catalog.terradue.com/sentinel1/search'\n",
    "\n",
    "search = ciop.search(end_point=series, \n",
    "                     params=search_params,\n",
    "                     output_fields='identifier,enclosure,self,startdate,track,wkt',\n",
    "                     model='EOP')"
   ]
  },
  {
   "cell_type": "code",
   "execution_count": 25,
   "metadata": {},
   "outputs": [],
   "source": [
    "ciop = cioppy.Cioppy()\n",
    "\n",
    "def get_s1_reference(row):\n",
    "\n",
    "    start_time = str(row['ISO8061 date/time'].values[0] - np.timedelta64(1, 'D'))\n",
    "    stop_time = str(row['ISO8061 date/time'].values[0] + np.timedelta64(1, 'D'))\n",
    "    wkt = row['geometry'].values[0].wkt\n",
    "    \n",
    "    search_params = dict([('geom', wkt),\n",
    "                          ('start', start_time),\n",
    "                          ('stop', stop_time),\n",
    "                          ('pt', 'GRD')])\n",
    "    \n",
    "    series = 'https://catalog.terradue.com/sentinel1/search'\n",
    "    try:\n",
    "        search = ciop.search(end_point=series, \n",
    "                         params=search_params,\n",
    "                         output_fields='identifier,enclosure,self,startdate,track,wkt',\n",
    "                         model='EOP')\n",
    "    except:\n",
    "        return 'N/A'\n",
    "    \n",
    "    return search[0]"
   ]
  },
  {
   "cell_type": "code",
   "execution_count": 36,
   "metadata": {},
   "outputs": [
    {
     "data": {
      "text/plain": [
       "[{'enclosure': 'https://store.terradue.com/download/sentinel1/files/v1/S1B_EW_GRDM_1SDH_20180822T181427_20180822T181532_012379_016D29_884F',\n",
       "  'identifier': 'S1B_EW_GRDM_1SDH_20180822T181427_20180822T181532_012379_016D29_884F',\n",
       "  'self': 'https://catalog.terradue.com/sentinel1/search?format=atom&uid=S1B_EW_GRDM_1SDH_20180822T181427_20180822T181532_012379_016D29_884F',\n",
       "  'startdate': '2018-08-22T18:14:27.7380000Z',\n",
       "  'track': '103',\n",
       "  'wkt': 'POLYGON((-74.846138 83.508232,-53.257969 86.788544,-25.491175 83.603851,-49.016209 81.451057,-74.846138 83.508232))'},\n",
       " {'enclosure': 'https://store.terradue.com/download/sentinel1/files/v1/S1B_EW_GRDM_1SDH_20180822T163558_20180822T163631_012378_016D22_F131',\n",
       "  'identifier': 'S1B_EW_GRDM_1SDH_20180822T163558_20180822T163631_012378_016D22_F131',\n",
       "  'self': 'https://catalog.terradue.com/sentinel1/search?format=atom&uid=S1B_EW_GRDM_1SDH_20180822T163558_20180822T163631_012378_016D22_F131',\n",
       "  'startdate': '2018-08-22T16:35:58.1460000Z',\n",
       "  'track': '102',\n",
       "  'wkt': 'POLYGON((-42.295731 83.131958,-17.552143 86.089577,-4.442658 84.415543,-29.097219 82.04834,-42.295731 83.131958))'},\n",
       " {'enclosure': 'https://store.terradue.com/download/sentinel1/files/v1/S1B_EW_GRDM_1SDH_20180822T145749_20180822T145854_012377_016D1A_9B28',\n",
       "  'identifier': 'S1B_EW_GRDM_1SDH_20180822T145749_20180822T145854_012377_016D1A_9B28',\n",
       "  'self': 'https://catalog.terradue.com/sentinel1/search?format=atom&uid=S1B_EW_GRDM_1SDH_20180822T145749_20180822T145854_012377_016D1A_9B28',\n",
       "  'startdate': '2018-08-22T14:57:49.7691180Z',\n",
       "  'track': '101',\n",
       "  'wkt': 'POLYGON((-53.710899 83.771278,-66.315933 87.371696,5.361342 86.233208,-19.078669 83.204193,-53.710899 83.771278))'},\n",
       " {'enclosure': 'https://store.terradue.com/download/sentinel1/files/v1/S1B_EW_GRDM_1SDH_20180822T131947_20180822T132051_012376_016D10_0502',\n",
       "  'identifier': 'S1B_EW_GRDM_1SDH_20180822T131947_20180822T132051_012376_016D10_0502',\n",
       "  'self': 'https://catalog.terradue.com/sentinel1/search?format=atom&uid=S1B_EW_GRDM_1SDH_20180822T131947_20180822T132051_012376_016D10_0502',\n",
       "  'startdate': '2018-08-22T13:19:47.4270000Z',\n",
       "  'track': '100',\n",
       "  'wkt': 'POLYGON((-49.95195 82.886047,-75.418343 85.742752,-11.806472 87.53524,-16.641836 83.804298,-49.95195 82.886047))'},\n",
       " {'enclosure': 'https://store.terradue.com/download/sentinel1/files/v1/S1B_EW_GRDM_1SDH_20180822T114138_20180822T114238_012375_016D07_E770',\n",
       "  'identifier': 'S1B_EW_GRDM_1SDH_20180822T114138_20180822T114238_012375_016D07_E770',\n",
       "  'self': 'https://catalog.terradue.com/sentinel1/search?format=atom&uid=S1B_EW_GRDM_1SDH_20180822T114138_20180822T114238_012375_016D07_E770',\n",
       "  'startdate': '2018-08-22T11:41:38.6600000Z',\n",
       "  'track': '99',\n",
       "  'wkt': 'POLYGON((-37.121357 81.783356,-61.739033 84.106552,-31.865376 86.972076,-11.720141 83.541039,-37.121357 81.783356))'}]"
      ]
     },
     "execution_count": 36,
     "metadata": {},
     "output_type": "execute_result"
    }
   ],
   "source": [
    "search"
   ]
  },
  {
   "cell_type": "code",
   "execution_count": 37,
   "metadata": {},
   "outputs": [
    {
     "data": {
      "text/plain": [
       "-32.87170723402131"
      ]
     },
     "execution_count": 37,
     "metadata": {},
     "output_type": "execute_result"
    }
   ],
   "source": [
    "loads(geom).centroid.x"
   ]
  },
  {
   "cell_type": "code",
   "execution_count": 38,
   "metadata": {},
   "outputs": [
    {
     "data": {
      "application/vnd.jupyter.widget-view+json": {
       "model_id": "2993ce0309824463b4d0ede847619e13",
       "version_major": 2,
       "version_minor": 0
      },
      "text/plain": [
       "TWFwKGJhc2VtYXA9eyd1cmwnOiAnaHR0cHM6Ly97c30udGlsZS5vcGVuc3RyZWV0bWFwLm9yZy97en0ve3h9L3t5fS5wbmcnLCAnbWF4X3pvb20nOiAxOSwgJ2F0dHJpYnV0aW9uJzogJ01hcCDigKY=\n"
      ]
     },
     "metadata": {},
     "output_type": "display_data"
    }
   ],
   "source": [
    "global m\n",
    "\n",
    "from ipyleaflet import Map, Polygon\n",
    "\n",
    "m = Map(center=(loads(geom).centroid.y, loads(geom).centroid.x), zoom=3)\n",
    "\n",
    "m\n"
   ]
  },
  {
   "cell_type": "code",
   "execution_count": 40,
   "metadata": {},
   "outputs": [],
   "source": [
    "aoi = Polygon(\n",
    "    locations=np.asarray([t[::-1] for t in list(loads(geom).coords)]).tolist(),\n",
    "    color=\"green\",\n",
    "    fill_color=\"green\"\n",
    ")\n",
    "\n",
    "\n",
    "#pl = Polyline(locations=m.bounds_polygon)\n",
    "m += aoi"
   ]
  },
  {
   "cell_type": "code",
   "execution_count": 41,
   "metadata": {},
   "outputs": [],
   "source": [
    "s1_results = GeoDataFrame(search)"
   ]
  },
  {
   "cell_type": "code",
   "execution_count": 42,
   "metadata": {},
   "outputs": [],
   "source": [
    "s1_results['wkt'] = s1_results['wkt'].apply(shapely.wkt.loads)"
   ]
  },
  {
   "cell_type": "code",
   "execution_count": 43,
   "metadata": {},
   "outputs": [
    {
     "data": {
      "text/html": [
       "<div>\n",
       "<style scoped>\n",
       "    .dataframe tbody tr th:only-of-type {\n",
       "        vertical-align: middle;\n",
       "    }\n",
       "\n",
       "    .dataframe tbody tr th {\n",
       "        vertical-align: top;\n",
       "    }\n",
       "\n",
       "    .dataframe thead th {\n",
       "        text-align: right;\n",
       "    }\n",
       "</style>\n",
       "<table border=\"1\" class=\"dataframe\">\n",
       "  <thead>\n",
       "    <tr style=\"text-align: right;\">\n",
       "      <th></th>\n",
       "      <th>enclosure</th>\n",
       "      <th>identifier</th>\n",
       "      <th>self</th>\n",
       "      <th>startdate</th>\n",
       "      <th>track</th>\n",
       "      <th>wkt</th>\n",
       "    </tr>\n",
       "  </thead>\n",
       "  <tbody>\n",
       "    <tr>\n",
       "      <th>0</th>\n",
       "      <td>https://store.terradue.com/download/sentinel1/...</td>\n",
       "      <td>S1B_EW_GRDM_1SDH_20180822T181427_20180822T1815...</td>\n",
       "      <td>https://catalog.terradue.com/sentinel1/search?...</td>\n",
       "      <td>2018-08-22T18:14:27.7380000Z</td>\n",
       "      <td>103</td>\n",
       "      <td>POLYGON ((-74.846138 83.50823200000001, -53.25...</td>\n",
       "    </tr>\n",
       "    <tr>\n",
       "      <th>1</th>\n",
       "      <td>https://store.terradue.com/download/sentinel1/...</td>\n",
       "      <td>S1B_EW_GRDM_1SDH_20180822T163558_20180822T1636...</td>\n",
       "      <td>https://catalog.terradue.com/sentinel1/search?...</td>\n",
       "      <td>2018-08-22T16:35:58.1460000Z</td>\n",
       "      <td>102</td>\n",
       "      <td>POLYGON ((-42.295731 83.131958, -17.552143 86....</td>\n",
       "    </tr>\n",
       "    <tr>\n",
       "      <th>2</th>\n",
       "      <td>https://store.terradue.com/download/sentinel1/...</td>\n",
       "      <td>S1B_EW_GRDM_1SDH_20180822T145749_20180822T1458...</td>\n",
       "      <td>https://catalog.terradue.com/sentinel1/search?...</td>\n",
       "      <td>2018-08-22T14:57:49.7691180Z</td>\n",
       "      <td>101</td>\n",
       "      <td>POLYGON ((-53.710899 83.771278, -66.315933 87....</td>\n",
       "    </tr>\n",
       "    <tr>\n",
       "      <th>3</th>\n",
       "      <td>https://store.terradue.com/download/sentinel1/...</td>\n",
       "      <td>S1B_EW_GRDM_1SDH_20180822T131947_20180822T1320...</td>\n",
       "      <td>https://catalog.terradue.com/sentinel1/search?...</td>\n",
       "      <td>2018-08-22T13:19:47.4270000Z</td>\n",
       "      <td>100</td>\n",
       "      <td>POLYGON ((-49.95195 82.886047, -75.41834299999...</td>\n",
       "    </tr>\n",
       "    <tr>\n",
       "      <th>4</th>\n",
       "      <td>https://store.terradue.com/download/sentinel1/...</td>\n",
       "      <td>S1B_EW_GRDM_1SDH_20180822T114138_20180822T1142...</td>\n",
       "      <td>https://catalog.terradue.com/sentinel1/search?...</td>\n",
       "      <td>2018-08-22T11:41:38.6600000Z</td>\n",
       "      <td>99</td>\n",
       "      <td>POLYGON ((-37.121357 81.783356, -61.739033 84....</td>\n",
       "    </tr>\n",
       "  </tbody>\n",
       "</table>\n",
       "</div>"
      ],
      "text/plain": [
       "                                           enclosure  \\\n",
       "0  https://store.terradue.com/download/sentinel1/...   \n",
       "1  https://store.terradue.com/download/sentinel1/...   \n",
       "2  https://store.terradue.com/download/sentinel1/...   \n",
       "3  https://store.terradue.com/download/sentinel1/...   \n",
       "4  https://store.terradue.com/download/sentinel1/...   \n",
       "\n",
       "                                          identifier  \\\n",
       "0  S1B_EW_GRDM_1SDH_20180822T181427_20180822T1815...   \n",
       "1  S1B_EW_GRDM_1SDH_20180822T163558_20180822T1636...   \n",
       "2  S1B_EW_GRDM_1SDH_20180822T145749_20180822T1458...   \n",
       "3  S1B_EW_GRDM_1SDH_20180822T131947_20180822T1320...   \n",
       "4  S1B_EW_GRDM_1SDH_20180822T114138_20180822T1142...   \n",
       "\n",
       "                                                self  \\\n",
       "0  https://catalog.terradue.com/sentinel1/search?...   \n",
       "1  https://catalog.terradue.com/sentinel1/search?...   \n",
       "2  https://catalog.terradue.com/sentinel1/search?...   \n",
       "3  https://catalog.terradue.com/sentinel1/search?...   \n",
       "4  https://catalog.terradue.com/sentinel1/search?...   \n",
       "\n",
       "                      startdate track  \\\n",
       "0  2018-08-22T18:14:27.7380000Z   103   \n",
       "1  2018-08-22T16:35:58.1460000Z   102   \n",
       "2  2018-08-22T14:57:49.7691180Z   101   \n",
       "3  2018-08-22T13:19:47.4270000Z   100   \n",
       "4  2018-08-22T11:41:38.6600000Z    99   \n",
       "\n",
       "                                                 wkt  \n",
       "0  POLYGON ((-74.846138 83.50823200000001, -53.25...  \n",
       "1  POLYGON ((-42.295731 83.131958, -17.552143 86....  \n",
       "2  POLYGON ((-53.710899 83.771278, -66.315933 87....  \n",
       "3  POLYGON ((-49.95195 82.886047, -75.41834299999...  \n",
       "4  POLYGON ((-37.121357 81.783356, -61.739033 84....  "
      ]
     },
     "execution_count": 43,
     "metadata": {},
     "output_type": "execute_result"
    }
   ],
   "source": [
    "s1_results"
   ]
  },
  {
   "cell_type": "code",
   "execution_count": 44,
   "metadata": {},
   "outputs": [],
   "source": [
    "global layer_group \n",
    "\n",
    "layer_group = LayerGroup(layers=())\n",
    "m.add_layer(layer_group)\n",
    "\n",
    "def f(x):\n",
    "    layer_group.clear_layers()\n",
    "    m.remove_layer(layer_group)\n",
    "        \n",
    "    p = Polygon(locations=np.asarray([t[::-1] for t in list(list(s1_results.iloc[[x]]['wkt'])[0].exterior.coords)]).tolist(), color=\"red\", fill_color=\"green\")\n",
    "    \n",
    "    d = {'identifier': list(s1_results.iloc[[x]]['identifier'])[0], \n",
    "         'track' :list(s1_results.iloc[[x]]['track'])[0]}\n",
    "    \n",
    "    html_value=\"\"\"\n",
    "        <div>\n",
    "        <ul class='list-group'>\n",
    "            <li class='list-group-item'>{identifier}</li>\n",
    "            <li class='list-group-item'>{track}</li>\n",
    "        </ul></div>\"\"\".format(**d)\n",
    "    \n",
    "    \n",
    "    html_widget_slave = HTML(\n",
    "            value=html_value,\n",
    "    placeholder='',\n",
    "    description='',\n",
    "    )\n",
    "    \n",
    "    \n",
    "    \n",
    "    layer_group.add_layer(p)\n",
    "    p.popup = html_widget_slave\n",
    "    m.add_layer(layer_group)"
   ]
  },
  {
   "cell_type": "code",
   "execution_count": 45,
   "metadata": {},
   "outputs": [
    {
     "data": {
      "application/vnd.jupyter.widget-view+json": {
       "model_id": "9a3005fe45ba4850ac5c1cb208bbde21",
       "version_major": 2,
       "version_minor": 0
      },
      "text/plain": [
       "aW50ZXJhY3RpdmUoY2hpbGRyZW49KEludFNsaWRlcih2YWx1ZT0wLCBkZXNjcmlwdGlvbj11J3gnLCBtYXg9NCksIE91dHB1dCgpKSwgX2RvbV9jbGFzc2VzPSh1J3dpZGdldC1pbnRlcmFjdCfigKY=\n"
      ]
     },
     "metadata": {},
     "output_type": "display_data"
    }
   ],
   "source": [
    "interact(f, x=widgets.IntSlider(min=0,max=len(s1_results)-1,step=1,value=0));"
   ]
  },
  {
   "cell_type": "code",
   "execution_count": 91,
   "metadata": {},
   "outputs": [
    {
     "data": {
      "text/plain": [
       "enclosure     https://store.terradue.com/download/sentinel1/...\n",
       "identifier    S1B_EW_GRDM_1SDH_20180822T114138_20180822T1142...\n",
       "self          https://catalog.terradue.com/sentinel1/search?...\n",
       "startdate                          2018-08-22T11:41:38.6600000Z\n",
       "track                                                        99\n",
       "wkt           POLYGON ((-37.121357 81.783356, -61.739033 84....\n",
       "Name: 4, dtype: object"
      ]
     },
     "execution_count": 91,
     "metadata": {},
     "output_type": "execute_result"
    }
   ],
   "source": [
    "s1_results.iloc[4]"
   ]
  },
  {
   "cell_type": "code",
   "execution_count": 92,
   "metadata": {},
   "outputs": [
    {
     "data": {
      "text/plain": [
       "'https://store.terradue.com/download/sentinel1/files/v1/S1B_EW_GRDM_1SDH_20180822T114138_20180822T114238_012375_016D07_E770'"
      ]
     },
     "execution_count": 92,
     "metadata": {},
     "output_type": "execute_result"
    }
   ],
   "source": [
    "s1_results.iloc[4]['enclosure']"
   ]
  },
  {
   "cell_type": "code",
   "execution_count": 93,
   "metadata": {},
   "outputs": [
    {
     "data": {
      "text/plain": [
       "'/data2/S1B_EW_GRDM_1SDH_20180822T114138_20180822T114238_012375_016D07_E770.zip'"
      ]
     },
     "execution_count": 93,
     "metadata": {},
     "output_type": "execute_result"
    }
   ],
   "source": [
    "ciop.copy(urls=s1_results.iloc[4]['enclosure'], extract=False, target='/data2')"
   ]
  },
  {
   "cell_type": "code",
   "execution_count": 94,
   "metadata": {},
   "outputs": [],
   "source": [
    "a = gdf.loc['2018-08-22 03:00:00']['geometry'].values"
   ]
  },
  {
   "cell_type": "code",
   "execution_count": 97,
   "metadata": {},
   "outputs": [
    {
     "data": {
      "text/plain": [
       "'POINT (-35.3 83.90000000000001)'"
      ]
     },
     "execution_count": 97,
     "metadata": {},
     "output_type": "execute_result"
    }
   ],
   "source": [
    "a[0].wkt\n"
   ]
  },
  {
   "cell_type": "code",
   "execution_count": 74,
   "metadata": {},
   "outputs": [],
   "source": [
    "s1_prd = GeoDataFrame(s1_results.iloc[4]).T"
   ]
  },
  {
   "cell_type": "code",
   "execution_count": 75,
   "metadata": {},
   "outputs": [
    {
     "data": {
      "text/html": [
       "<div>\n",
       "<style scoped>\n",
       "    .dataframe tbody tr th:only-of-type {\n",
       "        vertical-align: middle;\n",
       "    }\n",
       "\n",
       "    .dataframe tbody tr th {\n",
       "        vertical-align: top;\n",
       "    }\n",
       "\n",
       "    .dataframe thead th {\n",
       "        text-align: right;\n",
       "    }\n",
       "</style>\n",
       "<table border=\"1\" class=\"dataframe\">\n",
       "  <thead>\n",
       "    <tr style=\"text-align: right;\">\n",
       "      <th></th>\n",
       "      <th>enclosure</th>\n",
       "      <th>identifier</th>\n",
       "      <th>self</th>\n",
       "      <th>startdate</th>\n",
       "      <th>track</th>\n",
       "      <th>wkt</th>\n",
       "    </tr>\n",
       "  </thead>\n",
       "  <tbody>\n",
       "    <tr>\n",
       "      <th>4</th>\n",
       "      <td>https://store.terradue.com/download/sentinel1/...</td>\n",
       "      <td>S1B_EW_GRDM_1SDH_20180822T114138_20180822T1142...</td>\n",
       "      <td>https://catalog.terradue.com/sentinel1/search?...</td>\n",
       "      <td>2018-08-22T11:41:38.6600000Z</td>\n",
       "      <td>99</td>\n",
       "      <td>POLYGON ((-37.121357 81.783356, -61.739033 84....</td>\n",
       "    </tr>\n",
       "  </tbody>\n",
       "</table>\n",
       "</div>"
      ],
      "text/plain": [
       "                                           enclosure  \\\n",
       "4  https://store.terradue.com/download/sentinel1/...   \n",
       "\n",
       "                                          identifier  \\\n",
       "4  S1B_EW_GRDM_1SDH_20180822T114138_20180822T1142...   \n",
       "\n",
       "                                                self  \\\n",
       "4  https://catalog.terradue.com/sentinel1/search?...   \n",
       "\n",
       "                      startdate track  \\\n",
       "4  2018-08-22T11:41:38.6600000Z    99   \n",
       "\n",
       "                                                 wkt  \n",
       "4  POLYGON ((-37.121357 81.783356, -61.739033 84....  "
      ]
     },
     "execution_count": 75,
     "metadata": {},
     "output_type": "execute_result"
    }
   ],
   "source": [
    "s1_prd"
   ]
  },
  {
   "cell_type": "code",
   "execution_count": 76,
   "metadata": {},
   "outputs": [],
   "source": [
    "s1_prd['local_path'] = '/data2/S1B_EW_GRDM_1SDH_20180822T114138_20180822T114238_012375_016D07_E770.zip'"
   ]
  },
  {
   "cell_type": "code",
   "execution_count": 77,
   "metadata": {},
   "outputs": [
    {
     "data": {
      "text/html": [
       "<div>\n",
       "<style scoped>\n",
       "    .dataframe tbody tr th:only-of-type {\n",
       "        vertical-align: middle;\n",
       "    }\n",
       "\n",
       "    .dataframe tbody tr th {\n",
       "        vertical-align: top;\n",
       "    }\n",
       "\n",
       "    .dataframe thead th {\n",
       "        text-align: right;\n",
       "    }\n",
       "</style>\n",
       "<table border=\"1\" class=\"dataframe\">\n",
       "  <thead>\n",
       "    <tr style=\"text-align: right;\">\n",
       "      <th></th>\n",
       "      <th>enclosure</th>\n",
       "      <th>identifier</th>\n",
       "      <th>self</th>\n",
       "      <th>startdate</th>\n",
       "      <th>track</th>\n",
       "      <th>wkt</th>\n",
       "      <th>local_path</th>\n",
       "    </tr>\n",
       "  </thead>\n",
       "  <tbody>\n",
       "    <tr>\n",
       "      <th>4</th>\n",
       "      <td>https://store.terradue.com/download/sentinel1/...</td>\n",
       "      <td>S1B_EW_GRDM_1SDH_20180822T114138_20180822T1142...</td>\n",
       "      <td>https://catalog.terradue.com/sentinel1/search?...</td>\n",
       "      <td>2018-08-22T11:41:38.6600000Z</td>\n",
       "      <td>99</td>\n",
       "      <td>POLYGON ((-37.121357 81.783356, -61.739033 84....</td>\n",
       "      <td>/data2/S1B_EW_GRDM_1SDH_20180822T114138_201808...</td>\n",
       "    </tr>\n",
       "  </tbody>\n",
       "</table>\n",
       "</div>"
      ],
      "text/plain": [
       "                                           enclosure  \\\n",
       "4  https://store.terradue.com/download/sentinel1/...   \n",
       "\n",
       "                                          identifier  \\\n",
       "4  S1B_EW_GRDM_1SDH_20180822T114138_20180822T1142...   \n",
       "\n",
       "                                                self  \\\n",
       "4  https://catalog.terradue.com/sentinel1/search?...   \n",
       "\n",
       "                      startdate track  \\\n",
       "4  2018-08-22T11:41:38.6600000Z    99   \n",
       "\n",
       "                                                 wkt  \\\n",
       "4  POLYGON ((-37.121357 81.783356, -61.739033 84....   \n",
       "\n",
       "                                          local_path  \n",
       "4  /data2/S1B_EW_GRDM_1SDH_20180822T114138_201808...  "
      ]
     },
     "execution_count": 77,
     "metadata": {},
     "output_type": "execute_result"
    }
   ],
   "source": [
    "s1_prd"
   ]
  },
  {
   "cell_type": "code",
   "execution_count": 79,
   "metadata": {},
   "outputs": [],
   "source": [
    "s1_prd.to_csv('s1_prd.csv')"
   ]
  },
  {
   "cell_type": "code",
   "execution_count": null,
   "metadata": {},
   "outputs": [],
   "source": []
  }
 ],
 "metadata": {
  "kernelspec": {
   "display_name": "Python [default]",
   "language": "python",
   "name": "python2"
  },
  "language_info": {
   "codemirror_mode": {
    "name": "ipython",
    "version": 2
   },
   "file_extension": ".py",
   "mimetype": "text/x-python",
   "name": "python",
   "nbconvert_exporter": "python",
   "pygments_lexer": "ipython2",
   "version": "2.7.12"
  }
 },
 "nbformat": 4,
 "nbformat_minor": 2
}
