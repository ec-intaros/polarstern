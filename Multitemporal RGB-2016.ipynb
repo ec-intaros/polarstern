{
 "cells": [
  {
   "cell_type": "markdown",
   "metadata": {},
   "source": [
    "## Multitemporal RGB composite 2017"
   ]
  },
  {
   "cell_type": "markdown",
   "metadata": {},
   "source": [
    "### Import the Python packages"
   ]
  },
  {
   "cell_type": "code",
   "execution_count": 1,
   "metadata": {
    "collapsed": true
   },
   "outputs": [],
   "source": [
    "%matplotlib inline\n",
    "\n",
    "import warnings\n",
    "warnings.filterwarnings(\"ignore\")\n",
    "import os\n",
    "import sys\n",
    "import glob\n",
    "os.environ['_CIOP_APPLICATION_PATH']=''\n",
    "sys.path.append('/opt/anaconda/bin/')\n",
    "import cioppy\n",
    "ciop = cioppy.Cioppy()\n",
    "\n",
    "import numpy as np\n",
    "import matplotlib\n",
    "import matplotlib.pyplot as plt\n",
    "import matplotlib.colors as colors\n",
    "\n",
    "from snappy import jpy\n",
    "from snappy import ProductIO\n",
    "from snappy import GPF\n",
    "from snappy import HashMap\n",
    "\n",
    "import gc\n",
    "\n",
    "from shapely.wkt import loads \n",
    "from shapely.geometry import box\n",
    "from shapely.geometry import Point\n",
    "from shapely import geometry\n",
    "\n",
    "import osr\n",
    "import ogr\n",
    "\n",
    "import gdal\n",
    "from geopandas import GeoDataFrame\n",
    "import pandas as pd\n",
    "\n",
    "sys.path.append(os.getcwd())\n",
    "import ellip_snap_helpers\n",
    "\n",
    "from PIL import Image\n",
    "\n",
    "%load_ext autoreload\n",
    "%autoreload 2"
   ]
  },
  {
   "cell_type": "markdown",
   "metadata": {},
   "source": [
    "### Search parameters"
   ]
  },
  {
   "cell_type": "markdown",
   "metadata": {},
   "source": [
    "Set the catalogue endpoint to Sentinel-1:"
   ]
  },
  {
   "cell_type": "code",
   "execution_count": 2,
   "metadata": {
    "collapsed": true
   },
   "outputs": [],
   "source": [
    "series = 'https://catalog.terradue.com/sentinel1/search'"
   ]
  },
  {
   "cell_type": "markdown",
   "metadata": {},
   "source": [
    "Define the time of interest:"
   ]
  },
  {
   "cell_type": "code",
   "execution_count": 19,
   "metadata": {},
   "outputs": [],
   "source": [
    "tois = {'winter': { 'start_date': '2017-01-01T00:00:00', 'stop_date': '2017-01-31T23:59:59' },\n",
    "        'mid_summer': { 'start_date': '2017-07-01T00:00:00', 'stop_date': '2017-07-31T23:59:59' },\n",
    "        'late_summer': { 'start_date': '2017-08-15T00:00:00', 'stop_date': '2017-08-31T23:59:59' }}"
   ]
  },
  {
   "cell_type": "code",
   "execution_count": 4,
   "metadata": {},
   "outputs": [
    {
     "name": "stdout",
     "output_type": "stream",
     "text": [
      "mid_summer 2016-07-01T00:00:00 2016-07-31T23:59:59\n",
      "late_summer 2016-08-15T00:00:00 2016-08-31T23:59:59\n",
      "winter 2016-01-01T00:00:00 2016-01-31T23:59:59\n"
     ]
    }
   ],
   "source": [
    "for index, toi in enumerate(tois):\n",
    "    \n",
    "    print toi, tois[toi]['start_date'], tois[toi]['stop_date']"
   ]
  },
  {
   "cell_type": "markdown",
   "metadata": {},
   "source": [
    "Define the area of interest:"
   ]
  },
  {
   "cell_type": "code",
   "execution_count": 5,
   "metadata": {},
   "outputs": [],
   "source": [
    "def extend_aoi(center_x, center_y, extent):\n",
    "    \n",
    "    polar_epsg = 3575 # 3995\n",
    "    latlon_epsg = 4326\n",
    "    \n",
    "    center_polar = loads(convert_coords(latlon_epsg, polar_epsg, Point(center_x, center_y).wkt))\n",
    "    \n",
    "    ll = convert_coords(polar_epsg, latlon_epsg, Point(center_polar.x - extent,  center_polar.y - extent).wkt)\n",
    "    lr = convert_coords(polar_epsg, latlon_epsg, Point(center_polar.x + extent,  center_polar.y - extent).wkt)\n",
    "    ur = convert_coords(polar_epsg, latlon_epsg, Point(center_polar.x + extent,  center_polar.y + extent).wkt)\n",
    "    ul = convert_coords(polar_epsg, latlon_epsg, Point(center_polar.x - extent,  center_polar.y + extent).wkt)\n",
    "\n",
    "\n",
    "    pointList = [loads(ll),\n",
    "             loads(lr), \n",
    "             loads(ur), \n",
    "             loads(ul), \n",
    "             loads(ll)]\n",
    "\n",
    "    extended_aoi = geometry.Polygon([[p.x, p.y] for p in pointList]).wkt\n",
    "    \n",
    "    return extended_aoi"
   ]
  },
  {
   "cell_type": "code",
   "execution_count": 6,
   "metadata": {},
   "outputs": [],
   "source": [
    "def convert_coords(source_epsg, target_epsg, geom):\n",
    "\n",
    "    source = osr.SpatialReference()\n",
    "    source.ImportFromEPSG(source_epsg)\n",
    "\n",
    "    target = osr.SpatialReference()\n",
    "    target.ImportFromEPSG(target_epsg)\n",
    "\n",
    "    transform = osr.CoordinateTransformation(source, target)\n",
    "\n",
    "    point = ogr.CreateGeometryFromWkt(geom)\n",
    "    point.Transform(transform)\n",
    "\n",
    "    return point.ExportToWkt()"
   ]
  },
  {
   "cell_type": "code",
   "execution_count": 7,
   "metadata": {},
   "outputs": [],
   "source": [
    "poi = loads('POINT (-35.3 83.90000000000001)')"
   ]
  },
  {
   "cell_type": "code",
   "execution_count": 8,
   "metadata": {},
   "outputs": [
    {
     "data": {
      "text/plain": [
       "'POLYGON ((-35.2717796499525 83.2658579085283, -29.3687708669507 83.8704727024008, -35.334759858866 84.53393836008161, -41.2248291287458 83.8638684209569, -35.2717796499525 83.2658579085283))'"
      ]
     },
     "execution_count": 8,
     "metadata": {},
     "output_type": "execute_result"
    }
   ],
   "source": [
    "extended_aoi = extend_aoi(poi.x, poi.y, 50000)\n",
    "\n",
    "extended_aoi"
   ]
  },
  {
   "cell_type": "markdown",
   "metadata": {},
   "source": [
    "### Build and submit the catalog search\n"
   ]
  },
  {
   "cell_type": "code",
   "execution_count": 9,
   "metadata": {
    "collapsed": false
   },
   "outputs": [
    {
     "name": "stdout",
     "output_type": "stream",
     "text": [
      "mid_summer\n",
      "{'count': 1, 'pt': 'GRD', 'track': '99', 'stop': '2016-07-31T23:59:59', 'start': '2016-07-01T00:00:00', 'geom': 'POLYGON ((-35.2717796499525 83.2658579085283, -29.3687708669507 83.8704727024008, -35.334759858866 84.53393836008161, -41.2248291287458 83.8638684209569, -35.2717796499525 83.2658579085283))'}\n",
      "S1A_EW_GRDM_1SSH_20160721T114238_20160721T114338_012246_013063_933F\n",
      "late_summer\n",
      "{'count': 1, 'pt': 'GRD', 'track': '99', 'stop': '2016-08-31T23:59:59', 'start': '2016-08-15T00:00:00', 'geom': 'POLYGON ((-35.2717796499525 83.2658579085283, -29.3687708669507 83.8704727024008, -35.334759858866 84.53393836008161, -41.2248291287458 83.8638684209569, -35.2717796499525 83.2658579085283))'}\n",
      "S1A_EW_GRDM_1SSH_20160826T114240_20160826T114340_012771_0141E5_BA20\n",
      "winter\n",
      "{'count': 1, 'pt': 'GRD', 'track': '99', 'stop': '2016-01-31T23:59:59', 'start': '2016-01-01T00:00:00', 'geom': 'POLYGON ((-35.2717796499525 83.2658579085283, -29.3687708669507 83.8704727024008, -35.334759858866 84.53393836008161, -41.2248291287458 83.8638684209569, -35.2717796499525 83.2658579085283))'}\n",
      "S1A_EW_GRDM_1SDH_20160123T114236_20160123T114336_009621_00E038_14E6\n"
     ]
    }
   ],
   "source": [
    "results = []\n",
    "\n",
    "for index, toi in enumerate(tois):\n",
    "    \n",
    "    print toi\n",
    "    \n",
    "    search_params = dict([('geom', extended_aoi),\n",
    "                          ('start', tois[toi]['start_date']),\n",
    "                          ('stop', tois[toi]['stop_date']),\n",
    "                          ('track', '117'),\n",
    "                          ('pt', 'GRD'),\n",
    "                          ('psn', 'S1A'),\n",
    "                          ('count', 1)])\n",
    "    \n",
    "    print search_params\n",
    "\n",
    "    search = ciop.search(end_point = series,\n",
    "                     params = search_params,\n",
    "                     output_fields='self,enclosure,identifier,startdate,wkt', \n",
    "                     model='GeoTime')\n",
    "    \n",
    "    print search[0]['identifier']    \n",
    "    results.append(search[0])\n",
    "\n",
    "results = GeoDataFrame(results)"
   ]
  },
  {
   "cell_type": "code",
   "execution_count": 10,
   "metadata": {},
   "outputs": [
    {
     "data": {
      "text/html": [
       "<div>\n",
       "<style scoped>\n",
       "    .dataframe tbody tr th:only-of-type {\n",
       "        vertical-align: middle;\n",
       "    }\n",
       "\n",
       "    .dataframe tbody tr th {\n",
       "        vertical-align: top;\n",
       "    }\n",
       "\n",
       "    .dataframe thead th {\n",
       "        text-align: right;\n",
       "    }\n",
       "</style>\n",
       "<table border=\"1\" class=\"dataframe\">\n",
       "  <thead>\n",
       "    <tr style=\"text-align: right;\">\n",
       "      <th></th>\n",
       "      <th>enclosure</th>\n",
       "      <th>identifier</th>\n",
       "      <th>self</th>\n",
       "      <th>startdate</th>\n",
       "      <th>wkt</th>\n",
       "    </tr>\n",
       "  </thead>\n",
       "  <tbody>\n",
       "    <tr>\n",
       "      <th>0</th>\n",
       "      <td>https://store.terradue.com/download/sentinel1/...</td>\n",
       "      <td>S1A_EW_GRDM_1SSH_20160721T114238_20160721T1143...</td>\n",
       "      <td>https://catalog.terradue.com/sentinel1/search?...</td>\n",
       "      <td>2016-07-21T11:42:38.3667520Z</td>\n",
       "      <td>POLYGON((-46.314613 80.456032,-67.940353 82.33...</td>\n",
       "    </tr>\n",
       "    <tr>\n",
       "      <th>1</th>\n",
       "      <td>https://store.terradue.com/download/sentinel1/...</td>\n",
       "      <td>S1A_EW_GRDM_1SSH_20160826T114240_20160826T1143...</td>\n",
       "      <td>https://catalog.terradue.com/sentinel1/search?...</td>\n",
       "      <td>2016-08-26T11:42:40.2897880Z</td>\n",
       "      <td>POLYGON((-46.307064 80.454826,-67.930687 82.33...</td>\n",
       "    </tr>\n",
       "    <tr>\n",
       "      <th>2</th>\n",
       "      <td>https://store.terradue.com/download/sentinel1/...</td>\n",
       "      <td>S1A_EW_GRDM_1SDH_20160123T114236_20160123T1143...</td>\n",
       "      <td>https://catalog.terradue.com/sentinel1/search?...</td>\n",
       "      <td>2016-01-23T11:42:36.0966700Z</td>\n",
       "      <td>POLYGON((-47.054169 80.258202,-68.551834 82.12...</td>\n",
       "    </tr>\n",
       "  </tbody>\n",
       "</table>\n",
       "</div>"
      ],
      "text/plain": [
       "                                           enclosure  \\\n",
       "0  https://store.terradue.com/download/sentinel1/...   \n",
       "1  https://store.terradue.com/download/sentinel1/...   \n",
       "2  https://store.terradue.com/download/sentinel1/...   \n",
       "\n",
       "                                          identifier  \\\n",
       "0  S1A_EW_GRDM_1SSH_20160721T114238_20160721T1143...   \n",
       "1  S1A_EW_GRDM_1SSH_20160826T114240_20160826T1143...   \n",
       "2  S1A_EW_GRDM_1SDH_20160123T114236_20160123T1143...   \n",
       "\n",
       "                                                self  \\\n",
       "0  https://catalog.terradue.com/sentinel1/search?...   \n",
       "1  https://catalog.terradue.com/sentinel1/search?...   \n",
       "2  https://catalog.terradue.com/sentinel1/search?...   \n",
       "\n",
       "                      startdate  \\\n",
       "0  2016-07-21T11:42:38.3667520Z   \n",
       "1  2016-08-26T11:42:40.2897880Z   \n",
       "2  2016-01-23T11:42:36.0966700Z   \n",
       "\n",
       "                                                 wkt  \n",
       "0  POLYGON((-46.314613 80.456032,-67.940353 82.33...  \n",
       "1  POLYGON((-46.307064 80.454826,-67.930687 82.33...  \n",
       "2  POLYGON((-47.054169 80.258202,-68.551834 82.12...  "
      ]
     },
     "execution_count": 10,
     "metadata": {},
     "output_type": "execute_result"
    }
   ],
   "source": [
    "results"
   ]
  },
  {
   "cell_type": "code",
   "execution_count": 11,
   "metadata": {},
   "outputs": [],
   "source": [
    "results['startdate'] = pd.to_datetime(results['startdate']) \n",
    "results['wkt'] = results['wkt'].apply(loads)"
   ]
  },
  {
   "cell_type": "code",
   "execution_count": 12,
   "metadata": {},
   "outputs": [
    {
     "data": {
      "text/html": [
       "<div>\n",
       "<style scoped>\n",
       "    .dataframe tbody tr th:only-of-type {\n",
       "        vertical-align: middle;\n",
       "    }\n",
       "\n",
       "    .dataframe tbody tr th {\n",
       "        vertical-align: top;\n",
       "    }\n",
       "\n",
       "    .dataframe thead th {\n",
       "        text-align: right;\n",
       "    }\n",
       "</style>\n",
       "<table border=\"1\" class=\"dataframe\">\n",
       "  <thead>\n",
       "    <tr style=\"text-align: right;\">\n",
       "      <th></th>\n",
       "      <th>enclosure</th>\n",
       "      <th>identifier</th>\n",
       "      <th>self</th>\n",
       "      <th>startdate</th>\n",
       "      <th>wkt</th>\n",
       "    </tr>\n",
       "  </thead>\n",
       "  <tbody>\n",
       "    <tr>\n",
       "      <th>0</th>\n",
       "      <td>https://store.terradue.com/download/sentinel1/...</td>\n",
       "      <td>S1A_EW_GRDM_1SSH_20160721T114238_20160721T1143...</td>\n",
       "      <td>https://catalog.terradue.com/sentinel1/search?...</td>\n",
       "      <td>2016-07-21 11:42:38.366752</td>\n",
       "      <td>POLYGON ((-46.314613 80.45603199999999, -67.94...</td>\n",
       "    </tr>\n",
       "    <tr>\n",
       "      <th>1</th>\n",
       "      <td>https://store.terradue.com/download/sentinel1/...</td>\n",
       "      <td>S1A_EW_GRDM_1SSH_20160826T114240_20160826T1143...</td>\n",
       "      <td>https://catalog.terradue.com/sentinel1/search?...</td>\n",
       "      <td>2016-08-26 11:42:40.289788</td>\n",
       "      <td>POLYGON ((-46.307064 80.454826, -67.9306870000...</td>\n",
       "    </tr>\n",
       "    <tr>\n",
       "      <th>2</th>\n",
       "      <td>https://store.terradue.com/download/sentinel1/...</td>\n",
       "      <td>S1A_EW_GRDM_1SDH_20160123T114236_20160123T1143...</td>\n",
       "      <td>https://catalog.terradue.com/sentinel1/search?...</td>\n",
       "      <td>2016-01-23 11:42:36.096670</td>\n",
       "      <td>POLYGON ((-47.054169 80.258202, -68.551834 82....</td>\n",
       "    </tr>\n",
       "  </tbody>\n",
       "</table>\n",
       "</div>"
      ],
      "text/plain": [
       "                                           enclosure  \\\n",
       "0  https://store.terradue.com/download/sentinel1/...   \n",
       "1  https://store.terradue.com/download/sentinel1/...   \n",
       "2  https://store.terradue.com/download/sentinel1/...   \n",
       "\n",
       "                                          identifier  \\\n",
       "0  S1A_EW_GRDM_1SSH_20160721T114238_20160721T1143...   \n",
       "1  S1A_EW_GRDM_1SSH_20160826T114240_20160826T1143...   \n",
       "2  S1A_EW_GRDM_1SDH_20160123T114236_20160123T1143...   \n",
       "\n",
       "                                                self  \\\n",
       "0  https://catalog.terradue.com/sentinel1/search?...   \n",
       "1  https://catalog.terradue.com/sentinel1/search?...   \n",
       "2  https://catalog.terradue.com/sentinel1/search?...   \n",
       "\n",
       "                   startdate  \\\n",
       "0 2016-07-21 11:42:38.366752   \n",
       "1 2016-08-26 11:42:40.289788   \n",
       "2 2016-01-23 11:42:36.096670   \n",
       "\n",
       "                                                 wkt  \n",
       "0  POLYGON ((-46.314613 80.45603199999999, -67.94...  \n",
       "1  POLYGON ((-46.307064 80.454826, -67.9306870000...  \n",
       "2  POLYGON ((-47.054169 80.258202, -68.551834 82....  "
      ]
     },
     "execution_count": 12,
     "metadata": {},
     "output_type": "execute_result"
    }
   ],
   "source": [
    "results"
   ]
  },
  {
   "cell_type": "code",
   "execution_count": 13,
   "metadata": {},
   "outputs": [],
   "source": [
    "def analyse(row, aoi_wkt):\n",
    "\n",
    "    aoi = loads(aoi_wkt)\n",
    "\n",
    "    aoi_intersection = (row['wkt'].intersection(aoi).area / aoi.area) * 100\n",
    "        \n",
    "    series = dict([('aoi_intersection', aoi_intersection)])\n",
    "    \n",
    "    return pd.Series(series)"
   ]
  },
  {
   "cell_type": "code",
   "execution_count": 14,
   "metadata": {},
   "outputs": [],
   "source": [
    "results = results.merge(results.apply(lambda row: analyse(row, extended_aoi), axis=1), \n",
    "              left_index=True,\n",
    "              right_index=True)"
   ]
  },
  {
   "cell_type": "code",
   "execution_count": 15,
   "metadata": {},
   "outputs": [
    {
     "data": {
      "text/html": [
       "<div>\n",
       "<style scoped>\n",
       "    .dataframe tbody tr th:only-of-type {\n",
       "        vertical-align: middle;\n",
       "    }\n",
       "\n",
       "    .dataframe tbody tr th {\n",
       "        vertical-align: top;\n",
       "    }\n",
       "\n",
       "    .dataframe thead th {\n",
       "        text-align: right;\n",
       "    }\n",
       "</style>\n",
       "<table border=\"1\" class=\"dataframe\">\n",
       "  <thead>\n",
       "    <tr style=\"text-align: right;\">\n",
       "      <th></th>\n",
       "      <th>enclosure</th>\n",
       "      <th>identifier</th>\n",
       "      <th>self</th>\n",
       "      <th>startdate</th>\n",
       "      <th>wkt</th>\n",
       "      <th>aoi_intersection</th>\n",
       "    </tr>\n",
       "  </thead>\n",
       "  <tbody>\n",
       "    <tr>\n",
       "      <th>0</th>\n",
       "      <td>https://store.terradue.com/download/sentinel1/...</td>\n",
       "      <td>S1A_EW_GRDM_1SSH_20160721T114238_20160721T1143...</td>\n",
       "      <td>https://catalog.terradue.com/sentinel1/search?...</td>\n",
       "      <td>2016-07-21 11:42:38.366752</td>\n",
       "      <td>POLYGON ((-46.314613 80.45603199999999, -67.94...</td>\n",
       "      <td>36.810757</td>\n",
       "    </tr>\n",
       "    <tr>\n",
       "      <th>1</th>\n",
       "      <td>https://store.terradue.com/download/sentinel1/...</td>\n",
       "      <td>S1A_EW_GRDM_1SSH_20160826T114240_20160826T1143...</td>\n",
       "      <td>https://catalog.terradue.com/sentinel1/search?...</td>\n",
       "      <td>2016-08-26 11:42:40.289788</td>\n",
       "      <td>POLYGON ((-46.307064 80.454826, -67.9306870000...</td>\n",
       "      <td>36.788618</td>\n",
       "    </tr>\n",
       "    <tr>\n",
       "      <th>2</th>\n",
       "      <td>https://store.terradue.com/download/sentinel1/...</td>\n",
       "      <td>S1A_EW_GRDM_1SDH_20160123T114236_20160123T1143...</td>\n",
       "      <td>https://catalog.terradue.com/sentinel1/search?...</td>\n",
       "      <td>2016-01-23 11:42:36.096670</td>\n",
       "      <td>POLYGON ((-47.054169 80.258202, -68.551834 82....</td>\n",
       "      <td>11.612867</td>\n",
       "    </tr>\n",
       "  </tbody>\n",
       "</table>\n",
       "</div>"
      ],
      "text/plain": [
       "                                           enclosure  \\\n",
       "0  https://store.terradue.com/download/sentinel1/...   \n",
       "1  https://store.terradue.com/download/sentinel1/...   \n",
       "2  https://store.terradue.com/download/sentinel1/...   \n",
       "\n",
       "                                          identifier  \\\n",
       "0  S1A_EW_GRDM_1SSH_20160721T114238_20160721T1143...   \n",
       "1  S1A_EW_GRDM_1SSH_20160826T114240_20160826T1143...   \n",
       "2  S1A_EW_GRDM_1SDH_20160123T114236_20160123T1143...   \n",
       "\n",
       "                                                self  \\\n",
       "0  https://catalog.terradue.com/sentinel1/search?...   \n",
       "1  https://catalog.terradue.com/sentinel1/search?...   \n",
       "2  https://catalog.terradue.com/sentinel1/search?...   \n",
       "\n",
       "                   startdate  \\\n",
       "0 2016-07-21 11:42:38.366752   \n",
       "1 2016-08-26 11:42:40.289788   \n",
       "2 2016-01-23 11:42:36.096670   \n",
       "\n",
       "                                                 wkt  aoi_intersection  \n",
       "0  POLYGON ((-46.314613 80.45603199999999, -67.94...         36.810757  \n",
       "1  POLYGON ((-46.307064 80.454826, -67.9306870000...         36.788618  \n",
       "2  POLYGON ((-47.054169 80.258202, -68.551834 82....         11.612867  "
      ]
     },
     "execution_count": 15,
     "metadata": {},
     "output_type": "execute_result"
    }
   ],
   "source": [
    "results"
   ]
  },
  {
   "cell_type": "code",
   "execution_count": 16,
   "metadata": {},
   "outputs": [],
   "source": [
    "def stage_in(row):\n",
    "    \n",
    "    local_path = ciop.copy(row['enclosure'], extract=False, target='/data2')\n",
    "    row['local_path'] = local_path\n",
    "        \n",
    "    return row \n",
    "    "
   ]
  },
  {
   "cell_type": "code",
   "execution_count": 18,
   "metadata": {},
   "outputs": [
    {
     "ename": "Exception",
     "evalue": "(\"subprocess returned: 1\\n2018-11-19T12:16:44 [INFO   ][ciop-copy][starting] url 'https://store.terradue.com/download/sentinel1/files/v1/S1A_EW_GRDM_1SSH_20160721T114238_20160721T114338_012246_013063_933F' > local '/data2/'\\n2018-11-19T12:33:02 [WARN  ][ciop-copy][failed] url 'https://store.terradue.com/download/sentinel1/files/v1/S1A_EW_GRDM_1SSH_20160721T114238_20160721T114338_012246_013063_933F' not found\\n2018-11-19T12:33:02 [INFO  ][ciop-copy][info] attempting https://store.terradue.com/download/sentinel1/files/v1/S1A_EW_GRDM_1SSH_20160721T114238_20160721T114338_012246_013063_933F.gz\\n2018-11-19T12:33:02 [INFO   ][ciop-copy][starting] url 'https://store.terradue.com/download/sentinel1/files/v1/S1A_EW_GRDM_1SSH_20160721T114238_20160721T114338_012246_013063_933F.gz' > local '/data2/'\\nbasename: missing operand\\nTry `basename --help' for more information.\\n2018-11-19T12:33:02 [ERROR  ][ciop-copy][failed] url 'https://store.terradue.com/download/sentinel1/files/v1/S1A_EW_GRDM_1SSH_20160721T114238_20160721T114338_012246_013063_933F.gz' not found\\n\", u'occurred at index 0')",
     "output_type": "error",
     "traceback": [
      "\u001b[0;31m\u001b[0m",
      "\u001b[0;31mException\u001b[0mTraceback (most recent call last)",
      "\u001b[0;32m<ipython-input-18-82c28cf215bb>\u001b[0m in \u001b[0;36m<module>\u001b[0;34m()\u001b[0m\n\u001b[0;32m----> 1\u001b[0;31m \u001b[0mresults\u001b[0m \u001b[0;34m=\u001b[0m \u001b[0mresults\u001b[0m\u001b[0;34m.\u001b[0m\u001b[0mapply\u001b[0m\u001b[0;34m(\u001b[0m\u001b[0;32mlambda\u001b[0m \u001b[0mrow\u001b[0m\u001b[0;34m:\u001b[0m \u001b[0mstage_in\u001b[0m\u001b[0;34m(\u001b[0m\u001b[0mrow\u001b[0m\u001b[0;34m)\u001b[0m\u001b[0;34m,\u001b[0m \u001b[0maxis\u001b[0m\u001b[0;34m=\u001b[0m\u001b[0;36m1\u001b[0m\u001b[0;34m)\u001b[0m\u001b[0;34m\u001b[0m\u001b[0m\n\u001b[0m",
      "\u001b[0;32m/opt/anaconda/lib/python2.7/site-packages/pandas/core/frame.pyc\u001b[0m in \u001b[0;36mapply\u001b[0;34m(self, func, axis, broadcast, raw, reduce, args, **kwds)\u001b[0m\n\u001b[1;32m   4875\u001b[0m                         \u001b[0mf\u001b[0m\u001b[0;34m,\u001b[0m \u001b[0maxis\u001b[0m\u001b[0;34m,\u001b[0m\u001b[0;34m\u001b[0m\u001b[0m\n\u001b[1;32m   4876\u001b[0m                         \u001b[0mreduce\u001b[0m\u001b[0;34m=\u001b[0m\u001b[0mreduce\u001b[0m\u001b[0;34m,\u001b[0m\u001b[0;34m\u001b[0m\u001b[0m\n\u001b[0;32m-> 4877\u001b[0;31m                         ignore_failures=ignore_failures)\n\u001b[0m\u001b[1;32m   4878\u001b[0m             \u001b[0;32melse\u001b[0m\u001b[0;34m:\u001b[0m\u001b[0;34m\u001b[0m\u001b[0m\n\u001b[1;32m   4879\u001b[0m                 \u001b[0;32mreturn\u001b[0m \u001b[0mself\u001b[0m\u001b[0;34m.\u001b[0m\u001b[0m_apply_broadcast\u001b[0m\u001b[0;34m(\u001b[0m\u001b[0mf\u001b[0m\u001b[0;34m,\u001b[0m \u001b[0maxis\u001b[0m\u001b[0;34m)\u001b[0m\u001b[0;34m\u001b[0m\u001b[0m\n",
      "\u001b[0;32m/opt/anaconda/lib/python2.7/site-packages/pandas/core/frame.pyc\u001b[0m in \u001b[0;36m_apply_standard\u001b[0;34m(self, func, axis, ignore_failures, reduce)\u001b[0m\n\u001b[1;32m   4971\u001b[0m             \u001b[0;32mtry\u001b[0m\u001b[0;34m:\u001b[0m\u001b[0;34m\u001b[0m\u001b[0m\n\u001b[1;32m   4972\u001b[0m                 \u001b[0;32mfor\u001b[0m \u001b[0mi\u001b[0m\u001b[0;34m,\u001b[0m \u001b[0mv\u001b[0m \u001b[0;32min\u001b[0m \u001b[0menumerate\u001b[0m\u001b[0;34m(\u001b[0m\u001b[0mseries_gen\u001b[0m\u001b[0;34m)\u001b[0m\u001b[0;34m:\u001b[0m\u001b[0;34m\u001b[0m\u001b[0m\n\u001b[0;32m-> 4973\u001b[0;31m                     \u001b[0mresults\u001b[0m\u001b[0;34m[\u001b[0m\u001b[0mi\u001b[0m\u001b[0;34m]\u001b[0m \u001b[0;34m=\u001b[0m \u001b[0mfunc\u001b[0m\u001b[0;34m(\u001b[0m\u001b[0mv\u001b[0m\u001b[0;34m)\u001b[0m\u001b[0;34m\u001b[0m\u001b[0m\n\u001b[0m\u001b[1;32m   4974\u001b[0m                     \u001b[0mkeys\u001b[0m\u001b[0;34m.\u001b[0m\u001b[0mappend\u001b[0m\u001b[0;34m(\u001b[0m\u001b[0mv\u001b[0m\u001b[0;34m.\u001b[0m\u001b[0mname\u001b[0m\u001b[0;34m)\u001b[0m\u001b[0;34m\u001b[0m\u001b[0m\n\u001b[1;32m   4975\u001b[0m             \u001b[0;32mexcept\u001b[0m \u001b[0mException\u001b[0m \u001b[0;32mas\u001b[0m \u001b[0me\u001b[0m\u001b[0;34m:\u001b[0m\u001b[0;34m\u001b[0m\u001b[0m\n",
      "\u001b[0;32m<ipython-input-18-82c28cf215bb>\u001b[0m in \u001b[0;36m<lambda>\u001b[0;34m(row)\u001b[0m\n\u001b[0;32m----> 1\u001b[0;31m \u001b[0mresults\u001b[0m \u001b[0;34m=\u001b[0m \u001b[0mresults\u001b[0m\u001b[0;34m.\u001b[0m\u001b[0mapply\u001b[0m\u001b[0;34m(\u001b[0m\u001b[0;32mlambda\u001b[0m \u001b[0mrow\u001b[0m\u001b[0;34m:\u001b[0m \u001b[0mstage_in\u001b[0m\u001b[0;34m(\u001b[0m\u001b[0mrow\u001b[0m\u001b[0;34m)\u001b[0m\u001b[0;34m,\u001b[0m \u001b[0maxis\u001b[0m\u001b[0;34m=\u001b[0m\u001b[0;36m1\u001b[0m\u001b[0;34m)\u001b[0m\u001b[0;34m\u001b[0m\u001b[0m\n\u001b[0m",
      "\u001b[0;32m<ipython-input-16-560c56f5f147>\u001b[0m in \u001b[0;36mstage_in\u001b[0;34m(row)\u001b[0m\n\u001b[1;32m      1\u001b[0m \u001b[0;32mdef\u001b[0m \u001b[0mstage_in\u001b[0m\u001b[0;34m(\u001b[0m\u001b[0mrow\u001b[0m\u001b[0;34m)\u001b[0m\u001b[0;34m:\u001b[0m\u001b[0;34m\u001b[0m\u001b[0m\n\u001b[1;32m      2\u001b[0m \u001b[0;34m\u001b[0m\u001b[0m\n\u001b[0;32m----> 3\u001b[0;31m     \u001b[0mlocal_path\u001b[0m \u001b[0;34m=\u001b[0m \u001b[0mciop\u001b[0m\u001b[0;34m.\u001b[0m\u001b[0mcopy\u001b[0m\u001b[0;34m(\u001b[0m\u001b[0mrow\u001b[0m\u001b[0;34m[\u001b[0m\u001b[0;34m'enclosure'\u001b[0m\u001b[0;34m]\u001b[0m\u001b[0;34m,\u001b[0m \u001b[0mextract\u001b[0m\u001b[0;34m=\u001b[0m\u001b[0mFalse\u001b[0m\u001b[0;34m,\u001b[0m \u001b[0mtarget\u001b[0m\u001b[0;34m=\u001b[0m\u001b[0;34m'/data2'\u001b[0m\u001b[0;34m)\u001b[0m\u001b[0;34m\u001b[0m\u001b[0m\n\u001b[0m\u001b[1;32m      4\u001b[0m     \u001b[0mrow\u001b[0m\u001b[0;34m[\u001b[0m\u001b[0;34m'local_path'\u001b[0m\u001b[0;34m]\u001b[0m \u001b[0;34m=\u001b[0m \u001b[0mlocal_path\u001b[0m\u001b[0;34m\u001b[0m\u001b[0m\n\u001b[1;32m      5\u001b[0m \u001b[0;34m\u001b[0m\u001b[0m\n",
      "\u001b[0;32m/opt/anaconda/lib/python2.7/site-packages/cioppy/cioppy.pyc\u001b[0m in \u001b[0;36mcopy\u001b[0;34m(self, urls, target, extract)\u001b[0m\n\u001b[1;32m    145\u001b[0m \u001b[0;34m\u001b[0m\u001b[0m\n\u001b[1;32m    146\u001b[0m         \u001b[0;32mif\u001b[0m \u001b[0mp\u001b[0m\u001b[0;34m.\u001b[0m\u001b[0mreturncode\u001b[0m\u001b[0;34m:\u001b[0m\u001b[0;34m\u001b[0m\u001b[0m\n\u001b[0;32m--> 147\u001b[0;31m             \u001b[0;32mraise\u001b[0m \u001b[0mException\u001b[0m\u001b[0;34m(\u001b[0m\u001b[0;34m'subprocess returned: '\u001b[0m \u001b[0;34m+\u001b[0m \u001b[0mstr\u001b[0m\u001b[0;34m(\u001b[0m\u001b[0mp\u001b[0m\u001b[0;34m.\u001b[0m\u001b[0mreturncode\u001b[0m\u001b[0;34m)\u001b[0m \u001b[0;34m+\u001b[0m \u001b[0;34m'\\n'\u001b[0m \u001b[0;34m+\u001b[0m \u001b[0merr\u001b[0m \u001b[0;34m)\u001b[0m\u001b[0;34m\u001b[0m\u001b[0m\n\u001b[0m\u001b[1;32m    148\u001b[0m \u001b[0;34m\u001b[0m\u001b[0m\n\u001b[1;32m    149\u001b[0m         \u001b[0;32mreturn\u001b[0m \u001b[0mres\u001b[0m\u001b[0;34m.\u001b[0m\u001b[0mrstrip\u001b[0m\u001b[0;34m(\u001b[0m\u001b[0;34m'\\n'\u001b[0m\u001b[0;34m)\u001b[0m\u001b[0;34m\u001b[0m\u001b[0m\n",
      "\u001b[0;31mException\u001b[0m: (\"subprocess returned: 1\\n2018-11-19T12:16:44 [INFO   ][ciop-copy][starting] url 'https://store.terradue.com/download/sentinel1/files/v1/S1A_EW_GRDM_1SSH_20160721T114238_20160721T114338_012246_013063_933F' > local '/data2/'\\n2018-11-19T12:33:02 [WARN  ][ciop-copy][failed] url 'https://store.terradue.com/download/sentinel1/files/v1/S1A_EW_GRDM_1SSH_20160721T114238_20160721T114338_012246_013063_933F' not found\\n2018-11-19T12:33:02 [INFO  ][ciop-copy][info] attempting https://store.terradue.com/download/sentinel1/files/v1/S1A_EW_GRDM_1SSH_20160721T114238_20160721T114338_012246_013063_933F.gz\\n2018-11-19T12:33:02 [INFO   ][ciop-copy][starting] url 'https://store.terradue.com/download/sentinel1/files/v1/S1A_EW_GRDM_1SSH_20160721T114238_20160721T114338_012246_013063_933F.gz' > local '/data2/'\\nbasename: missing operand\\nTry `basename --help' for more information.\\n2018-11-19T12:33:02 [ERROR  ][ciop-copy][failed] url 'https://store.terradue.com/download/sentinel1/files/v1/S1A_EW_GRDM_1SSH_20160721T114238_20160721T114338_012246_013063_933F.gz' not found\\n\", u'occurred at index 0')"
     ]
    }
   ],
   "source": [
    "results = results.apply(lambda row: stage_in(row), axis=1)"
   ]
  },
  {
   "cell_type": "code",
   "execution_count": null,
   "metadata": {
    "collapsed": false
   },
   "outputs": [],
   "source": [
    "results"
   ]
  },
  {
   "cell_type": "markdown",
   "metadata": {},
   "source": [
    "### Process sigma0"
   ]
  },
  {
   "cell_type": "code",
   "execution_count": null,
   "metadata": {},
   "outputs": [],
   "source": [
    "def sigma0(row, aoi):\n",
    "    \n",
    "    local_path = row['local_path']\n",
    "    identifier = row['identifier']\n",
    "    \n",
    "    mygraph = ellip_snap_helpers.GraphProcessor()\n",
    "    \n",
    "    operator = 'Read'\n",
    "    parameters = ellip_snap_helpers.get_operator_default_parameters(operator)\n",
    "    parameters['file'] = local_path \n",
    "    mygraph.add_node(operator,\n",
    "                     operator, \n",
    "                     parameters,\n",
    "                     '') \n",
    "    \n",
    "    operator = 'ThermalNoiseRemoval'\n",
    "    parameters = ellip_snap_helpers.get_operator_default_parameters(operator)\n",
    "    mygraph.add_node(operator,\n",
    "                     operator,\n",
    "                     parameters,\n",
    "                     'Read')\n",
    "    \n",
    "\n",
    "    operator = 'Apply-Orbit-File'\n",
    "    parameters = ellip_snap_helpers.get_operator_default_parameters(operator)\n",
    "    mygraph.add_node(operator, \n",
    "                     operator, \n",
    "                     parameters, \n",
    "                     'ThermalNoiseRemoval')\n",
    "\n",
    "\n",
    "\n",
    "    operator = 'Calibration'\n",
    "    parameters = ellip_snap_helpers.get_operator_default_parameters(operator)\n",
    "    mygraph.add_node(operator,\n",
    "                     operator,\n",
    "                     parameters, \n",
    "                     'Apply-Orbit-File')\n",
    "\n",
    "\n",
    "    operator = 'Speckle-Filter'\n",
    "    parameters = ellip_snap_helpers.get_operator_default_parameters(operator)\n",
    "    mygraph.add_node(operator, \n",
    "                     operator,\n",
    "                     parameters, \n",
    "                     'Calibration')\n",
    "\n",
    "\n",
    "    operator = 'Multilook'\n",
    "    parameters = ellip_snap_helpers.get_operator_default_parameters(operator)\n",
    "    mygraph.add_node(operator,\n",
    "                     operator,\n",
    "                     parameters,\n",
    "                     'Speckle-Filter')\n",
    "\n",
    "\n",
    "    operator = 'LinearToFromdB'\n",
    "    parameters = ellip_snap_helpers.get_operator_default_parameters(operator)\n",
    "    mygraph.add_node(operator,\n",
    "                     operator,\n",
    "                     parameters,\n",
    "                     'Multilook')\n",
    "\n",
    "\n",
    "    operator = 'Terrain-Correction'\n",
    "\n",
    "    map_proj = \"\"\"PROJCS[\"WGS 84 / North Pole LAEA Europe\",\n",
    "    GEOGCS[\"WGS 84\",\n",
    "        DATUM[\"WGS_1984\",\n",
    "            SPHEROID[\"WGS 84\",6378137,298.257223563,\n",
    "                AUTHORITY[\"EPSG\",\"7030\"]],\n",
    "            AUTHORITY[\"EPSG\",\"6326\"]],\n",
    "        PRIMEM[\"Greenwich\",0,\n",
    "            AUTHORITY[\"EPSG\",\"8901\"]],\n",
    "        UNIT[\"degree\",0.0174532925199433,\n",
    "            AUTHORITY[\"EPSG\",\"9122\"]],\n",
    "        AUTHORITY[\"EPSG\",\"4326\"]],\n",
    "    PROJECTION[\"Lambert_Azimuthal_Equal_Area\"],\n",
    "    PARAMETER[\"latitude_of_center\",90],\n",
    "    PARAMETER[\"longitude_of_center\",10],\n",
    "    PARAMETER[\"false_easting\",0],\n",
    "    PARAMETER[\"false_northing\",0],\n",
    "    UNIT[\"metre\",1,\n",
    "        AUTHORITY[\"EPSG\",\"9001\"]],\n",
    "    AXIS[\"X\",EAST],\n",
    "    AXIS[\"Y\",NORTH],\n",
    "    AUTHORITY[\"EPSG\",\"3575\"]]\"\"\"\n",
    "\n",
    "    parameters = ellip_snap_helpers.get_operator_default_parameters(operator)\n",
    "    parameters['demName'] = 'ACE30'  \n",
    "    parameters['saveDEM'] = 'true'\n",
    "    parameters['mapProjection'] = map_proj\n",
    "    parameters['nodataValueAtSea'] = 'false'   \n",
    "                \n",
    "\n",
    "    mygraph.add_node(operator,\n",
    "                     operator,\n",
    "                     parameters,\n",
    "                     'LinearToFromdB')\n",
    "\n",
    "    operator = 'Subset'\n",
    "    parameters = ellip_snap_helpers.get_operator_default_parameters(operator)\n",
    "    parameters['geoRegion'] = aoi \n",
    "\n",
    "    mygraph.add_node(operator,\n",
    "                     operator,\n",
    "                     parameters,\n",
    "                     'Terrain-Correction')\n",
    "\n",
    "\n",
    "    operator = 'Write'\n",
    "    \n",
    "    output_name = 'SIGMA0_%s' % identifier\n",
    "    \n",
    "    parameters = ellip_snap_helpers.get_operator_default_parameters(operator)\n",
    "    parameters['file'] = output_name\n",
    "    parameters['formatName'] = 'GeoTIFF-BigTiff'\n",
    "    mygraph.add_node(operator,\n",
    "                     operator,\n",
    "                     parameters,\n",
    "                     'Subset')\n",
    "\n",
    "    mygraph.run()\n",
    "    \n",
    "    row['sigma0'] = output_name + '.tif'\n",
    "    \n",
    "    return row"
   ]
  },
  {
   "cell_type": "code",
   "execution_count": null,
   "metadata": {},
   "outputs": [],
   "source": [
    "results = results.apply(lambda row: sigma0(row, extended_aoi), axis=1)"
   ]
  },
  {
   "cell_type": "code",
   "execution_count": null,
   "metadata": {},
   "outputs": [],
   "source": [
    "results"
   ]
  },
  {
   "cell_type": "code",
   "execution_count": null,
   "metadata": {},
   "outputs": [],
   "source": [
    "sigma0s = list(results['sigma0'].values)"
   ]
  },
  {
   "cell_type": "code",
   "execution_count": null,
   "metadata": {},
   "outputs": [],
   "source": [
    "sigma0s"
   ]
  },
  {
   "cell_type": "code",
   "execution_count": null,
   "metadata": {},
   "outputs": [],
   "source": [
    "ds = gdal.Open(sigma0s[0])\n",
    "\n",
    "geo_transform = ds.GetGeoTransform()\n",
    "proj = ds.GetProjection()\n",
    "\n",
    "srs=osr.SpatialReference(wkt=proj)\n",
    "\n",
    "w = ds.GetRasterBand(1).XSize\n",
    "h = ds.GetRasterBand(1).YSize\n",
    "\n",
    "ds = None"
   ]
  },
  {
   "cell_type": "code",
   "execution_count": null,
   "metadata": {},
   "outputs": [],
   "source": [
    "bands = []\n",
    "\n",
    "min_db = -26\n",
    "max_db = 6\n",
    "\n",
    "rgb_name = 'multitemporal_rgb' + '.tif'\n",
    "    \n",
    "options = ['PHOTOMETRIC=RGB', 'PROFILE=GeoTIFF']\n",
    "    \n",
    "dst_ds = gdal.GetDriverByName('GTiff').Create(rgb_name, w, h, 3, gdal.GDT_Byte, options=options)\n",
    "    \n",
    "dst_ds.SetGeoTransform(geo_transform)   \n",
    " \n",
    "dst_ds.SetProjection(srs.ExportToWkt()) \n",
    "\n",
    "for index, tif in enumerate(sigma0s):\n",
    "    \n",
    "    raster = gdal.Open(tif)\n",
    "    band = raster.GetRasterBand(1)\n",
    "    array = band.ReadAsArray(0, 0, w, h)\n",
    "    \n",
    "    band_dest = (array * 255 / (max_db - min_db))\n",
    "    \n",
    "    bands.append(band_dest)\n",
    "    \n",
    "    dst_ds.GetRasterBand(index + 1).WriteArray(band_dest.astype(np.uint8))\n",
    "    \n",
    "dst_ds.FlushCache()                    \n",
    "dst_ds = None"
   ]
  },
  {
   "cell_type": "code",
   "execution_count": null,
   "metadata": {},
   "outputs": [],
   "source": [
    "rgb_uint8 = np.dstack(bands).astype(np.uint8) \n",
    "\n",
    "width = 20\n",
    "height = 20\n",
    "plt.figure(figsize=(width, height))\n",
    "img = Image.fromarray(rgb_uint8)\n",
    "imgplot = plt.imshow(img)"
   ]
  },
  {
   "cell_type": "code",
   "execution_count": null,
   "metadata": {
    "collapsed": true
   },
   "outputs": [],
   "source": []
  }
 ],
 "metadata": {
  "kernelspec": {
   "display_name": "Python [default]",
   "language": "python",
   "name": "python2"
  },
  "language_info": {
   "codemirror_mode": {
    "name": "ipython",
    "version": 2
   },
   "file_extension": ".py",
   "mimetype": "text/x-python",
   "name": "python",
   "nbconvert_exporter": "python",
   "pygments_lexer": "ipython2",
   "version": "2.7.12"
  }
 },
 "nbformat": 4,
 "nbformat_minor": 2
}
