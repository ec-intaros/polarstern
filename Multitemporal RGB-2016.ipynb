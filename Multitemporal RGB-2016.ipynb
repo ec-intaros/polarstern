{
 "cells": [
  {
   "cell_type": "markdown",
   "metadata": {},
   "source": [
    "## Multitemporal RGB composite 2017"
   ]
  },
  {
   "cell_type": "markdown",
   "metadata": {},
   "source": [
    "### Import the Python packages"
   ]
  },
  {
   "cell_type": "code",
   "execution_count": 25,
   "metadata": {
    "collapsed": true
   },
   "outputs": [
    {
     "name": "stdout",
     "output_type": "stream",
     "text": [
      "The autoreload extension is already loaded. To reload it, use:\n",
      "  %reload_ext autoreload\n"
     ]
    }
   ],
   "source": [
    "%matplotlib inline\n",
    "\n",
    "import warnings\n",
    "warnings.filterwarnings(\"ignore\")\n",
    "import os\n",
    "import sys\n",
    "import glob\n",
    "os.environ['_CIOP_APPLICATION_PATH']=''\n",
    "sys.path.append('/opt/anaconda/bin/')\n",
    "import cioppy\n",
    "ciop = cioppy.Cioppy()\n",
    "\n",
    "import numpy as np\n",
    "import matplotlib\n",
    "import matplotlib.pyplot as plt\n",
    "import matplotlib.colors as colors\n",
    "\n",
    "from snappy import jpy\n",
    "from snappy import ProductIO\n",
    "from snappy import GPF\n",
    "from snappy import HashMap\n",
    "\n",
    "import gc\n",
    "\n",
    "from shapely.wkt import loads \n",
    "from shapely.geometry import box\n",
    "from shapely.geometry import Point\n",
    "from shapely import geometry\n",
    "\n",
    "import osr\n",
    "import ogr\n",
    "\n",
    "import gdal\n",
    "from geopandas import GeoDataFrame\n",
    "import pandas as pd\n",
    "\n",
    "sys.path.append(os.getcwd())\n",
    "import ellip_snap_helpers\n",
    "\n",
    "from PIL import Image\n",
    "\n",
    "%load_ext autoreload\n",
    "%autoreload 2"
   ]
  },
  {
   "cell_type": "markdown",
   "metadata": {},
   "source": [
    "### Search parameters"
   ]
  },
  {
   "cell_type": "markdown",
   "metadata": {},
   "source": [
    "Set the catalogue endpoint to Sentinel-1:"
   ]
  },
  {
   "cell_type": "code",
   "execution_count": 26,
   "metadata": {
    "collapsed": true
   },
   "outputs": [],
   "source": [
    "series = 'https://catalog.terradue.com/sentinel1/search'"
   ]
  },
  {
   "cell_type": "markdown",
   "metadata": {},
   "source": [
    "Define the time of interest:"
   ]
  },
  {
   "cell_type": "code",
   "execution_count": 27,
   "metadata": {},
   "outputs": [],
   "source": [
    "tois = {'winter': { 'start_date': '2017-01-01T00:00:00', 'stop_date': '2017-01-31T23:59:59' },\n",
    "        'mid_summer': { 'start_date': '2017-07-01T00:00:00', 'stop_date': '2017-07-31T23:59:59' },\n",
    "        'late_summer': { 'start_date': '2017-08-15T00:00:00', 'stop_date': '2017-08-31T23:59:59' }}"
   ]
  },
  {
   "cell_type": "code",
   "execution_count": 28,
   "metadata": {},
   "outputs": [
    {
     "name": "stdout",
     "output_type": "stream",
     "text": [
      "mid_summer 2017-07-01T00:00:00 2017-07-31T23:59:59\n",
      "late_summer 2017-08-15T00:00:00 2017-08-31T23:59:59\n",
      "winter 2017-01-01T00:00:00 2017-01-31T23:59:59\n"
     ]
    }
   ],
   "source": [
    "for index, toi in enumerate(tois):\n",
    "    \n",
    "    print toi, tois[toi]['start_date'], tois[toi]['stop_date']"
   ]
  },
  {
   "cell_type": "markdown",
   "metadata": {},
   "source": [
    "Define the area of interest:"
   ]
  },
  {
   "cell_type": "code",
   "execution_count": 29,
   "metadata": {},
   "outputs": [],
   "source": [
    "def extend_aoi(center_x, center_y, extent):\n",
    "    \n",
    "    polar_epsg = 3575 # 3995\n",
    "    latlon_epsg = 4326\n",
    "    \n",
    "    center_polar = loads(convert_coords(latlon_epsg, polar_epsg, Point(center_x, center_y).wkt))\n",
    "    \n",
    "    ll = convert_coords(polar_epsg, latlon_epsg, Point(center_polar.x - extent,  center_polar.y - extent).wkt)\n",
    "    lr = convert_coords(polar_epsg, latlon_epsg, Point(center_polar.x + extent,  center_polar.y - extent).wkt)\n",
    "    ur = convert_coords(polar_epsg, latlon_epsg, Point(center_polar.x + extent,  center_polar.y + extent).wkt)\n",
    "    ul = convert_coords(polar_epsg, latlon_epsg, Point(center_polar.x - extent,  center_polar.y + extent).wkt)\n",
    "\n",
    "\n",
    "    pointList = [loads(ll),\n",
    "             loads(lr), \n",
    "             loads(ur), \n",
    "             loads(ul), \n",
    "             loads(ll)]\n",
    "\n",
    "    extended_aoi = geometry.Polygon([[p.x, p.y] for p in pointList]).wkt\n",
    "    \n",
    "    return extended_aoi"
   ]
  },
  {
   "cell_type": "code",
   "execution_count": 30,
   "metadata": {},
   "outputs": [],
   "source": [
    "def convert_coords(source_epsg, target_epsg, geom):\n",
    "\n",
    "    source = osr.SpatialReference()\n",
    "    source.ImportFromEPSG(source_epsg)\n",
    "\n",
    "    target = osr.SpatialReference()\n",
    "    target.ImportFromEPSG(target_epsg)\n",
    "\n",
    "    transform = osr.CoordinateTransformation(source, target)\n",
    "\n",
    "    point = ogr.CreateGeometryFromWkt(geom)\n",
    "    point.Transform(transform)\n",
    "\n",
    "    return point.ExportToWkt()"
   ]
  },
  {
   "cell_type": "code",
   "execution_count": 31,
   "metadata": {},
   "outputs": [],
   "source": [
    "poi = loads('POINT (-35.3 83.90000000000001)')"
   ]
  },
  {
   "cell_type": "code",
   "execution_count": 32,
   "metadata": {},
   "outputs": [
    {
     "data": {
      "text/plain": [
       "'POLYGON ((-35.2717796499525 83.2658579085283, -29.3687708669507 83.8704727024008, -35.334759858866 84.53393836008161, -41.2248291287458 83.8638684209569, -35.2717796499525 83.2658579085283))'"
      ]
     },
     "execution_count": 32,
     "metadata": {},
     "output_type": "execute_result"
    }
   ],
   "source": [
    "extended_aoi = extend_aoi(poi.x, poi.y, 50000)\n",
    "\n",
    "extended_aoi"
   ]
  },
  {
   "cell_type": "markdown",
   "metadata": {},
   "source": [
    "### Build and submit the catalog search\n"
   ]
  },
  {
   "cell_type": "code",
   "execution_count": 34,
   "metadata": {
    "collapsed": false
   },
   "outputs": [
    {
     "name": "stdout",
     "output_type": "stream",
     "text": [
      "mid_summer\n",
      "{'count': 1, 'psn': 'S1A', 'pt': 'GRD', 'track': '74', 'stop': '2017-07-31T23:59:59', 'start': '2017-07-01T00:00:00', 'geom': 'POLYGON ((-35.2717796499525 83.2658579085283, -29.3687708669507 83.8704727024008, -35.334759858866 84.53393836008161, -41.2248291287458 83.8638684209569, -35.2717796499525 83.2658579085283))'}\n",
      "S1A_IW_GRDH_1SDH_20170726T183119_20170726T183146_017646_01D89E_770E\n",
      "late_summer\n",
      "{'count': 1, 'psn': 'S1A', 'pt': 'GRD', 'track': '74', 'stop': '2017-08-31T23:59:59', 'start': '2017-08-15T00:00:00', 'geom': 'POLYGON ((-35.2717796499525 83.2658579085283, -29.3687708669507 83.8704727024008, -35.334759858866 84.53393836008161, -41.2248291287458 83.8638684209569, -35.2717796499525 83.2658579085283))'}\n",
      "S1A_IW_GRDH_1SDH_20170831T183121_20170831T183148_018171_01E882_C807\n",
      "winter\n",
      "{'count': 1, 'psn': 'S1A', 'pt': 'GRD', 'track': '74', 'stop': '2017-01-31T23:59:59', 'start': '2017-01-01T00:00:00', 'geom': 'POLYGON ((-35.2717796499525 83.2658579085283, -29.3687708669507 83.8704727024008, -35.334759858866 84.53393836008161, -41.2248291287458 83.8638684209569, -35.2717796499525 83.2658579085283))'}\n",
      "S1A_IW_GRDH_1SSH_20170127T183112_20170127T183139_015021_01889A_ACBF\n"
     ]
    }
   ],
   "source": [
    "results = []\n",
    "\n",
    "for index, toi in enumerate(tois):\n",
    "    \n",
    "    print toi\n",
    "    \n",
    "    search_params = dict([('geom', extended_aoi),\n",
    "                          ('start', tois[toi]['start_date']),\n",
    "                          ('stop', tois[toi]['stop_date']),\n",
    "                          ('track', '74'),\n",
    "                          ('pt', 'GRD'),\n",
    "                          ('psn', 'S1A'),\n",
    "                          ('count', 1)])\n",
    "    \n",
    "    print search_params\n",
    "\n",
    "    search = ciop.search(end_point = series,\n",
    "                     params = search_params,\n",
    "                     output_fields='self,enclosure,identifier,startdate,wkt', \n",
    "                     model='GeoTime')\n",
    "    \n",
    "    print search[0]['identifier']    \n",
    "    results.append(search[0])\n",
    "\n",
    "results = GeoDataFrame(results)"
   ]
  },
  {
   "cell_type": "code",
   "execution_count": 35,
   "metadata": {},
   "outputs": [
    {
     "data": {
      "text/html": [
       "<div>\n",
       "<style scoped>\n",
       "    .dataframe tbody tr th:only-of-type {\n",
       "        vertical-align: middle;\n",
       "    }\n",
       "\n",
       "    .dataframe tbody tr th {\n",
       "        vertical-align: top;\n",
       "    }\n",
       "\n",
       "    .dataframe thead th {\n",
       "        text-align: right;\n",
       "    }\n",
       "</style>\n",
       "<table border=\"1\" class=\"dataframe\">\n",
       "  <thead>\n",
       "    <tr style=\"text-align: right;\">\n",
       "      <th></th>\n",
       "      <th>enclosure</th>\n",
       "      <th>identifier</th>\n",
       "      <th>self</th>\n",
       "      <th>startdate</th>\n",
       "      <th>wkt</th>\n",
       "    </tr>\n",
       "  </thead>\n",
       "  <tbody>\n",
       "    <tr>\n",
       "      <th>0</th>\n",
       "      <td>https://store.terradue.com/download/sentinel1/...</td>\n",
       "      <td>S1A_IW_GRDH_1SDH_20170726T183119_20170726T1831...</td>\n",
       "      <td>https://catalog.terradue.com/sentinel1/search?...</td>\n",
       "      <td>2017-07-26T18:31:19.4376280Z</td>\n",
       "      <td>POLYGON((-52.293312 83.079704,-35.494884 84.46...</td>\n",
       "    </tr>\n",
       "    <tr>\n",
       "      <th>1</th>\n",
       "      <td>https://store.terradue.com/download/sentinel1/...</td>\n",
       "      <td>S1A_IW_GRDH_1SDH_20170831T183121_20170831T1831...</td>\n",
       "      <td>https://catalog.terradue.com/sentinel1/search?...</td>\n",
       "      <td>2017-08-31T18:31:21.1632340Z</td>\n",
       "      <td>POLYGON((-52.299252 83.08004,-35.500076 84.465...</td>\n",
       "    </tr>\n",
       "    <tr>\n",
       "      <th>2</th>\n",
       "      <td>https://store.terradue.com/download/sentinel1/...</td>\n",
       "      <td>S1A_IW_GRDH_1SSH_20170127T183112_20170127T1831...</td>\n",
       "      <td>https://catalog.terradue.com/sentinel1/search?...</td>\n",
       "      <td>2017-01-27T18:31:12.9617610Z</td>\n",
       "      <td>POLYGON((-52.302452 83.079826,-35.50042 84.465...</td>\n",
       "    </tr>\n",
       "  </tbody>\n",
       "</table>\n",
       "</div>"
      ],
      "text/plain": [
       "                                           enclosure  \\\n",
       "0  https://store.terradue.com/download/sentinel1/...   \n",
       "1  https://store.terradue.com/download/sentinel1/...   \n",
       "2  https://store.terradue.com/download/sentinel1/...   \n",
       "\n",
       "                                          identifier  \\\n",
       "0  S1A_IW_GRDH_1SDH_20170726T183119_20170726T1831...   \n",
       "1  S1A_IW_GRDH_1SDH_20170831T183121_20170831T1831...   \n",
       "2  S1A_IW_GRDH_1SSH_20170127T183112_20170127T1831...   \n",
       "\n",
       "                                                self  \\\n",
       "0  https://catalog.terradue.com/sentinel1/search?...   \n",
       "1  https://catalog.terradue.com/sentinel1/search?...   \n",
       "2  https://catalog.terradue.com/sentinel1/search?...   \n",
       "\n",
       "                      startdate  \\\n",
       "0  2017-07-26T18:31:19.4376280Z   \n",
       "1  2017-08-31T18:31:21.1632340Z   \n",
       "2  2017-01-27T18:31:12.9617610Z   \n",
       "\n",
       "                                                 wkt  \n",
       "0  POLYGON((-52.293312 83.079704,-35.494884 84.46...  \n",
       "1  POLYGON((-52.299252 83.08004,-35.500076 84.465...  \n",
       "2  POLYGON((-52.302452 83.079826,-35.50042 84.465...  "
      ]
     },
     "execution_count": 35,
     "metadata": {},
     "output_type": "execute_result"
    }
   ],
   "source": [
    "results"
   ]
  },
  {
   "cell_type": "code",
   "execution_count": 36,
   "metadata": {},
   "outputs": [],
   "source": [
    "results['startdate'] = pd.to_datetime(results['startdate']) \n",
    "results['wkt'] = results['wkt'].apply(loads)"
   ]
  },
  {
   "cell_type": "code",
   "execution_count": 37,
   "metadata": {},
   "outputs": [
    {
     "data": {
      "text/html": [
       "<div>\n",
       "<style scoped>\n",
       "    .dataframe tbody tr th:only-of-type {\n",
       "        vertical-align: middle;\n",
       "    }\n",
       "\n",
       "    .dataframe tbody tr th {\n",
       "        vertical-align: top;\n",
       "    }\n",
       "\n",
       "    .dataframe thead th {\n",
       "        text-align: right;\n",
       "    }\n",
       "</style>\n",
       "<table border=\"1\" class=\"dataframe\">\n",
       "  <thead>\n",
       "    <tr style=\"text-align: right;\">\n",
       "      <th></th>\n",
       "      <th>enclosure</th>\n",
       "      <th>identifier</th>\n",
       "      <th>self</th>\n",
       "      <th>startdate</th>\n",
       "      <th>wkt</th>\n",
       "    </tr>\n",
       "  </thead>\n",
       "  <tbody>\n",
       "    <tr>\n",
       "      <th>0</th>\n",
       "      <td>https://store.terradue.com/download/sentinel1/...</td>\n",
       "      <td>S1A_IW_GRDH_1SDH_20170726T183119_20170726T1831...</td>\n",
       "      <td>https://catalog.terradue.com/sentinel1/search?...</td>\n",
       "      <td>2017-07-26 18:31:19.437628</td>\n",
       "      <td>POLYGON ((-52.293312 83.07970400000001, -35.49...</td>\n",
       "    </tr>\n",
       "    <tr>\n",
       "      <th>1</th>\n",
       "      <td>https://store.terradue.com/download/sentinel1/...</td>\n",
       "      <td>S1A_IW_GRDH_1SDH_20170831T183121_20170831T1831...</td>\n",
       "      <td>https://catalog.terradue.com/sentinel1/search?...</td>\n",
       "      <td>2017-08-31 18:31:21.163234</td>\n",
       "      <td>POLYGON ((-52.299252 83.08004, -35.500076 84.4...</td>\n",
       "    </tr>\n",
       "    <tr>\n",
       "      <th>2</th>\n",
       "      <td>https://store.terradue.com/download/sentinel1/...</td>\n",
       "      <td>S1A_IW_GRDH_1SSH_20170127T183112_20170127T1831...</td>\n",
       "      <td>https://catalog.terradue.com/sentinel1/search?...</td>\n",
       "      <td>2017-01-27 18:31:12.961761</td>\n",
       "      <td>POLYGON ((-52.302452 83.079826, -35.50042 84.4...</td>\n",
       "    </tr>\n",
       "  </tbody>\n",
       "</table>\n",
       "</div>"
      ],
      "text/plain": [
       "                                           enclosure  \\\n",
       "0  https://store.terradue.com/download/sentinel1/...   \n",
       "1  https://store.terradue.com/download/sentinel1/...   \n",
       "2  https://store.terradue.com/download/sentinel1/...   \n",
       "\n",
       "                                          identifier  \\\n",
       "0  S1A_IW_GRDH_1SDH_20170726T183119_20170726T1831...   \n",
       "1  S1A_IW_GRDH_1SDH_20170831T183121_20170831T1831...   \n",
       "2  S1A_IW_GRDH_1SSH_20170127T183112_20170127T1831...   \n",
       "\n",
       "                                                self  \\\n",
       "0  https://catalog.terradue.com/sentinel1/search?...   \n",
       "1  https://catalog.terradue.com/sentinel1/search?...   \n",
       "2  https://catalog.terradue.com/sentinel1/search?...   \n",
       "\n",
       "                   startdate  \\\n",
       "0 2017-07-26 18:31:19.437628   \n",
       "1 2017-08-31 18:31:21.163234   \n",
       "2 2017-01-27 18:31:12.961761   \n",
       "\n",
       "                                                 wkt  \n",
       "0  POLYGON ((-52.293312 83.07970400000001, -35.49...  \n",
       "1  POLYGON ((-52.299252 83.08004, -35.500076 84.4...  \n",
       "2  POLYGON ((-52.302452 83.079826, -35.50042 84.4...  "
      ]
     },
     "execution_count": 37,
     "metadata": {},
     "output_type": "execute_result"
    }
   ],
   "source": [
    "results"
   ]
  },
  {
   "cell_type": "code",
   "execution_count": 38,
   "metadata": {},
   "outputs": [],
   "source": [
    "def analyse(row, aoi_wkt):\n",
    "\n",
    "    aoi = loads(aoi_wkt)\n",
    "\n",
    "    aoi_intersection = (row['wkt'].intersection(aoi).area / aoi.area) * 100\n",
    "        \n",
    "    series = dict([('aoi_intersection', aoi_intersection)])\n",
    "    \n",
    "    return pd.Series(series)"
   ]
  },
  {
   "cell_type": "code",
   "execution_count": 39,
   "metadata": {},
   "outputs": [],
   "source": [
    "results = results.merge(results.apply(lambda row: analyse(row, extended_aoi), axis=1), \n",
    "              left_index=True,\n",
    "              right_index=True)"
   ]
  },
  {
   "cell_type": "code",
   "execution_count": 40,
   "metadata": {},
   "outputs": [
    {
     "data": {
      "text/html": [
       "<div>\n",
       "<style scoped>\n",
       "    .dataframe tbody tr th:only-of-type {\n",
       "        vertical-align: middle;\n",
       "    }\n",
       "\n",
       "    .dataframe tbody tr th {\n",
       "        vertical-align: top;\n",
       "    }\n",
       "\n",
       "    .dataframe thead th {\n",
       "        text-align: right;\n",
       "    }\n",
       "</style>\n",
       "<table border=\"1\" class=\"dataframe\">\n",
       "  <thead>\n",
       "    <tr style=\"text-align: right;\">\n",
       "      <th></th>\n",
       "      <th>enclosure</th>\n",
       "      <th>identifier</th>\n",
       "      <th>self</th>\n",
       "      <th>startdate</th>\n",
       "      <th>wkt</th>\n",
       "      <th>aoi_intersection</th>\n",
       "    </tr>\n",
       "  </thead>\n",
       "  <tbody>\n",
       "    <tr>\n",
       "      <th>0</th>\n",
       "      <td>https://store.terradue.com/download/sentinel1/...</td>\n",
       "      <td>S1A_IW_GRDH_1SDH_20170726T183119_20170726T1831...</td>\n",
       "      <td>https://catalog.terradue.com/sentinel1/search?...</td>\n",
       "      <td>2017-07-26 18:31:19.437628</td>\n",
       "      <td>POLYGON ((-52.293312 83.07970400000001, -35.49...</td>\n",
       "      <td>76.643189</td>\n",
       "    </tr>\n",
       "    <tr>\n",
       "      <th>1</th>\n",
       "      <td>https://store.terradue.com/download/sentinel1/...</td>\n",
       "      <td>S1A_IW_GRDH_1SDH_20170831T183121_20170831T1831...</td>\n",
       "      <td>https://catalog.terradue.com/sentinel1/search?...</td>\n",
       "      <td>2017-08-31 18:31:21.163234</td>\n",
       "      <td>POLYGON ((-52.299252 83.08004, -35.500076 84.4...</td>\n",
       "      <td>76.637180</td>\n",
       "    </tr>\n",
       "    <tr>\n",
       "      <th>2</th>\n",
       "      <td>https://store.terradue.com/download/sentinel1/...</td>\n",
       "      <td>S1A_IW_GRDH_1SSH_20170127T183112_20170127T1831...</td>\n",
       "      <td>https://catalog.terradue.com/sentinel1/search?...</td>\n",
       "      <td>2017-01-27 18:31:12.961761</td>\n",
       "      <td>POLYGON ((-52.302452 83.079826, -35.50042 84.4...</td>\n",
       "      <td>76.640081</td>\n",
       "    </tr>\n",
       "  </tbody>\n",
       "</table>\n",
       "</div>"
      ],
      "text/plain": [
       "                                           enclosure  \\\n",
       "0  https://store.terradue.com/download/sentinel1/...   \n",
       "1  https://store.terradue.com/download/sentinel1/...   \n",
       "2  https://store.terradue.com/download/sentinel1/...   \n",
       "\n",
       "                                          identifier  \\\n",
       "0  S1A_IW_GRDH_1SDH_20170726T183119_20170726T1831...   \n",
       "1  S1A_IW_GRDH_1SDH_20170831T183121_20170831T1831...   \n",
       "2  S1A_IW_GRDH_1SSH_20170127T183112_20170127T1831...   \n",
       "\n",
       "                                                self  \\\n",
       "0  https://catalog.terradue.com/sentinel1/search?...   \n",
       "1  https://catalog.terradue.com/sentinel1/search?...   \n",
       "2  https://catalog.terradue.com/sentinel1/search?...   \n",
       "\n",
       "                   startdate  \\\n",
       "0 2017-07-26 18:31:19.437628   \n",
       "1 2017-08-31 18:31:21.163234   \n",
       "2 2017-01-27 18:31:12.961761   \n",
       "\n",
       "                                                 wkt  aoi_intersection  \n",
       "0  POLYGON ((-52.293312 83.07970400000001, -35.49...         76.643189  \n",
       "1  POLYGON ((-52.299252 83.08004, -35.500076 84.4...         76.637180  \n",
       "2  POLYGON ((-52.302452 83.079826, -35.50042 84.4...         76.640081  "
      ]
     },
     "execution_count": 40,
     "metadata": {},
     "output_type": "execute_result"
    }
   ],
   "source": [
    "results"
   ]
  },
  {
   "cell_type": "code",
   "execution_count": 41,
   "metadata": {},
   "outputs": [
    {
     "data": {
      "text/plain": [
       "array(['S1A_IW_GRDH_1SDH_20170726T183119_20170726T183146_017646_01D89E_770E',\n",
       "       'S1A_IW_GRDH_1SDH_20170831T183121_20170831T183148_018171_01E882_C807',\n",
       "       'S1A_IW_GRDH_1SSH_20170127T183112_20170127T183139_015021_01889A_ACBF'], dtype=object)"
      ]
     },
     "execution_count": 41,
     "metadata": {},
     "output_type": "execute_result"
    }
   ],
   "source": [
    "results['identifier'].values"
   ]
  },
  {
   "cell_type": "code",
   "execution_count": 42,
   "metadata": {},
   "outputs": [],
   "source": [
    "def stage_in(row):\n",
    "    \n",
    "    local_path = ciop.copy(row['enclosure'], extract=False, target='/data2')\n",
    "    row['local_path'] = local_path\n",
    "        \n",
    "    return row \n",
    "    "
   ]
  },
  {
   "cell_type": "code",
   "execution_count": 43,
   "metadata": {},
   "outputs": [],
   "source": [
    "results = results.apply(lambda row: stage_in(row), axis=1)"
   ]
  },
  {
   "cell_type": "code",
   "execution_count": 44,
   "metadata": {
    "collapsed": false
   },
   "outputs": [
    {
     "data": {
      "text/html": [
       "<div>\n",
       "<style scoped>\n",
       "    .dataframe tbody tr th:only-of-type {\n",
       "        vertical-align: middle;\n",
       "    }\n",
       "\n",
       "    .dataframe tbody tr th {\n",
       "        vertical-align: top;\n",
       "    }\n",
       "\n",
       "    .dataframe thead th {\n",
       "        text-align: right;\n",
       "    }\n",
       "</style>\n",
       "<table border=\"1\" class=\"dataframe\">\n",
       "  <thead>\n",
       "    <tr style=\"text-align: right;\">\n",
       "      <th></th>\n",
       "      <th>enclosure</th>\n",
       "      <th>identifier</th>\n",
       "      <th>self</th>\n",
       "      <th>startdate</th>\n",
       "      <th>wkt</th>\n",
       "      <th>aoi_intersection</th>\n",
       "      <th>local_path</th>\n",
       "    </tr>\n",
       "  </thead>\n",
       "  <tbody>\n",
       "    <tr>\n",
       "      <th>0</th>\n",
       "      <td>https://store.terradue.com/download/sentinel1/...</td>\n",
       "      <td>S1A_IW_GRDH_1SDH_20170726T183119_20170726T1831...</td>\n",
       "      <td>https://catalog.terradue.com/sentinel1/search?...</td>\n",
       "      <td>2017-07-26 18:31:19.437628</td>\n",
       "      <td>POLYGON ((-52.293312 83.07970400000001, -35.49...</td>\n",
       "      <td>76.643189</td>\n",
       "      <td>/data2/S1A_IW_GRDH_1SDH_20170726T183119_201707...</td>\n",
       "    </tr>\n",
       "    <tr>\n",
       "      <th>1</th>\n",
       "      <td>https://store.terradue.com/download/sentinel1/...</td>\n",
       "      <td>S1A_IW_GRDH_1SDH_20170831T183121_20170831T1831...</td>\n",
       "      <td>https://catalog.terradue.com/sentinel1/search?...</td>\n",
       "      <td>2017-08-31 18:31:21.163234</td>\n",
       "      <td>POLYGON ((-52.299252 83.08004, -35.500076 84.4...</td>\n",
       "      <td>76.637180</td>\n",
       "      <td>/data2/S1A_IW_GRDH_1SDH_20170831T183121_201708...</td>\n",
       "    </tr>\n",
       "    <tr>\n",
       "      <th>2</th>\n",
       "      <td>https://store.terradue.com/download/sentinel1/...</td>\n",
       "      <td>S1A_IW_GRDH_1SSH_20170127T183112_20170127T1831...</td>\n",
       "      <td>https://catalog.terradue.com/sentinel1/search?...</td>\n",
       "      <td>2017-01-27 18:31:12.961761</td>\n",
       "      <td>POLYGON ((-52.302452 83.079826, -35.50042 84.4...</td>\n",
       "      <td>76.640081</td>\n",
       "      <td>/data2/S1A_IW_GRDH_1SSH_20170127T183112_201701...</td>\n",
       "    </tr>\n",
       "  </tbody>\n",
       "</table>\n",
       "</div>"
      ],
      "text/plain": [
       "                                           enclosure  \\\n",
       "0  https://store.terradue.com/download/sentinel1/...   \n",
       "1  https://store.terradue.com/download/sentinel1/...   \n",
       "2  https://store.terradue.com/download/sentinel1/...   \n",
       "\n",
       "                                          identifier  \\\n",
       "0  S1A_IW_GRDH_1SDH_20170726T183119_20170726T1831...   \n",
       "1  S1A_IW_GRDH_1SDH_20170831T183121_20170831T1831...   \n",
       "2  S1A_IW_GRDH_1SSH_20170127T183112_20170127T1831...   \n",
       "\n",
       "                                                self  \\\n",
       "0  https://catalog.terradue.com/sentinel1/search?...   \n",
       "1  https://catalog.terradue.com/sentinel1/search?...   \n",
       "2  https://catalog.terradue.com/sentinel1/search?...   \n",
       "\n",
       "                   startdate  \\\n",
       "0 2017-07-26 18:31:19.437628   \n",
       "1 2017-08-31 18:31:21.163234   \n",
       "2 2017-01-27 18:31:12.961761   \n",
       "\n",
       "                                                 wkt  aoi_intersection  \\\n",
       "0  POLYGON ((-52.293312 83.07970400000001, -35.49...         76.643189   \n",
       "1  POLYGON ((-52.299252 83.08004, -35.500076 84.4...         76.637180   \n",
       "2  POLYGON ((-52.302452 83.079826, -35.50042 84.4...         76.640081   \n",
       "\n",
       "                                          local_path  \n",
       "0  /data2/S1A_IW_GRDH_1SDH_20170726T183119_201707...  \n",
       "1  /data2/S1A_IW_GRDH_1SDH_20170831T183121_201708...  \n",
       "2  /data2/S1A_IW_GRDH_1SSH_20170127T183112_201701...  "
      ]
     },
     "execution_count": 44,
     "metadata": {},
     "output_type": "execute_result"
    }
   ],
   "source": [
    "results"
   ]
  },
  {
   "cell_type": "markdown",
   "metadata": {},
   "source": [
    "### Process sigma0"
   ]
  },
  {
   "cell_type": "code",
   "execution_count": 45,
   "metadata": {},
   "outputs": [],
   "source": [
    "def sigma0(row, aoi):\n",
    "    \n",
    "    local_path = row['local_path']\n",
    "    identifier = row['identifier']\n",
    "    \n",
    "    mygraph = ellip_snap_helpers.GraphProcessor()\n",
    "    \n",
    "    operator = 'Read'\n",
    "    parameters = ellip_snap_helpers.get_operator_default_parameters(operator)\n",
    "    parameters['file'] = local_path \n",
    "    mygraph.add_node(operator,\n",
    "                     operator, \n",
    "                     parameters,\n",
    "                     '') \n",
    "    \n",
    "    operator = 'ThermalNoiseRemoval'\n",
    "    parameters = ellip_snap_helpers.get_operator_default_parameters(operator)\n",
    "    mygraph.add_node(operator,\n",
    "                     operator,\n",
    "                     parameters,\n",
    "                     'Read')\n",
    "    \n",
    "\n",
    "    operator = 'Apply-Orbit-File'\n",
    "    parameters = ellip_snap_helpers.get_operator_default_parameters(operator)\n",
    "    mygraph.add_node(operator, \n",
    "                     operator, \n",
    "                     parameters, \n",
    "                     'ThermalNoiseRemoval')\n",
    "\n",
    "\n",
    "\n",
    "    operator = 'Calibration'\n",
    "    parameters = ellip_snap_helpers.get_operator_default_parameters(operator)\n",
    "    mygraph.add_node(operator,\n",
    "                     operator,\n",
    "                     parameters, \n",
    "                     'Apply-Orbit-File')\n",
    "\n",
    "\n",
    "    operator = 'Speckle-Filter'\n",
    "    parameters = ellip_snap_helpers.get_operator_default_parameters(operator)\n",
    "    mygraph.add_node(operator, \n",
    "                     operator,\n",
    "                     parameters, \n",
    "                     'Calibration')\n",
    "\n",
    "\n",
    "    operator = 'Multilook'\n",
    "    parameters = ellip_snap_helpers.get_operator_default_parameters(operator)\n",
    "    mygraph.add_node(operator,\n",
    "                     operator,\n",
    "                     parameters,\n",
    "                     'Speckle-Filter')\n",
    "\n",
    "\n",
    "    operator = 'LinearToFromdB'\n",
    "    parameters = ellip_snap_helpers.get_operator_default_parameters(operator)\n",
    "    mygraph.add_node(operator,\n",
    "                     operator,\n",
    "                     parameters,\n",
    "                     'Multilook')\n",
    "\n",
    "\n",
    "    operator = 'Terrain-Correction'\n",
    "\n",
    "    map_proj = \"\"\"PROJCS[\"WGS 84 / North Pole LAEA Europe\",\n",
    "    GEOGCS[\"WGS 84\",\n",
    "        DATUM[\"WGS_1984\",\n",
    "            SPHEROID[\"WGS 84\",6378137,298.257223563,\n",
    "                AUTHORITY[\"EPSG\",\"7030\"]],\n",
    "            AUTHORITY[\"EPSG\",\"6326\"]],\n",
    "        PRIMEM[\"Greenwich\",0,\n",
    "            AUTHORITY[\"EPSG\",\"8901\"]],\n",
    "        UNIT[\"degree\",0.0174532925199433,\n",
    "            AUTHORITY[\"EPSG\",\"9122\"]],\n",
    "        AUTHORITY[\"EPSG\",\"4326\"]],\n",
    "    PROJECTION[\"Lambert_Azimuthal_Equal_Area\"],\n",
    "    PARAMETER[\"latitude_of_center\",90],\n",
    "    PARAMETER[\"longitude_of_center\",10],\n",
    "    PARAMETER[\"false_easting\",0],\n",
    "    PARAMETER[\"false_northing\",0],\n",
    "    UNIT[\"metre\",1,\n",
    "        AUTHORITY[\"EPSG\",\"9001\"]],\n",
    "    AXIS[\"X\",EAST],\n",
    "    AXIS[\"Y\",NORTH],\n",
    "    AUTHORITY[\"EPSG\",\"3575\"]]\"\"\"\n",
    "\n",
    "    parameters = ellip_snap_helpers.get_operator_default_parameters(operator)\n",
    "    parameters['demName'] = 'ACE30'  \n",
    "    parameters['saveDEM'] = 'true'\n",
    "    parameters['mapProjection'] = map_proj\n",
    "    parameters['nodataValueAtSea'] = 'false'   \n",
    "                \n",
    "\n",
    "    mygraph.add_node(operator,\n",
    "                     operator,\n",
    "                     parameters,\n",
    "                     'LinearToFromdB')\n",
    "\n",
    "    operator = 'Subset'\n",
    "    parameters = ellip_snap_helpers.get_operator_default_parameters(operator)\n",
    "    parameters['geoRegion'] = aoi \n",
    "\n",
    "    mygraph.add_node(operator,\n",
    "                     operator,\n",
    "                     parameters,\n",
    "                     'Terrain-Correction')\n",
    "\n",
    "\n",
    "    operator = 'Write'\n",
    "    \n",
    "    output_name = 'SIGMA0_%s' % identifier\n",
    "    \n",
    "    parameters = ellip_snap_helpers.get_operator_default_parameters(operator)\n",
    "    parameters['file'] = output_name\n",
    "    parameters['formatName'] = 'GeoTIFF-BigTiff'\n",
    "    mygraph.add_node(operator,\n",
    "                     operator,\n",
    "                     parameters,\n",
    "                     'Subset')\n",
    "\n",
    "    mygraph.run()\n",
    "    \n",
    "    row['sigma0'] = output_name + '.tif'\n",
    "    \n",
    "    return row"
   ]
  },
  {
   "cell_type": "code",
   "execution_count": null,
   "metadata": {},
   "outputs": [
    {
     "name": "stdout",
     "output_type": "stream",
     "text": [
      "Processing the graph\n",
      "Process PID: 8431\n"
     ]
    }
   ],
   "source": [
    "results = results.apply(lambda row: sigma0(row, extended_aoi), axis=1)"
   ]
  },
  {
   "cell_type": "code",
   "execution_count": null,
   "metadata": {},
   "outputs": [],
   "source": [
    "results"
   ]
  },
  {
   "cell_type": "code",
   "execution_count": null,
   "metadata": {},
   "outputs": [],
   "source": [
    "sigma0s = list(results['sigma0'].values)"
   ]
  },
  {
   "cell_type": "code",
   "execution_count": null,
   "metadata": {},
   "outputs": [],
   "source": [
    "sigma0s"
   ]
  },
  {
   "cell_type": "code",
   "execution_count": null,
   "metadata": {},
   "outputs": [],
   "source": [
    "ds = gdal.Open(sigma0s[0])\n",
    "\n",
    "geo_transform = ds.GetGeoTransform()\n",
    "proj = ds.GetProjection()\n",
    "\n",
    "srs=osr.SpatialReference(wkt=proj)\n",
    "\n",
    "w = ds.GetRasterBand(1).XSize\n",
    "h = ds.GetRasterBand(1).YSize\n",
    "\n",
    "ds = None"
   ]
  },
  {
   "cell_type": "code",
   "execution_count": null,
   "metadata": {},
   "outputs": [],
   "source": [
    "bands = []\n",
    "\n",
    "min_db = -26\n",
    "max_db = 6\n",
    "\n",
    "rgb_name = 'multitemporal_rgb' + '.tif'\n",
    "    \n",
    "options = ['PHOTOMETRIC=RGB', 'PROFILE=GeoTIFF']\n",
    "    \n",
    "dst_ds = gdal.GetDriverByName('GTiff').Create(rgb_name, w, h, 3, gdal.GDT_Byte, options=options)\n",
    "    \n",
    "dst_ds.SetGeoTransform(geo_transform)   \n",
    " \n",
    "dst_ds.SetProjection(srs.ExportToWkt()) \n",
    "\n",
    "for index, tif in enumerate(sigma0s):\n",
    "    \n",
    "    raster = gdal.Open(tif)\n",
    "    band = raster.GetRasterBand(1)\n",
    "    array = band.ReadAsArray(0, 0, w, h)\n",
    "    \n",
    "    band_dest = (array * 255 / (max_db - min_db))\n",
    "    \n",
    "    bands.append(band_dest)\n",
    "    \n",
    "    dst_ds.GetRasterBand(index + 1).WriteArray(band_dest.astype(np.uint8))\n",
    "    \n",
    "dst_ds.FlushCache()                    \n",
    "dst_ds = None"
   ]
  },
  {
   "cell_type": "code",
   "execution_count": null,
   "metadata": {},
   "outputs": [],
   "source": [
    "rgb_uint8 = np.dstack(bands).astype(np.uint8) \n",
    "\n",
    "width = 20\n",
    "height = 20\n",
    "plt.figure(figsize=(width, height))\n",
    "img = Image.fromarray(rgb_uint8)\n",
    "imgplot = plt.imshow(img)"
   ]
  },
  {
   "cell_type": "code",
   "execution_count": null,
   "metadata": {
    "collapsed": true
   },
   "outputs": [],
   "source": []
  }
 ],
 "metadata": {
  "kernelspec": {
   "display_name": "Python [default]",
   "language": "python",
   "name": "python2"
  },
  "language_info": {
   "codemirror_mode": {
    "name": "ipython",
    "version": 2
   },
   "file_extension": ".py",
   "mimetype": "text/x-python",
   "name": "python",
   "nbconvert_exporter": "python",
   "pygments_lexer": "ipython2",
   "version": "2.7.12"
  }
 },
 "nbformat": 4,
 "nbformat_minor": 2
}
