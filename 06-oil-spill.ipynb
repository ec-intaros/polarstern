{
 "cells": [
  {
   "cell_type": "markdown",
   "metadata": {},
   "source": [
    "## Oil splill"
   ]
  },
  {
   "cell_type": "markdown",
   "metadata": {},
   "source": [
    "### Objective"
   ]
  },
  {
   "cell_type": "markdown",
   "metadata": {},
   "source": [
    "Apply the oil spill detection"
   ]
  },
  {
   "cell_type": "markdown",
   "metadata": {},
   "source": [
    "### The Python modules required"
   ]
  },
  {
   "cell_type": "code",
   "execution_count": 94,
   "metadata": {},
   "outputs": [
    {
     "name": "stdout",
     "output_type": "stream",
     "text": [
      "The autoreload extension is already loaded. To reload it, use:\n",
      "  %reload_ext autoreload\n"
     ]
    }
   ],
   "source": [
    "from string import Template\n",
    "from shapely.geometry import box\n",
    "from shapely.wkt import loads\n",
    "\n",
    "import os\n",
    "import gdal, osr\n",
    "import dateutil.parser as parser\n",
    "\n",
    "from timeit import default_timer as timer\n",
    "\n",
    "\n",
    "import sys \n",
    "\n",
    "from snappy import jpy\n",
    "from snappy import ProductIO\n",
    "from snappy import GPF\n",
    "from snappy import HashMap\n",
    "import numpy as np\n",
    "\n",
    "import matplotlib\n",
    "import matplotlib.pyplot as plt\n",
    "from PIL import Image\n",
    "%matplotlib inline\n",
    "\n",
    "import cioppy\n",
    "\n",
    "from geopandas import GeoDataFrame\n",
    "import pandas as pd\n",
    "\n",
    "from ipyleaflet import *\n",
    "\n",
    "\n",
    "\n",
    "import ipywidgets as widgets\n",
    "from ipywidgets import interact, interactive, fixed, interact_manual\n",
    "from ipywidgets import HTML\n",
    "\n",
    "\n",
    "import shapely\n",
    "from shapely.geometry import Point\n",
    "from shapely.geometry import LineString\n",
    "\n",
    "import snappy\n",
    "\n",
    "sys.path.append(os.getcwd())\n",
    "import ellip_snap_helpers\n",
    "\n",
    "\n",
    "%load_ext autoreload\n",
    "%autoreload 2"
   ]
  },
  {
   "cell_type": "code",
   "execution_count": 60,
   "metadata": {},
   "outputs": [],
   "source": [
    "point_lat, point_lon = 70.704004,-55.8380066"
   ]
  },
  {
   "cell_type": "code",
   "execution_count": 61,
   "metadata": {},
   "outputs": [],
   "source": [
    "toi = loads('POINT(%s %s)' % (point_lon, point_lat))"
   ]
  },
  {
   "cell_type": "code",
   "execution_count": 62,
   "metadata": {},
   "outputs": [],
   "source": [
    "start_time = '2018-08-20T00:00:00Z'\n",
    "stop_time = '2018-08-26T23:59:59Z'"
   ]
  },
  {
   "cell_type": "code",
   "execution_count": 63,
   "metadata": {},
   "outputs": [],
   "source": [
    "search_params = dict([('geom', toi.wkt),\n",
    "                      ('start', start_time),\n",
    "                      ('stop', stop_time),\n",
    "                      ('do', 'terradue'),\n",
    "                      ('pt', 'GRD')])"
   ]
  },
  {
   "cell_type": "code",
   "execution_count": 64,
   "metadata": {},
   "outputs": [],
   "source": [
    "ciop = cioppy.Cioppy()\n",
    "\n",
    "series = 'https://catalog.terradue.com/sentinel1/search'\n",
    "\n",
    "s1_results = GeoDataFrame(ciop.search(end_point=series, \n",
    "                     params=search_params,\n",
    "                     output_fields='identifier,self,startdate,track,wkt,enclosure',\n",
    "                     model='EOP'))"
   ]
  },
  {
   "cell_type": "code",
   "execution_count": 75,
   "metadata": {},
   "outputs": [],
   "source": [
    "s1_results['wkt'] = s1_results['wkt'].apply(shapely.wkt.loads)"
   ]
  },
  {
   "cell_type": "code",
   "execution_count": 76,
   "metadata": {},
   "outputs": [
    {
     "data": {
      "text/html": [
       "<div>\n",
       "<style scoped>\n",
       "    .dataframe tbody tr th:only-of-type {\n",
       "        vertical-align: middle;\n",
       "    }\n",
       "\n",
       "    .dataframe tbody tr th {\n",
       "        vertical-align: top;\n",
       "    }\n",
       "\n",
       "    .dataframe thead th {\n",
       "        text-align: right;\n",
       "    }\n",
       "</style>\n",
       "<table border=\"1\" class=\"dataframe\">\n",
       "  <thead>\n",
       "    <tr style=\"text-align: right;\">\n",
       "      <th></th>\n",
       "      <th>enclosure</th>\n",
       "      <th>identifier</th>\n",
       "      <th>self</th>\n",
       "      <th>startdate</th>\n",
       "      <th>track</th>\n",
       "      <th>wkt</th>\n",
       "    </tr>\n",
       "  </thead>\n",
       "  <tbody>\n",
       "    <tr>\n",
       "      <th>0</th>\n",
       "      <td>https://store.terradue.com/download/sentinel1/...</td>\n",
       "      <td>S1B_EW_GRDH_1SDH_20180826T205512_20180826T2056...</td>\n",
       "      <td>https://catalog.terradue.com/sentinel1/search?...</td>\n",
       "      <td>2018-08-26T20:55:12.8795820Z</td>\n",
       "      <td>163</td>\n",
       "      <td>POLYGON ((-64.169556 72.710106, -51.521824 73....</td>\n",
       "    </tr>\n",
       "    <tr>\n",
       "      <th>1</th>\n",
       "      <td>https://store.terradue.com/download/sentinel1/...</td>\n",
       "      <td>S1B_EW_GRDM_1SDH_20180826T205512_20180826T2056...</td>\n",
       "      <td>https://catalog.terradue.com/sentinel1/search?...</td>\n",
       "      <td>2018-08-26T20:55:12.8833320Z</td>\n",
       "      <td>163</td>\n",
       "      <td>POLYGON ((-64.170158 72.70983099999999, -51.52...</td>\n",
       "    </tr>\n",
       "    <tr>\n",
       "      <th>2</th>\n",
       "      <td>https://store.terradue.com/download/sentinel1/...</td>\n",
       "      <td>S1A_EW_GRDM_1SDH_20180826T102423_20180826T1025...</td>\n",
       "      <td>https://catalog.terradue.com/sentinel1/search?...</td>\n",
       "      <td>2018-08-26T10:24:23.2927260Z</td>\n",
       "      <td>69</td>\n",
       "      <td>POLYGON ((-51.140747 67.82652299999999, -60.96...</td>\n",
       "    </tr>\n",
       "    <tr>\n",
       "      <th>3</th>\n",
       "      <td>https://store.terradue.com/download/sentinel1/...</td>\n",
       "      <td>S1A_EW_GRDH_1SDH_20180826T102423_20180826T1025...</td>\n",
       "      <td>https://catalog.terradue.com/sentinel1/search?...</td>\n",
       "      <td>2018-08-26T10:24:23.2970000Z</td>\n",
       "      <td>69</td>\n",
       "      <td>POLYGON ((-51.141376 67.826599, -60.961288 68....</td>\n",
       "    </tr>\n",
       "    <tr>\n",
       "      <th>4</th>\n",
       "      <td>https://store.terradue.com/download/sentinel1/...</td>\n",
       "      <td>S1B_EW_GRDM_1SDH_20180825T103202_20180825T1033...</td>\n",
       "      <td>https://catalog.terradue.com/sentinel1/search?...</td>\n",
       "      <td>2018-08-25T10:32:02.5420000Z</td>\n",
       "      <td>142</td>\n",
       "      <td>POLYGON ((-53.421989 67.65634900000001, -63.10...</td>\n",
       "    </tr>\n",
       "    <tr>\n",
       "      <th>5</th>\n",
       "      <td>https://store.terradue.com/download/sentinel1/...</td>\n",
       "      <td>S1B_EW_GRDH_1SDH_20180825T103202_20180825T1033...</td>\n",
       "      <td>https://catalog.terradue.com/sentinel1/search?...</td>\n",
       "      <td>2018-08-25T10:32:02.5380000Z</td>\n",
       "      <td>142</td>\n",
       "      <td>POLYGON ((-53.422573 67.656471, -63.102581 68....</td>\n",
       "    </tr>\n",
       "    <tr>\n",
       "      <th>6</th>\n",
       "      <td>https://store.terradue.com/download/sentinel1/...</td>\n",
       "      <td>S1A_EW_GRDM_1SDH_20180824T104049_20180824T1041...</td>\n",
       "      <td>https://catalog.terradue.com/sentinel1/search?...</td>\n",
       "      <td>2018-08-24T10:40:49.5280000Z</td>\n",
       "      <td>40</td>\n",
       "      <td>POLYGON ((-54.939865 68.12882999999999, -64.94...</td>\n",
       "    </tr>\n",
       "    <tr>\n",
       "      <th>7</th>\n",
       "      <td>https://store.terradue.com/download/sentinel1/...</td>\n",
       "      <td>S1A_EW_GRDH_1SDH_20180824T104049_20180824T1041...</td>\n",
       "      <td>https://catalog.terradue.com/sentinel1/search?...</td>\n",
       "      <td>2018-08-24T10:40:49.5280000Z</td>\n",
       "      <td>40</td>\n",
       "      <td>POLYGON ((-54.940437 68.128998, -64.945824 69....</td>\n",
       "    </tr>\n",
       "    <tr>\n",
       "      <th>8</th>\n",
       "      <td>https://store.terradue.com/download/sentinel1/...</td>\n",
       "      <td>S1B_EW_GRDM_1SDH_20180823T104821_20180823T1049...</td>\n",
       "      <td>https://catalog.terradue.com/sentinel1/search?...</td>\n",
       "      <td>2018-08-23T10:48:21.5310000Z</td>\n",
       "      <td>113</td>\n",
       "      <td>POLYGON ((-57.093029 68.135239, -67.0763550000...</td>\n",
       "    </tr>\n",
       "    <tr>\n",
       "      <th>9</th>\n",
       "      <td>https://store.terradue.com/download/sentinel1/...</td>\n",
       "      <td>S1B_EW_GRDH_1SDH_20180823T104821_20180823T1049...</td>\n",
       "      <td>https://catalog.terradue.com/sentinel1/search?...</td>\n",
       "      <td>2018-08-23T10:48:21.5290000Z</td>\n",
       "      <td>113</td>\n",
       "      <td>POLYGON ((-57.093506 68.13549, -67.07659099999...</td>\n",
       "    </tr>\n",
       "    <tr>\n",
       "      <th>10</th>\n",
       "      <td>https://store.terradue.com/download/sentinel1/...</td>\n",
       "      <td>S1A_EW_GRDM_1SDH_20180821T101630_20180821T1017...</td>\n",
       "      <td>https://catalog.terradue.com/sentinel1/search?...</td>\n",
       "      <td>2018-08-21T10:16:30.3130000Z</td>\n",
       "      <td>171</td>\n",
       "      <td>POLYGON ((-49.858395 66.84613, -59.357121 67.7...</td>\n",
       "    </tr>\n",
       "    <tr>\n",
       "      <th>11</th>\n",
       "      <td>https://store.terradue.com/download/sentinel1/...</td>\n",
       "      <td>S1A_EW_GRDH_1SDH_20180821T101630_20180821T1017...</td>\n",
       "      <td>https://catalog.terradue.com/sentinel1/search?...</td>\n",
       "      <td>2018-08-21T10:16:30.3080000Z</td>\n",
       "      <td>171</td>\n",
       "      <td>POLYGON ((-49.85891 66.846344, -59.357502 67.7...</td>\n",
       "    </tr>\n",
       "  </tbody>\n",
       "</table>\n",
       "</div>"
      ],
      "text/plain": [
       "                                            enclosure  \\\n",
       "0   https://store.terradue.com/download/sentinel1/...   \n",
       "1   https://store.terradue.com/download/sentinel1/...   \n",
       "2   https://store.terradue.com/download/sentinel1/...   \n",
       "3   https://store.terradue.com/download/sentinel1/...   \n",
       "4   https://store.terradue.com/download/sentinel1/...   \n",
       "5   https://store.terradue.com/download/sentinel1/...   \n",
       "6   https://store.terradue.com/download/sentinel1/...   \n",
       "7   https://store.terradue.com/download/sentinel1/...   \n",
       "8   https://store.terradue.com/download/sentinel1/...   \n",
       "9   https://store.terradue.com/download/sentinel1/...   \n",
       "10  https://store.terradue.com/download/sentinel1/...   \n",
       "11  https://store.terradue.com/download/sentinel1/...   \n",
       "\n",
       "                                           identifier  \\\n",
       "0   S1B_EW_GRDH_1SDH_20180826T205512_20180826T2056...   \n",
       "1   S1B_EW_GRDM_1SDH_20180826T205512_20180826T2056...   \n",
       "2   S1A_EW_GRDM_1SDH_20180826T102423_20180826T1025...   \n",
       "3   S1A_EW_GRDH_1SDH_20180826T102423_20180826T1025...   \n",
       "4   S1B_EW_GRDM_1SDH_20180825T103202_20180825T1033...   \n",
       "5   S1B_EW_GRDH_1SDH_20180825T103202_20180825T1033...   \n",
       "6   S1A_EW_GRDM_1SDH_20180824T104049_20180824T1041...   \n",
       "7   S1A_EW_GRDH_1SDH_20180824T104049_20180824T1041...   \n",
       "8   S1B_EW_GRDM_1SDH_20180823T104821_20180823T1049...   \n",
       "9   S1B_EW_GRDH_1SDH_20180823T104821_20180823T1049...   \n",
       "10  S1A_EW_GRDM_1SDH_20180821T101630_20180821T1017...   \n",
       "11  S1A_EW_GRDH_1SDH_20180821T101630_20180821T1017...   \n",
       "\n",
       "                                                 self  \\\n",
       "0   https://catalog.terradue.com/sentinel1/search?...   \n",
       "1   https://catalog.terradue.com/sentinel1/search?...   \n",
       "2   https://catalog.terradue.com/sentinel1/search?...   \n",
       "3   https://catalog.terradue.com/sentinel1/search?...   \n",
       "4   https://catalog.terradue.com/sentinel1/search?...   \n",
       "5   https://catalog.terradue.com/sentinel1/search?...   \n",
       "6   https://catalog.terradue.com/sentinel1/search?...   \n",
       "7   https://catalog.terradue.com/sentinel1/search?...   \n",
       "8   https://catalog.terradue.com/sentinel1/search?...   \n",
       "9   https://catalog.terradue.com/sentinel1/search?...   \n",
       "10  https://catalog.terradue.com/sentinel1/search?...   \n",
       "11  https://catalog.terradue.com/sentinel1/search?...   \n",
       "\n",
       "                       startdate track  \\\n",
       "0   2018-08-26T20:55:12.8795820Z   163   \n",
       "1   2018-08-26T20:55:12.8833320Z   163   \n",
       "2   2018-08-26T10:24:23.2927260Z    69   \n",
       "3   2018-08-26T10:24:23.2970000Z    69   \n",
       "4   2018-08-25T10:32:02.5420000Z   142   \n",
       "5   2018-08-25T10:32:02.5380000Z   142   \n",
       "6   2018-08-24T10:40:49.5280000Z    40   \n",
       "7   2018-08-24T10:40:49.5280000Z    40   \n",
       "8   2018-08-23T10:48:21.5310000Z   113   \n",
       "9   2018-08-23T10:48:21.5290000Z   113   \n",
       "10  2018-08-21T10:16:30.3130000Z   171   \n",
       "11  2018-08-21T10:16:30.3080000Z   171   \n",
       "\n",
       "                                                  wkt  \n",
       "0   POLYGON ((-64.169556 72.710106, -51.521824 73....  \n",
       "1   POLYGON ((-64.170158 72.70983099999999, -51.52...  \n",
       "2   POLYGON ((-51.140747 67.82652299999999, -60.96...  \n",
       "3   POLYGON ((-51.141376 67.826599, -60.961288 68....  \n",
       "4   POLYGON ((-53.421989 67.65634900000001, -63.10...  \n",
       "5   POLYGON ((-53.422573 67.656471, -63.102581 68....  \n",
       "6   POLYGON ((-54.939865 68.12882999999999, -64.94...  \n",
       "7   POLYGON ((-54.940437 68.128998, -64.945824 69....  \n",
       "8   POLYGON ((-57.093029 68.135239, -67.0763550000...  \n",
       "9   POLYGON ((-57.093506 68.13549, -67.07659099999...  \n",
       "10  POLYGON ((-49.858395 66.84613, -59.357121 67.7...  \n",
       "11  POLYGON ((-49.85891 66.846344, -59.357502 67.7...  "
      ]
     },
     "execution_count": 76,
     "metadata": {},
     "output_type": "execute_result"
    }
   ],
   "source": [
    "s1_results"
   ]
  },
  {
   "cell_type": "code",
   "execution_count": 77,
   "metadata": {},
   "outputs": [
    {
     "data": {
      "application/vnd.jupyter.widget-view+json": {
       "model_id": "27f8cba2f0af4752a284f287f13a0268",
       "version_major": 2,
       "version_minor": 0
      },
      "text/plain": [
       "TWFwKGJhc2VtYXA9eyd1cmwnOiAnaHR0cHM6Ly97c30udGlsZS5vcGVuc3RyZWV0bWFwLm9yZy97en0ve3h9L3t5fS5wbmcnLCAnbWF4X3pvb20nOiAxOSwgJ2F0dHJpYnV0aW9uJzogJ01hcCDigKY=\n"
      ]
     },
     "metadata": {},
     "output_type": "display_data"
    }
   ],
   "source": [
    "global m\n",
    "\n",
    "from ipyleaflet import Map, Polygon\n",
    "\n",
    "m = Map(center=(toi.y, \n",
    "                toi.x), zoom=5)\n",
    "\n",
    "\n",
    "marker = Marker(location=(toi.y, \n",
    "                toi.x), draggable=False)\n",
    "\n",
    "m.add_layer(marker);\n",
    "\n",
    "m\n"
   ]
  },
  {
   "cell_type": "code",
   "execution_count": 78,
   "metadata": {},
   "outputs": [],
   "source": [
    "global layer_group \n",
    "\n",
    "layer_group = LayerGroup(layers=())\n",
    "m.add_layer(layer_group)\n",
    "\n",
    "def f(x):\n",
    "    layer_group.clear_layers()\n",
    "    m.remove_layer(layer_group)\n",
    "        \n",
    "    p = Polygon(locations=np.asarray([t[::-1] for t in list(list(s1_results.iloc[[x]]['wkt'])[0].exterior.coords)]).tolist(), color=\"red\", fill_color=\"green\")\n",
    "    \n",
    "    d = {'identifier': list(s1_results.iloc[[x]]['identifier'])[0], \n",
    "         'track' :list(s1_results.iloc[[x]]['track'])[0]}\n",
    "    \n",
    "    html_value=\"\"\"\n",
    "        <div>\n",
    "        <ul class='list-group'>\n",
    "            <li class='list-group-item'>{identifier}</li>\n",
    "            <li class='list-group-item'>{track}</li>\n",
    "        </ul></div>\"\"\".format(**d)\n",
    "    \n",
    "    \n",
    "    html_widget_slave = HTML(\n",
    "            value=html_value,\n",
    "    placeholder='',\n",
    "    description='',\n",
    "    )\n",
    "    \n",
    "    \n",
    "    \n",
    "    layer_group.add_layer(p)\n",
    "    p.popup = html_widget_slave\n",
    "    m.add_layer(layer_group)"
   ]
  },
  {
   "cell_type": "code",
   "execution_count": 79,
   "metadata": {},
   "outputs": [
    {
     "data": {
      "application/vnd.jupyter.widget-view+json": {
       "model_id": "f75a0d1768a34c829ce96c868ed40cb2",
       "version_major": 2,
       "version_minor": 0
      },
      "text/plain": [
       "aW50ZXJhY3RpdmUoY2hpbGRyZW49KEludFNsaWRlcih2YWx1ZT0wLCBkZXNjcmlwdGlvbj11J3gnLCBtYXg9MTEpLCBPdXRwdXQoKSksIF9kb21fY2xhc3Nlcz0odSd3aWRnZXQtaW50ZXJhY3TigKY=\n"
      ]
     },
     "metadata": {},
     "output_type": "display_data"
    }
   ],
   "source": [
    "interact(f, x=widgets.IntSlider(min=0,max=len(s1_results)-1,step=1,value=0));"
   ]
  },
  {
   "cell_type": "code",
   "execution_count": 80,
   "metadata": {},
   "outputs": [
    {
     "data": {
      "text/plain": [
       "enclosure     https://store.terradue.com/download/sentinel1/...\n",
       "identifier    S1A_EW_GRDM_1SDH_20180826T102423_20180826T1025...\n",
       "self          https://catalog.terradue.com/sentinel1/search?...\n",
       "startdate                          2018-08-26T10:24:23.2927260Z\n",
       "track                                                        69\n",
       "wkt           POLYGON ((-51.140747 67.82652299999999, -60.96...\n",
       "Name: 2, dtype: object"
      ]
     },
     "execution_count": 80,
     "metadata": {},
     "output_type": "execute_result"
    }
   ],
   "source": [
    "s1_results.iloc[2]"
   ]
  },
  {
   "cell_type": "code",
   "execution_count": 82,
   "metadata": {},
   "outputs": [
    {
     "data": {
      "text/plain": [
       "'/workspace/data2/S1A_EW_GRDM_1SDH_20180826T102423_20180826T102527_023416_028C53_A49B.zip'"
      ]
     },
     "execution_count": 82,
     "metadata": {},
     "output_type": "execute_result"
    }
   ],
   "source": [
    "import os\n",
    "\n",
    "target_dir = '/workspace/data2'\n",
    "\n",
    "if not os.path.exists(target_dir):\n",
    "    os.makedirs(target_dir)\n",
    "\n",
    "ciop.copy(urls=s1_results.iloc[2]['enclosure'], extract=False, target=target_dir)"
   ]
  },
  {
   "cell_type": "code",
   "execution_count": 95,
   "metadata": {},
   "outputs": [
    {
     "name": "stdout",
     "output_type": "stream",
     "text": [
      "Operator name: org.esa.snap.raster.gpf.masks.CreateLandMaskOp\n",
      "Operator alias: Land-Sea-Mask\n",
      "\n",
      "Parameters:\n",
      "\n",
      "sourceBandNames: The list of source bands.\n",
      "Default Value: None\n",
      "\n",
      "Possible values: []\n",
      "\n",
      "landMask: None\n",
      "Default Value: true\n",
      "\n",
      "Possible values: []\n",
      "\n",
      "useSRTM: None\n",
      "Default Value: true\n",
      "\n",
      "Possible values: []\n",
      "\n",
      "geometry: None\n",
      "Default Value: None\n",
      "\n",
      "Possible values: []\n",
      "\n",
      "invertGeometry: None\n",
      "Default Value: false\n",
      "\n",
      "Possible values: []\n",
      "\n",
      "shorelineExtension: None\n",
      "Default Value: 0\n",
      "\n",
      "Possible values: []\n",
      "\n"
     ]
    }
   ],
   "source": [
    "ellip_snap_helpers.get_operator_help('Land-Sea-Mask')"
   ]
  },
  {
   "cell_type": "code",
   "execution_count": 106,
   "metadata": {},
   "outputs": [],
   "source": [
    "parameters = ellip_snap_helpers.get_operator_default_parameters('Oil-Spill-Clustering')"
   ]
  },
  {
   "cell_type": "code",
   "execution_count": 107,
   "metadata": {},
   "outputs": [
    {
     "data": {
      "text/plain": [
       "{'minClusterSizeInKm2': '0.1'}"
      ]
     },
     "execution_count": 107,
     "metadata": {},
     "output_type": "execute_result"
    }
   ],
   "source": [
    "parameters"
   ]
  },
  {
   "cell_type": "code",
   "execution_count": 100,
   "metadata": {},
   "outputs": [],
   "source": [
    "parameters['backgroundWindowSize'] = '61'\n"
   ]
  },
  {
   "cell_type": "code",
   "execution_count": 101,
   "metadata": {},
   "outputs": [
    {
     "data": {
      "text/plain": [
       "{'geometry': None,\n",
       " 'invertGeometry': 'false',\n",
       " 'landMask': 'true',\n",
       " 'shorelineExtension': '10',\n",
       " 'sourceBandNames': None,\n",
       " 'useSRTM': 'false'}"
      ]
     },
     "execution_count": 101,
     "metadata": {},
     "output_type": "execute_result"
    }
   ],
   "source": [
    "parameters"
   ]
  },
  {
   "cell_type": "code",
   "execution_count": null,
   "metadata": {},
   "outputs": [],
   "source": []
  },
  {
   "cell_type": "code",
   "execution_count": null,
   "metadata": {},
   "outputs": [],
   "source": []
  },
  {
   "cell_type": "code",
   "execution_count": null,
   "metadata": {},
   "outputs": [],
   "source": []
  },
  {
   "cell_type": "code",
   "execution_count": null,
   "metadata": {},
   "outputs": [],
   "source": []
  },
  {
   "cell_type": "code",
   "execution_count": null,
   "metadata": {},
   "outputs": [],
   "source": []
  },
  {
   "cell_type": "code",
   "execution_count": 67,
   "metadata": {},
   "outputs": [],
   "source": [
    "def oil_spill(row, aoi):\n",
    "    \n",
    "    local_path = row['local_path']\n",
    "    identifier = row['identifier']\n",
    "    \n",
    "    mygraph = ellip_snap_helpers.GraphProcessor()\n",
    "    \n",
    "    operator = 'Read'\n",
    "    parameters = ellip_snap_helpers.get_operator_default_parameters(operator)\n",
    "    parameters['file'] = local_path \n",
    "    mygraph.add_node(operator,\n",
    "                     operator, \n",
    "                     parameters,\n",
    "                     '') \n",
    "    \n",
    "    operator = 'Land-Sea-Mask'\n",
    "    parameters = ellip_snap_helpers.get_operator_default_parameters(operator)\n",
    "    \n",
    "    parameters['useSRTM'] = 'false'\n",
    "    parameters['shorelineExtension'] = '10'\n",
    "    \n",
    "    mygraph.add_node(operator,\n",
    "                     operator,\n",
    "                     parameters,\n",
    "                     'Read')\n",
    "    \n",
    "\n",
    "    operator = 'Apply-Orbit-File'\n",
    "    parameters = ellip_snap_helpers.get_operator_default_parameters(operator)\n",
    "    mygraph.add_node(operator, \n",
    "                     operator, \n",
    "                     parameters, \n",
    "                     'Land-Sea-Mask')\n",
    "\n",
    "\n",
    "\n",
    "    operator = 'Calibration'\n",
    "    parameters = ellip_snap_helpers.get_operator_default_parameters(operator)\n",
    "    mygraph.add_node(operator,\n",
    "                     operator,\n",
    "                     parameters, \n",
    "                     'Apply-Orbit-File')\n",
    "\n",
    "\n",
    "    operator = 'Oil-Spill-Detection'\n",
    "    parameters = ellip_snap_helpers.get_operator_default_parameters(operator)\n",
    "    \n",
    "    parameters['backgroundWindowSize'] = '61'\n",
    "    \n",
    "    mygraph.add_node(operator, \n",
    "                     operator,\n",
    "                     parameters, \n",
    "                     'Calibration')\n",
    "\n",
    "\n",
    "    operator = 'Oil-Spill-Clustering'\n",
    "    parameters = ellip_snap_helpers.get_operator_default_parameters(operator)\n",
    "    mygraph.add_node(operator,\n",
    "                     operator,\n",
    "                     parameters,\n",
    "                     'Oil-Spill-Detection')\n",
    "\n",
    "\n",
    "    \n",
    "\n",
    "\n",
    "    operator = 'Write'\n",
    "    \n",
    "    output_name = 'oil_%s' % identifier\n",
    "    \n",
    "    parameters = ellip_snap_helpers.get_operator_default_parameters(operator)\n",
    "    parameters['file'] = output_name\n",
    "    parameters['formatName'] = 'GeoTIFF-BigTiff'\n",
    "    mygraph.add_node(operator,\n",
    "                     operator,\n",
    "                     parameters,\n",
    "                     'Subset')\n",
    "\n",
    "    mygraph.run()\n",
    "    \n",
    "    row['oil_spill'] = output_name + '.tif'\n",
    "    \n",
    "    return row"
   ]
  },
  {
   "cell_type": "code",
   "execution_count": 110,
   "metadata": {},
   "outputs": [],
   "source": [
    "selected = GeoDataFrame(s1_results.iloc[2]).T"
   ]
  },
  {
   "cell_type": "code",
   "execution_count": 111,
   "metadata": {},
   "outputs": [
    {
     "data": {
      "text/html": [
       "<div>\n",
       "<style scoped>\n",
       "    .dataframe tbody tr th:only-of-type {\n",
       "        vertical-align: middle;\n",
       "    }\n",
       "\n",
       "    .dataframe tbody tr th {\n",
       "        vertical-align: top;\n",
       "    }\n",
       "\n",
       "    .dataframe thead th {\n",
       "        text-align: right;\n",
       "    }\n",
       "</style>\n",
       "<table border=\"1\" class=\"dataframe\">\n",
       "  <thead>\n",
       "    <tr style=\"text-align: right;\">\n",
       "      <th></th>\n",
       "      <th>enclosure</th>\n",
       "      <th>identifier</th>\n",
       "      <th>self</th>\n",
       "      <th>startdate</th>\n",
       "      <th>track</th>\n",
       "      <th>wkt</th>\n",
       "    </tr>\n",
       "  </thead>\n",
       "  <tbody>\n",
       "    <tr>\n",
       "      <th>2</th>\n",
       "      <td>https://store.terradue.com/download/sentinel1/...</td>\n",
       "      <td>S1A_EW_GRDM_1SDH_20180826T102423_20180826T1025...</td>\n",
       "      <td>https://catalog.terradue.com/sentinel1/search?...</td>\n",
       "      <td>2018-08-26T10:24:23.2927260Z</td>\n",
       "      <td>69</td>\n",
       "      <td>POLYGON ((-51.140747 67.82652299999999, -60.96...</td>\n",
       "    </tr>\n",
       "  </tbody>\n",
       "</table>\n",
       "</div>"
      ],
      "text/plain": [
       "                                           enclosure  \\\n",
       "2  https://store.terradue.com/download/sentinel1/...   \n",
       "\n",
       "                                          identifier  \\\n",
       "2  S1A_EW_GRDM_1SDH_20180826T102423_20180826T1025...   \n",
       "\n",
       "                                                self  \\\n",
       "2  https://catalog.terradue.com/sentinel1/search?...   \n",
       "\n",
       "                      startdate track  \\\n",
       "2  2018-08-26T10:24:23.2927260Z    69   \n",
       "\n",
       "                                                 wkt  \n",
       "2  POLYGON ((-51.140747 67.82652299999999, -60.96...  "
      ]
     },
     "execution_count": 111,
     "metadata": {},
     "output_type": "execute_result"
    }
   ],
   "source": [
    "selected"
   ]
  },
  {
   "cell_type": "code",
   "execution_count": 112,
   "metadata": {},
   "outputs": [],
   "source": [
    "target_dir = '/workspace/data2'\n",
    "\n",
    "if not os.path.exists(target_dir):\n",
    "    os.makedirs(target_dir)\n",
    "\n",
    "def stage_in(row):\n",
    "    \n",
    "    local_path = ciop.copy(row['enclosure'], extract=False, target=target_dir)\n",
    "    row['local_path'] = local_path\n",
    "        \n",
    "    return row "
   ]
  },
  {
   "cell_type": "code",
   "execution_count": 113,
   "metadata": {},
   "outputs": [],
   "source": [
    "selected = selected.apply(lambda row: stage_in(row), axis=1)"
   ]
  },
  {
   "cell_type": "code",
   "execution_count": 114,
   "metadata": {},
   "outputs": [
    {
     "data": {
      "text/html": [
       "<div>\n",
       "<style scoped>\n",
       "    .dataframe tbody tr th:only-of-type {\n",
       "        vertical-align: middle;\n",
       "    }\n",
       "\n",
       "    .dataframe tbody tr th {\n",
       "        vertical-align: top;\n",
       "    }\n",
       "\n",
       "    .dataframe thead th {\n",
       "        text-align: right;\n",
       "    }\n",
       "</style>\n",
       "<table border=\"1\" class=\"dataframe\">\n",
       "  <thead>\n",
       "    <tr style=\"text-align: right;\">\n",
       "      <th></th>\n",
       "      <th>enclosure</th>\n",
       "      <th>identifier</th>\n",
       "      <th>self</th>\n",
       "      <th>startdate</th>\n",
       "      <th>track</th>\n",
       "      <th>wkt</th>\n",
       "      <th>local_path</th>\n",
       "    </tr>\n",
       "  </thead>\n",
       "  <tbody>\n",
       "    <tr>\n",
       "      <th>2</th>\n",
       "      <td>https://store.terradue.com/download/sentinel1/...</td>\n",
       "      <td>S1A_EW_GRDM_1SDH_20180826T102423_20180826T1025...</td>\n",
       "      <td>https://catalog.terradue.com/sentinel1/search?...</td>\n",
       "      <td>2018-08-26T10:24:23.2927260Z</td>\n",
       "      <td>69</td>\n",
       "      <td>POLYGON ((-51.140747 67.82652299999999, -60.96...</td>\n",
       "      <td>/workspace/data2/S1A_EW_GRDM_1SDH_20180826T102...</td>\n",
       "    </tr>\n",
       "  </tbody>\n",
       "</table>\n",
       "</div>"
      ],
      "text/plain": [
       "                                           enclosure  \\\n",
       "2  https://store.terradue.com/download/sentinel1/...   \n",
       "\n",
       "                                          identifier  \\\n",
       "2  S1A_EW_GRDM_1SDH_20180826T102423_20180826T1025...   \n",
       "\n",
       "                                                self  \\\n",
       "2  https://catalog.terradue.com/sentinel1/search?...   \n",
       "\n",
       "                      startdate track  \\\n",
       "2  2018-08-26T10:24:23.2927260Z    69   \n",
       "\n",
       "                                                 wkt  \\\n",
       "2  POLYGON ((-51.140747 67.82652299999999, -60.96...   \n",
       "\n",
       "                                          local_path  \n",
       "2  /workspace/data2/S1A_EW_GRDM_1SDH_20180826T102...  "
      ]
     },
     "execution_count": 114,
     "metadata": {},
     "output_type": "execute_result"
    }
   ],
   "source": [
    "selected"
   ]
  },
  {
   "cell_type": "code",
   "execution_count": 117,
   "metadata": {},
   "outputs": [],
   "source": [
    "extended_aoi = None"
   ]
  },
  {
   "cell_type": "code",
   "execution_count": 118,
   "metadata": {},
   "outputs": [
    {
     "name": "stdout",
     "output_type": "stream",
     "text": [
      "Processing the graph\n",
      "Process PID: 26165\n",
      "Executing processing graph\n",
      "....10%....20%....30%....40%....50%....60%....70%....80%....90% done.\n",
      "INFO: org.esa.snap.core.gpf.operators.tooladapter.ToolAdapterIO: Initializing external tool adapters\n",
      "INFO: org.hsqldb.persist.Logger: dataFileCache open start\n",
      "INFO: org.esa.snap.engine_utilities.download.downloadablecontent.DownloadableContentImpl: http retrieving http://step.esa.int/auxdata/orbits/Sentinel-1/POEORB/S1A/2018/08/S1A_OPER_AUX_POEORB_OPOD_20180915T120754_V20180825T225942_20180827T005942.EOF.zip\n",
      "INFO: org.esa.snap.core.dataop.dem.ElevationFile: http retrieving http://step.esa.int/auxdata/dem/ACE30/60N075W.zip\n",
      "INFO: org.esa.snap.core.dataop.dem.ElevationFile: http retrieving http://step.esa.int/auxdata/dem/ACE30/60N060W.zip\n",
      "INFO: org.esa.snap.core.dataop.dem.ElevationFile: http retrieving http://step.esa.int/auxdata/dem/ACE30/60N045W.zip\n",
      "\n",
      "Done.\n",
      "Processing the graph\n",
      "Process PID: 26264\n",
      "Executing processing graph\n",
      "....10%....20%....30%....40%....50%....60%....70%....80%....90% done.\n",
      "INFO: org.esa.snap.core.gpf.operators.tooladapter.ToolAdapterIO: Initializing external tool adapters\n",
      "INFO: org.hsqldb.persist.Logger: dataFileCache open start\n",
      "\n",
      "Done.\n"
     ]
    }
   ],
   "source": [
    "selected = selected.apply(lambda row: oil_spill(row, extended_aoi), axis=1)"
   ]
  },
  {
   "cell_type": "code",
   "execution_count": null,
   "metadata": {},
   "outputs": [],
   "source": []
  },
  {
   "cell_type": "code",
   "execution_count": null,
   "metadata": {},
   "outputs": [],
   "source": []
  },
  {
   "cell_type": "code",
   "execution_count": null,
   "metadata": {},
   "outputs": [],
   "source": []
  },
  {
   "cell_type": "markdown",
   "metadata": {},
   "source": [
    "## License"
   ]
  },
  {
   "cell_type": "markdown",
   "metadata": {
    "slideshow": {
     "slide_type": "subslide"
    }
   },
   "source": [
    "This work is licenced under a [Attribution-ShareAlike 4.0 International License (CC BY-SA 4.0)](http://creativecommons.org/licenses/by-sa/4.0/) \n",
    "\n",
    "YOU ARE FREE TO:\n",
    "\n",
    "* Share - copy and redistribute the material in any medium or format.\n",
    "* Adapt - remix, transform, and built upon the material for any purpose, even commercially.\n",
    "\n",
    "UNDER THE FOLLOWING TERMS:\n",
    "\n",
    "* Attribution - You must give appropriate credit, provide a link to the license, and indicate if changes were made. You may do so in any reasonable manner, but not in any way that suggests the licensor endorses you or your use.\n",
    "* ShareAlike - If you remix, transform, or build upon the material, you must distribute your contributions under the same license as the original."
   ]
  }
 ],
 "metadata": {
  "kernelspec": {
   "display_name": "Python 2",
   "language": "python",
   "name": "python2"
  },
  "language_info": {
   "codemirror_mode": {
    "name": "ipython",
    "version": 2
   },
   "file_extension": ".py",
   "mimetype": "text/x-python",
   "name": "python",
   "nbconvert_exporter": "python",
   "pygments_lexer": "ipython2",
   "version": "2.7.12"
  }
 },
 "nbformat": 4,
 "nbformat_minor": 2
}
