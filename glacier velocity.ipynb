{
 "cells": [
  {
   "cell_type": "markdown",
   "metadata": {
    "slideshow": {
     "slide_type": "skip"
    }
   },
   "source": [
    "## Sentinel-1 Offset Tracking for glacier velocity maps"
   ]
  },
  {
   "cell_type": "markdown",
   "metadata": {},
   "source": [
    "This application takes a number of Sentinel-1 stack products and identifies a possible reference product for flood change detection analysis "
   ]
  },
  {
   "cell_type": "markdown",
   "metadata": {
    "slideshow": {
     "slide_type": "slide"
    }
   },
   "source": [
    "### <a name=\"data\">Data"
   ]
  },
  {
   "cell_type": "markdown",
   "metadata": {
    "slideshow": {
     "slide_type": "subslide"
    }
   },
   "source": [
    "SENTINEL data products are made available systematically and free of charge to all data users including the general public, scientific and commercial users. Radar data will be delivered within an hour of reception for Near Real-Time (NRT) emergency response, within three hours for NRT priority areas and within 24 hours for systematically archived data.\n",
    "\n",
    "All data products are distributed in the SENTINEL Standard Archive Format for Europe (SAFE) format.\n",
    "\n",
    "Data products are available in single polarisation (VV or HH) for Wave mode and dual polarisation (VV+VH or HH+HV) and single polarisation (HH or VV) for SM, IW and EW modes."
   ]
  },
  {
   "cell_type": "markdown",
   "metadata": {
    "slideshow": {
     "slide_type": "subslide"
    }
   },
   "source": [
    "Level-1 Ground Range Detected (GRD) products consist of focused SAR data that has been detected, multi-looked and projected to ground range using an Earth ellipsoid model. Phase information is lost. The resulting product has approximately square resolution pixels and square pixel spacing with reduced speckle at the cost of reduced geometric resolution.\n",
    "\n",
    "GRD products can be in one of three resolutions:\n",
    "\n",
    "* Full Resolution (FR)\n",
    "* High Resolution (HR)\n",
    "* Medium Resolution (MR).\n",
    "\n",
    "The resolution is dependent upon the amount of multi-looking performed. Level-1 GRD products are available in MR and HR for IW and EW modes, MR for WV mode and MR, HR and FR for SM mode."
   ]
  },
  {
   "cell_type": "markdown",
   "metadata": {},
   "source": [
    "### Workflow"
   ]
  },
  {
   "cell_type": "code",
   "execution_count": 1,
   "metadata": {},
   "outputs": [],
   "source": [
    "import iplantuml"
   ]
  },
  {
   "cell_type": "code",
   "execution_count": 2,
   "metadata": {},
   "outputs": [
    {
     "data": {
      "image/svg+xml": [
       "<svg contentScriptType=\"application/ecmascript\" contentStyleType=\"text/css\" height=\"441px\" preserveAspectRatio=\"none\" style=\"width:341px;height:441px;\" version=\"1.1\" viewBox=\"0 0 341 441\" width=\"341px\" xmlns=\"http://www.w3.org/2000/svg\" xmlns:xlink=\"http://www.w3.org/1999/xlink\" zoomAndPan=\"magnify\"><defs><filter height=\"300%\" id=\"f1qssejk087lcm\" width=\"300%\" x=\"-1\" y=\"-1\"><feGaussianBlur result=\"blurOut\" stdDeviation=\"2.0\"/><feColorMatrix in=\"blurOut\" result=\"blurOut2\" type=\"matrix\" values=\"0 0 0 0 0 0 0 0 0 0 0 0 0 0 0 0 0 0 .4 0\"/><feOffset dx=\"4.0\" dy=\"4.0\" in=\"blurOut2\" result=\"blurOut3\"/><feBlend in=\"SourceGraphic\" in2=\"blurOut3\" mode=\"normal\"/></filter></defs><g><ellipse cx=\"170\" cy=\"20\" fill=\"#000000\" filter=\"url(#f1qssejk087lcm)\" rx=\"10\" ry=\"10\" style=\"stroke: none; stroke-width: 1.0;\"/><rect fill=\"#000000\" filter=\"url(#f1qssejk087lcm)\" height=\"6\" rx=\"2.5\" ry=\"2.5\" style=\"stroke: #000000; stroke-width: 1.0;\" width=\"320\" x=\"10\" y=\"50\"/><rect fill=\"#FFFFFF\" filter=\"url(#f1qssejk087lcm)\" height=\"82.2656\" style=\"stroke: #000000; stroke-width: 2.0;\" width=\"132\" x=\"24\" y=\"66.8018\"/><path d=\"M70,67.8018 L70,76.0986 L60,86.0986 L24,86.0986 \" fill=\"none\" style=\"stroke: #000000; stroke-width: 2.0;\"/><text fill=\"#000000\" font-family=\"sans-serif\" font-size=\"14\" lengthAdjust=\"spacingAndGlyphs\" textLength=\"36\" x=\"27\" y=\"80.7969\">Slave</text><rect fill=\"#FEFECE\" filter=\"url(#f1qssejk087lcm)\" height=\"33.9688\" rx=\"12.5\" ry=\"12.5\" style=\"stroke: #A80036; stroke-width: 1.5;\" width=\"112\" x=\"34\" y=\"103.0986\"/><text fill=\"#000000\" font-family=\"sans-serif\" font-size=\"12\" lengthAdjust=\"spacingAndGlyphs\" textLength=\"92\" x=\"44\" y=\"124.2373\">Apply-Orbit-File</text><rect fill=\"#FFFFFF\" filter=\"url(#f1qssejk087lcm)\" height=\"82.2656\" style=\"stroke: #000000; stroke-width: 2.0;\" width=\"132\" x=\"184\" y=\"66.8018\"/><path d=\"M241,67.8018 L241,76.0986 L231,86.0986 L184,86.0986 \" fill=\"none\" style=\"stroke: #000000; stroke-width: 2.0;\"/><text fill=\"#000000\" font-family=\"sans-serif\" font-size=\"14\" lengthAdjust=\"spacingAndGlyphs\" textLength=\"47\" x=\"187\" y=\"80.7969\">Master</text><rect fill=\"#FEFECE\" filter=\"url(#f1qssejk087lcm)\" height=\"33.9688\" rx=\"12.5\" ry=\"12.5\" style=\"stroke: #A80036; stroke-width: 1.5;\" width=\"112\" x=\"194\" y=\"103.0986\"/><text fill=\"#000000\" font-family=\"sans-serif\" font-size=\"12\" lengthAdjust=\"spacingAndGlyphs\" textLength=\"92\" x=\"204\" y=\"124.2373\">Apply-Orbit-File</text><rect fill=\"#000000\" filter=\"url(#f1qssejk087lcm)\" height=\"6\" rx=\"2.5\" ry=\"2.5\" style=\"stroke: #000000; stroke-width: 1.0;\" width=\"320\" x=\"10\" y=\"169.0674\"/><rect fill=\"#FEFECE\" filter=\"url(#f1qssejk087lcm)\" height=\"33.9688\" rx=\"12.5\" ry=\"12.5\" style=\"stroke: #A80036; stroke-width: 1.5;\" width=\"197\" x=\"71.5\" y=\"195.0674\"/><text fill=\"#000000\" font-family=\"sans-serif\" font-size=\"12\" lengthAdjust=\"spacingAndGlyphs\" textLength=\"177\" x=\"81.5\" y=\"216.2061\">DEM-Assisted-Coregistration</text><rect fill=\"#FEFECE\" filter=\"url(#f1qssejk087lcm)\" height=\"33.9688\" rx=\"12.5\" ry=\"12.5\" style=\"stroke: #A80036; stroke-width: 1.5;\" width=\"64\" x=\"138\" y=\"249.0361\"/><text fill=\"#000000\" font-family=\"sans-serif\" font-size=\"12\" lengthAdjust=\"spacingAndGlyphs\" textLength=\"44\" x=\"148\" y=\"270.1748\">Subset</text><rect fill=\"#FEFECE\" filter=\"url(#f1qssejk087lcm)\" height=\"33.9688\" rx=\"12.5\" ry=\"12.5\" style=\"stroke: #A80036; stroke-width: 1.5;\" width=\"114\" x=\"113\" y=\"303.0049\"/><text fill=\"#000000\" font-family=\"sans-serif\" font-size=\"12\" lengthAdjust=\"spacingAndGlyphs\" textLength=\"94\" x=\"123\" y=\"324.1436\">Offset-Tracking</text><rect fill=\"#FEFECE\" filter=\"url(#f1qssejk087lcm)\" height=\"33.9688\" rx=\"12.5\" ry=\"12.5\" style=\"stroke: #A80036; stroke-width: 1.5;\" width=\"133\" x=\"103.5\" y=\"356.9736\"/><text fill=\"#000000\" font-family=\"sans-serif\" font-size=\"12\" lengthAdjust=\"spacingAndGlyphs\" textLength=\"113\" x=\"113.5\" y=\"378.1123\">Terrain-Correction</text><ellipse cx=\"170\" cy=\"420.9424\" fill=\"none\" filter=\"url(#f1qssejk087lcm)\" rx=\"10\" ry=\"10\" style=\"stroke: #000000; stroke-width: 1.0;\"/><ellipse cx=\"170.5\" cy=\"421.4424\" fill=\"#000000\" filter=\"url(#f1qssejk087lcm)\" rx=\"6\" ry=\"6\" style=\"stroke: none; stroke-width: 1.0;\"/><line style=\"stroke: #A80036; stroke-width: 1.5;\" x1=\"90\" x2=\"90\" y1=\"56\" y2=\"103.0986\"/><polygon fill=\"#A80036\" points=\"86,93.0986,90,103.0986,94,93.0986,90,97.0986\" style=\"stroke: #A80036; stroke-width: 1.0;\"/><line style=\"stroke: #A80036; stroke-width: 1.5;\" x1=\"250\" x2=\"250\" y1=\"56\" y2=\"103.0986\"/><polygon fill=\"#A80036\" points=\"246,93.0986,250,103.0986,254,93.0986,250,97.0986\" style=\"stroke: #A80036; stroke-width: 1.0;\"/><line style=\"stroke: #A80036; stroke-width: 1.5;\" x1=\"90\" x2=\"90\" y1=\"137.0674\" y2=\"169.0674\"/><polygon fill=\"#A80036\" points=\"86,159.0674,90,169.0674,94,159.0674,90,163.0674\" style=\"stroke: #A80036; stroke-width: 1.0;\"/><line style=\"stroke: #A80036; stroke-width: 1.5;\" x1=\"250\" x2=\"250\" y1=\"137.0674\" y2=\"169.0674\"/><polygon fill=\"#A80036\" points=\"246,159.0674,250,169.0674,254,159.0674,250,163.0674\" style=\"stroke: #A80036; stroke-width: 1.0;\"/><line style=\"stroke: #A80036; stroke-width: 1.5;\" x1=\"170\" x2=\"170\" y1=\"30\" y2=\"50\"/><polygon fill=\"#A80036\" points=\"166,40,170,50,174,40,170,44\" style=\"stroke: #A80036; stroke-width: 1.0;\"/><line style=\"stroke: #A80036; stroke-width: 1.5;\" x1=\"170\" x2=\"170\" y1=\"175.0674\" y2=\"195.0674\"/><polygon fill=\"#A80036\" points=\"166,185.0674,170,195.0674,174,185.0674,170,189.0674\" style=\"stroke: #A80036; stroke-width: 1.0;\"/><line style=\"stroke: #A80036; stroke-width: 1.5;\" x1=\"170\" x2=\"170\" y1=\"229.0361\" y2=\"249.0361\"/><polygon fill=\"#A80036\" points=\"166,239.0361,170,249.0361,174,239.0361,170,243.0361\" style=\"stroke: #A80036; stroke-width: 1.0;\"/><line style=\"stroke: #A80036; stroke-width: 1.5;\" x1=\"170\" x2=\"170\" y1=\"283.0049\" y2=\"303.0049\"/><polygon fill=\"#A80036\" points=\"166,293.0049,170,303.0049,174,293.0049,170,297.0049\" style=\"stroke: #A80036; stroke-width: 1.0;\"/><line style=\"stroke: #A80036; stroke-width: 1.5;\" x1=\"170\" x2=\"170\" y1=\"336.9736\" y2=\"356.9736\"/><polygon fill=\"#A80036\" points=\"166,346.9736,170,356.9736,174,346.9736,170,350.9736\" style=\"stroke: #A80036; stroke-width: 1.0;\"/><line style=\"stroke: #A80036; stroke-width: 1.5;\" x1=\"170\" x2=\"170\" y1=\"390.9424\" y2=\"410.9424\"/><polygon fill=\"#A80036\" points=\"166,400.9424,170,410.9424,174,400.9424,170,404.9424\" style=\"stroke: #A80036; stroke-width: 1.0;\"/><!--\n",
       "@startuml\n",
       "start\n",
       "\n",
       " fork\n",
       "   partition \"Slave\" {\n",
       "    :Apply-Orbit-File;\n",
       "}\n",
       "  fork again\n",
       "   partition \"Master\" {\n",
       "    :Apply-Orbit-File;\n",
       "}\n",
       "  end fork\n",
       "    :DEM-Assisted-Coregistration;\n",
       "    :Subset;\n",
       "    :Offset-Tracking;\n",
       "    :Terrain-Correction;\n",
       "\n",
       "\n",
       "stop\n",
       "@enduml\n",
       "\n",
       "PlantUML version 1.2018.11(Sat Sep 22 16:43:53 UTC 2018)\n",
       "(GPL source distribution)\n",
       "Java Runtime: Java(TM) SE Runtime Environment\n",
       "JVM: Java HotSpot(TM) 64-Bit Server VM\n",
       "Java Version: 1.7.0_25-b15\n",
       "Operating System: Linux\n",
       "Default Encoding: UTF-8\n",
       "Language: en\n",
       "Country: US\n",
       "--></g></svg>"
      ],
      "text/plain": [
       "<IPython.core.display.SVG object>"
      ]
     },
     "execution_count": 2,
     "metadata": {},
     "output_type": "execute_result"
    }
   ],
   "source": [
    "%%plantuml\n",
    "\n",
    "@startuml\n",
    "\n",
    "start\n",
    "\n",
    " fork\n",
    "   partition \"Slave\" {\n",
    "    :Apply-Orbit-File;\n",
    "}\n",
    "  fork again\n",
    "   partition \"Master\" {\n",
    "    :Apply-Orbit-File;\n",
    "}\n",
    "  end fork\n",
    "    :DEM-Assisted-Coregistration;\n",
    "    :Subset;\n",
    "    :Offset-Tracking;\n",
    "    :Terrain-Correction;\n",
    "\n",
    "\n",
    "stop\n",
    "@enduml"
   ]
  },
  {
   "cell_type": "markdown",
   "metadata": {},
   "source": [
    "### <a name=\"service\">Service definition"
   ]
  },
  {
   "cell_type": "code",
   "execution_count": 3,
   "metadata": {
    "collapsed": true
   },
   "outputs": [],
   "source": [
    "service = dict([('title', 'Sentinel-1 Offset Tracking for glacier velocity maps'),\n",
    "                ('abstract', 'Sentinel-1 Offset Tracking for glacier velocity maps'),\n",
    "                ('id', 'ewf-offset-tracking')])"
   ]
  },
  {
   "cell_type": "markdown",
   "metadata": {},
   "source": [
    "### Service parameter definition"
   ]
  },
  {
   "cell_type": "code",
   "execution_count": 4,
   "metadata": {},
   "outputs": [],
   "source": [
    "glacier_center = dict([('id', 'glacier_center'),\n",
    "               ('value', '-35.3,83.9'),\n",
    "               ('title', 'Glacier center (lon, lat)'),\n",
    "               ('abstract', 'Glacier center (lon, lat)')])"
   ]
  },
  {
   "cell_type": "code",
   "execution_count": 5,
   "metadata": {},
   "outputs": [],
   "source": [
    "geo_extent = dict([('id', 'geo_extent'),\n",
    "               ('value', '50000'),\n",
    "               ('title', 'Extent around the glacier center in meters'),\n",
    "               ('abstract', 'Extent around the glacier center in meters')])"
   ]
  },
  {
   "cell_type": "markdown",
   "metadata": {},
   "source": [
    "### <a name=\"runtime\">Runtime parameter definition"
   ]
  },
  {
   "cell_type": "markdown",
   "metadata": {},
   "source": [
    "**Input identifiers**\n",
    "\n",
    "This is the Sentinel-1 stack of products' identifiers.\n",
    "\n",
    "In order to generate glacier velocity map using the Offset Tracking tool, the input products must\n",
    "be two GRD products over the same area acquired at different times. \n",
    "\n",
    "The time interval should be as short as possible. "
   ]
  },
  {
   "cell_type": "code",
   "execution_count": 6,
   "metadata": {},
   "outputs": [],
   "source": [
    "import pandas as pd\n",
    "from geopandas import GeoDataFrame\n",
    "from shapely.wkt import loads\n",
    "import cioppy\n",
    "import numpy as np\n",
    "from datetime import datetime\n",
    "import gdal\n",
    "%matplotlib inline\n",
    "import matplotlib.pyplot as plt"
   ]
  },
  {
   "cell_type": "markdown",
   "metadata": {},
   "source": [
    "Read the CSV containing the selected Sentinel-1 acquisition"
   ]
  },
  {
   "cell_type": "code",
   "execution_count": 7,
   "metadata": {},
   "outputs": [],
   "source": [
    "s1_prds = GeoDataFrame(pd.read_csv('s1_prd.csv'))"
   ]
  },
  {
   "cell_type": "markdown",
   "metadata": {},
   "source": [
    "Cleanse it"
   ]
  },
  {
   "cell_type": "code",
   "execution_count": 8,
   "metadata": {},
   "outputs": [],
   "source": [
    "s1_prds['startdate'] = pd.to_datetime(s1_prds['startdate'])  "
   ]
  },
  {
   "cell_type": "code",
   "execution_count": 9,
   "metadata": {},
   "outputs": [],
   "source": [
    "s1_prds['wkt'] = s1_prds['wkt'].apply(loads)"
   ]
  },
  {
   "cell_type": "code",
   "execution_count": 10,
   "metadata": {},
   "outputs": [],
   "source": [
    "s1_prds = s1_prds.drop(['Unnamed: 0'], axis=1)"
   ]
  },
  {
   "cell_type": "markdown",
   "metadata": {},
   "source": [
    "Now it looks like:"
   ]
  },
  {
   "cell_type": "code",
   "execution_count": 11,
   "metadata": {},
   "outputs": [
    {
     "data": {
      "text/html": [
       "<div>\n",
       "<style scoped>\n",
       "    .dataframe tbody tr th:only-of-type {\n",
       "        vertical-align: middle;\n",
       "    }\n",
       "\n",
       "    .dataframe tbody tr th {\n",
       "        vertical-align: top;\n",
       "    }\n",
       "\n",
       "    .dataframe thead th {\n",
       "        text-align: right;\n",
       "    }\n",
       "</style>\n",
       "<table border=\"1\" class=\"dataframe\">\n",
       "  <thead>\n",
       "    <tr style=\"text-align: right;\">\n",
       "      <th></th>\n",
       "      <th>enclosure</th>\n",
       "      <th>identifier</th>\n",
       "      <th>self</th>\n",
       "      <th>startdate</th>\n",
       "      <th>track</th>\n",
       "      <th>wkt</th>\n",
       "      <th>local_path</th>\n",
       "    </tr>\n",
       "  </thead>\n",
       "  <tbody>\n",
       "    <tr>\n",
       "      <th>0</th>\n",
       "      <td>https://store.terradue.com/download/sentinel1/...</td>\n",
       "      <td>S1B_EW_GRDM_1SDH_20180822T114138_20180822T1142...</td>\n",
       "      <td>https://catalog.terradue.com/sentinel1/search?...</td>\n",
       "      <td>2018-08-22 11:41:38.660</td>\n",
       "      <td>99</td>\n",
       "      <td>POLYGON ((-37.121357 81.783356, -61.739033 84....</td>\n",
       "      <td>/data2/S1B_EW_GRDM_1SDH_20180822T114138_201808...</td>\n",
       "    </tr>\n",
       "  </tbody>\n",
       "</table>\n",
       "</div>"
      ],
      "text/plain": [
       "                                           enclosure  \\\n",
       "0  https://store.terradue.com/download/sentinel1/...   \n",
       "\n",
       "                                          identifier  \\\n",
       "0  S1B_EW_GRDM_1SDH_20180822T114138_20180822T1142...   \n",
       "\n",
       "                                                self               startdate  \\\n",
       "0  https://catalog.terradue.com/sentinel1/search?... 2018-08-22 11:41:38.660   \n",
       "\n",
       "   track                                                wkt  \\\n",
       "0     99  POLYGON ((-37.121357 81.783356, -61.739033 84....   \n",
       "\n",
       "                                          local_path  \n",
       "0  /data2/S1B_EW_GRDM_1SDH_20180822T114138_201808...  "
      ]
     },
     "execution_count": 11,
     "metadata": {},
     "output_type": "execute_result"
    }
   ],
   "source": [
    "s1_prds"
   ]
  },
  {
   "cell_type": "markdown",
   "metadata": {},
   "source": [
    "Search for a Sentinel-1 pair a cycle (twelve days) before with the same track and covering its footprint:"
   ]
  },
  {
   "cell_type": "code",
   "execution_count": 12,
   "metadata": {},
   "outputs": [
    {
     "name": "stdout",
     "output_type": "stream",
     "text": [
      "{'stop': '2018-08-21T11:41:38.660000Z', 'start': '2018-08-10T11:41:38.660000Z', 'geom': 'POLYGON ((-37.121357 81.783356, -61.739033 84.10655199999999, -31.865376 86.972076, -11.720141 83.541039, -37.121357 81.783356))', 'pt': 'GRD', 'track': 99}\n"
     ]
    }
   ],
   "source": [
    "start_time = (s1_prds.iloc[0]['startdate'] - np.timedelta64(12, 'D')).isoformat() + 'Z'\n",
    "\n",
    "stop_time = (s1_prds.iloc[0]['startdate'] - np.timedelta64(1, 'D')).isoformat() + 'Z'\n",
    "                        \n",
    "wkt = s1_prds.iloc[0]['wkt'].wkt\n",
    "track =  s1_prds.iloc[0]['track']\n",
    "\n",
    "\n",
    "search_params = dict([('geom', wkt),\n",
    "                      ('start', start_time),\n",
    "                      ('stop', stop_time),\n",
    "                      ('track', track),\n",
    "                      ('pt', 'GRD')])\n",
    "\n",
    "print search_params \n",
    "\n",
    "series = 'https://catalog.terradue.com/sentinel1/search'\n",
    "\n",
    "ciop = cioppy.Cioppy()\n",
    "\n",
    "search = GeoDataFrame(ciop.search(end_point=series, \n",
    "                     params=search_params,\n",
    "                     output_fields='identifier,enclosure,self,startdate,track,wkt',\n",
    "                     model='EOP'))\n",
    "                            "
   ]
  },
  {
   "cell_type": "markdown",
   "metadata": {},
   "source": [
    "Update the _wkt_ column to a geometry:"
   ]
  },
  {
   "cell_type": "code",
   "execution_count": 13,
   "metadata": {},
   "outputs": [],
   "source": [
    "search['wkt'] = search['wkt'].apply(loads)"
   ]
  },
  {
   "cell_type": "markdown",
   "metadata": {},
   "source": [
    "Append the found Sentinel-1 products to our originally selected Sentinel-1 acquisition:"
   ]
  },
  {
   "cell_type": "code",
   "execution_count": 14,
   "metadata": {},
   "outputs": [],
   "source": [
    "s1_prds = s1_prds.append(search) "
   ]
  },
  {
   "cell_type": "markdown",
   "metadata": {},
   "source": [
    "Reset its index"
   ]
  },
  {
   "cell_type": "code",
   "execution_count": 15,
   "metadata": {},
   "outputs": [],
   "source": [
    "s1_prds = s1_prds.reset_index().drop(['index'], axis=1)"
   ]
  },
  {
   "cell_type": "markdown",
   "metadata": {},
   "source": [
    "Define a function to determine the overlap between acquisition footprints"
   ]
  },
  {
   "cell_type": "code",
   "execution_count": 16,
   "metadata": {},
   "outputs": [],
   "source": [
    "def analyse(row, aoi_wkt):\n",
    "    \n",
    "    coverage = row['wkt'].area/ aoi_wkt.area * 100\n",
    "    \n",
    "    return coverage\n",
    "    "
   ]
  },
  {
   "cell_type": "markdown",
   "metadata": {},
   "source": [
    "Add a new column with the coverage percent by applying the function above\n"
   ]
  },
  {
   "cell_type": "code",
   "execution_count": 17,
   "metadata": {},
   "outputs": [],
   "source": [
    "s1_prds['coverage'] = s1_prds.apply(lambda row: analyse(row, s1_prds.iloc[0]['wkt']), axis=1)\n"
   ]
  },
  {
   "cell_type": "markdown",
   "metadata": {},
   "source": [
    "Now the Sentinel-1 data frame looks like:"
   ]
  },
  {
   "cell_type": "code",
   "execution_count": 18,
   "metadata": {},
   "outputs": [
    {
     "data": {
      "text/html": [
       "<div>\n",
       "<style scoped>\n",
       "    .dataframe tbody tr th:only-of-type {\n",
       "        vertical-align: middle;\n",
       "    }\n",
       "\n",
       "    .dataframe tbody tr th {\n",
       "        vertical-align: top;\n",
       "    }\n",
       "\n",
       "    .dataframe thead th {\n",
       "        text-align: right;\n",
       "    }\n",
       "</style>\n",
       "<table border=\"1\" class=\"dataframe\">\n",
       "  <thead>\n",
       "    <tr style=\"text-align: right;\">\n",
       "      <th></th>\n",
       "      <th>enclosure</th>\n",
       "      <th>identifier</th>\n",
       "      <th>local_path</th>\n",
       "      <th>self</th>\n",
       "      <th>startdate</th>\n",
       "      <th>track</th>\n",
       "      <th>wkt</th>\n",
       "      <th>coverage</th>\n",
       "    </tr>\n",
       "  </thead>\n",
       "  <tbody>\n",
       "    <tr>\n",
       "      <th>0</th>\n",
       "      <td>https://store.terradue.com/download/sentinel1/...</td>\n",
       "      <td>S1B_EW_GRDM_1SDH_20180822T114138_20180822T1142...</td>\n",
       "      <td>/data2/S1B_EW_GRDM_1SDH_20180822T114138_201808...</td>\n",
       "      <td>https://catalog.terradue.com/sentinel1/search?...</td>\n",
       "      <td>2018-08-22 11:41:38.660000</td>\n",
       "      <td>99</td>\n",
       "      <td>POLYGON ((-37.121357 81.783356, -61.739033 84....</td>\n",
       "      <td>100.000000</td>\n",
       "    </tr>\n",
       "    <tr>\n",
       "      <th>1</th>\n",
       "      <td>https://store.terradue.com/download/sentinel1/...</td>\n",
       "      <td>S1B_EW_GRDH_1SDH_20180810T114237_20180810T1143...</td>\n",
       "      <td>NaN</td>\n",
       "      <td>https://catalog.terradue.com/sentinel1/search?...</td>\n",
       "      <td>2018-08-10T11:42:37.7547440Z</td>\n",
       "      <td>99</td>\n",
       "      <td>POLYGON ((-52.067234 79.08316000000001, -71.51...</td>\n",
       "      <td>69.685332</td>\n",
       "    </tr>\n",
       "    <tr>\n",
       "      <th>2</th>\n",
       "      <td>https://store.terradue.com/download/sentinel1/...</td>\n",
       "      <td>S1B_EW_GRDM_1SDH_20180810T114237_20180810T1143...</td>\n",
       "      <td>NaN</td>\n",
       "      <td>https://catalog.terradue.com/sentinel1/search?...</td>\n",
       "      <td>2018-08-10T11:42:37.7554950Z</td>\n",
       "      <td>99</td>\n",
       "      <td>POLYGON ((-52.065311 79.083237, -71.515289 80....</td>\n",
       "      <td>69.679648</td>\n",
       "    </tr>\n",
       "    <tr>\n",
       "      <th>3</th>\n",
       "      <td>https://store.terradue.com/download/sentinel1/...</td>\n",
       "      <td>S1B_EW_GRDM_1SDH_20180810T114137_20180810T1142...</td>\n",
       "      <td>NaN</td>\n",
       "      <td>https://catalog.terradue.com/sentinel1/search?...</td>\n",
       "      <td>2018-08-10T11:41:37.7566730Z</td>\n",
       "      <td>99</td>\n",
       "      <td>POLYGON ((-37.125397 81.78415699999999, -61.74...</td>\n",
       "      <td>100.012058</td>\n",
       "    </tr>\n",
       "  </tbody>\n",
       "</table>\n",
       "</div>"
      ],
      "text/plain": [
       "                                           enclosure  \\\n",
       "0  https://store.terradue.com/download/sentinel1/...   \n",
       "1  https://store.terradue.com/download/sentinel1/...   \n",
       "2  https://store.terradue.com/download/sentinel1/...   \n",
       "3  https://store.terradue.com/download/sentinel1/...   \n",
       "\n",
       "                                          identifier  \\\n",
       "0  S1B_EW_GRDM_1SDH_20180822T114138_20180822T1142...   \n",
       "1  S1B_EW_GRDH_1SDH_20180810T114237_20180810T1143...   \n",
       "2  S1B_EW_GRDM_1SDH_20180810T114237_20180810T1143...   \n",
       "3  S1B_EW_GRDM_1SDH_20180810T114137_20180810T1142...   \n",
       "\n",
       "                                          local_path  \\\n",
       "0  /data2/S1B_EW_GRDM_1SDH_20180822T114138_201808...   \n",
       "1                                                NaN   \n",
       "2                                                NaN   \n",
       "3                                                NaN   \n",
       "\n",
       "                                                self  \\\n",
       "0  https://catalog.terradue.com/sentinel1/search?...   \n",
       "1  https://catalog.terradue.com/sentinel1/search?...   \n",
       "2  https://catalog.terradue.com/sentinel1/search?...   \n",
       "3  https://catalog.terradue.com/sentinel1/search?...   \n",
       "\n",
       "                      startdate track  \\\n",
       "0    2018-08-22 11:41:38.660000    99   \n",
       "1  2018-08-10T11:42:37.7547440Z    99   \n",
       "2  2018-08-10T11:42:37.7554950Z    99   \n",
       "3  2018-08-10T11:41:37.7566730Z    99   \n",
       "\n",
       "                                                 wkt    coverage  \n",
       "0  POLYGON ((-37.121357 81.783356, -61.739033 84....  100.000000  \n",
       "1  POLYGON ((-52.067234 79.08316000000001, -71.51...   69.685332  \n",
       "2  POLYGON ((-52.065311 79.083237, -71.515289 80....   69.679648  \n",
       "3  POLYGON ((-37.125397 81.78415699999999, -61.74...  100.012058  "
      ]
     },
     "execution_count": 18,
     "metadata": {},
     "output_type": "execute_result"
    }
   ],
   "source": [
    "s1_prds"
   ]
  },
  {
   "cell_type": "markdown",
   "metadata": {},
   "source": [
    "Select the slave acquisition at position 3:"
   ]
  },
  {
   "cell_type": "code",
   "execution_count": 19,
   "metadata": {},
   "outputs": [
    {
     "data": {
      "text/plain": [
       "'S1B_EW_GRDM_1SDH_20180810T114137_20180810T114237_012200_016799_1944'"
      ]
     },
     "execution_count": 19,
     "metadata": {},
     "output_type": "execute_result"
    }
   ],
   "source": [
    "s1_prds.iloc[3]['identifier']"
   ]
  },
  {
   "cell_type": "markdown",
   "metadata": {},
   "source": [
    "Stage-in the product:"
   ]
  },
  {
   "cell_type": "code",
   "execution_count": 20,
   "metadata": {},
   "outputs": [],
   "source": [
    "local_path  =ciop.copy(urls=s1_prds.iloc[3]['enclosure'], extract=False, target='/data2')"
   ]
  },
  {
   "cell_type": "markdown",
   "metadata": {},
   "source": [
    "Update the *local_path* column with the newly downloaded product:"
   ]
  },
  {
   "cell_type": "code",
   "execution_count": 21,
   "metadata": {},
   "outputs": [
    {
     "data": {
      "text/plain": [
       "2"
      ]
     },
     "execution_count": 21,
     "metadata": {},
     "output_type": "execute_result"
    }
   ],
   "source": [
    "s1_prds.columns.get_loc('local_path')"
   ]
  },
  {
   "cell_type": "code",
   "execution_count": 22,
   "metadata": {},
   "outputs": [],
   "source": [
    "s1_prds.iat[3, s1_prds.columns.get_loc('local_path')] = '/data2/S1B_EW_GRDM_1SDH_20180810T114137_20180810T114237_012200_016799_1944.zip'"
   ]
  },
  {
   "cell_type": "markdown",
   "metadata": {},
   "source": [
    "Now the Sentinel-1 data frame looks like:"
   ]
  },
  {
   "cell_type": "code",
   "execution_count": 23,
   "metadata": {},
   "outputs": [
    {
     "data": {
      "text/html": [
       "<div>\n",
       "<style scoped>\n",
       "    .dataframe tbody tr th:only-of-type {\n",
       "        vertical-align: middle;\n",
       "    }\n",
       "\n",
       "    .dataframe tbody tr th {\n",
       "        vertical-align: top;\n",
       "    }\n",
       "\n",
       "    .dataframe thead th {\n",
       "        text-align: right;\n",
       "    }\n",
       "</style>\n",
       "<table border=\"1\" class=\"dataframe\">\n",
       "  <thead>\n",
       "    <tr style=\"text-align: right;\">\n",
       "      <th></th>\n",
       "      <th>enclosure</th>\n",
       "      <th>identifier</th>\n",
       "      <th>local_path</th>\n",
       "      <th>self</th>\n",
       "      <th>startdate</th>\n",
       "      <th>track</th>\n",
       "      <th>wkt</th>\n",
       "      <th>coverage</th>\n",
       "    </tr>\n",
       "  </thead>\n",
       "  <tbody>\n",
       "    <tr>\n",
       "      <th>0</th>\n",
       "      <td>https://store.terradue.com/download/sentinel1/...</td>\n",
       "      <td>S1B_EW_GRDM_1SDH_20180822T114138_20180822T1142...</td>\n",
       "      <td>/data2/S1B_EW_GRDM_1SDH_20180822T114138_201808...</td>\n",
       "      <td>https://catalog.terradue.com/sentinel1/search?...</td>\n",
       "      <td>2018-08-22 11:41:38.660000</td>\n",
       "      <td>99</td>\n",
       "      <td>POLYGON ((-37.121357 81.783356, -61.739033 84....</td>\n",
       "      <td>100.000000</td>\n",
       "    </tr>\n",
       "    <tr>\n",
       "      <th>1</th>\n",
       "      <td>https://store.terradue.com/download/sentinel1/...</td>\n",
       "      <td>S1B_EW_GRDH_1SDH_20180810T114237_20180810T1143...</td>\n",
       "      <td>NaN</td>\n",
       "      <td>https://catalog.terradue.com/sentinel1/search?...</td>\n",
       "      <td>2018-08-10T11:42:37.7547440Z</td>\n",
       "      <td>99</td>\n",
       "      <td>POLYGON ((-52.067234 79.08316000000001, -71.51...</td>\n",
       "      <td>69.685332</td>\n",
       "    </tr>\n",
       "    <tr>\n",
       "      <th>2</th>\n",
       "      <td>https://store.terradue.com/download/sentinel1/...</td>\n",
       "      <td>S1B_EW_GRDM_1SDH_20180810T114237_20180810T1143...</td>\n",
       "      <td>NaN</td>\n",
       "      <td>https://catalog.terradue.com/sentinel1/search?...</td>\n",
       "      <td>2018-08-10T11:42:37.7554950Z</td>\n",
       "      <td>99</td>\n",
       "      <td>POLYGON ((-52.065311 79.083237, -71.515289 80....</td>\n",
       "      <td>69.679648</td>\n",
       "    </tr>\n",
       "    <tr>\n",
       "      <th>3</th>\n",
       "      <td>https://store.terradue.com/download/sentinel1/...</td>\n",
       "      <td>S1B_EW_GRDM_1SDH_20180810T114137_20180810T1142...</td>\n",
       "      <td>/data2/S1B_EW_GRDM_1SDH_20180810T114137_201808...</td>\n",
       "      <td>https://catalog.terradue.com/sentinel1/search?...</td>\n",
       "      <td>2018-08-10T11:41:37.7566730Z</td>\n",
       "      <td>99</td>\n",
       "      <td>POLYGON ((-37.125397 81.78415699999999, -61.74...</td>\n",
       "      <td>100.012058</td>\n",
       "    </tr>\n",
       "  </tbody>\n",
       "</table>\n",
       "</div>"
      ],
      "text/plain": [
       "                                           enclosure  \\\n",
       "0  https://store.terradue.com/download/sentinel1/...   \n",
       "1  https://store.terradue.com/download/sentinel1/...   \n",
       "2  https://store.terradue.com/download/sentinel1/...   \n",
       "3  https://store.terradue.com/download/sentinel1/...   \n",
       "\n",
       "                                          identifier  \\\n",
       "0  S1B_EW_GRDM_1SDH_20180822T114138_20180822T1142...   \n",
       "1  S1B_EW_GRDH_1SDH_20180810T114237_20180810T1143...   \n",
       "2  S1B_EW_GRDM_1SDH_20180810T114237_20180810T1143...   \n",
       "3  S1B_EW_GRDM_1SDH_20180810T114137_20180810T1142...   \n",
       "\n",
       "                                          local_path  \\\n",
       "0  /data2/S1B_EW_GRDM_1SDH_20180822T114138_201808...   \n",
       "1                                                NaN   \n",
       "2                                                NaN   \n",
       "3  /data2/S1B_EW_GRDM_1SDH_20180810T114137_201808...   \n",
       "\n",
       "                                                self  \\\n",
       "0  https://catalog.terradue.com/sentinel1/search?...   \n",
       "1  https://catalog.terradue.com/sentinel1/search?...   \n",
       "2  https://catalog.terradue.com/sentinel1/search?...   \n",
       "3  https://catalog.terradue.com/sentinel1/search?...   \n",
       "\n",
       "                      startdate track  \\\n",
       "0    2018-08-22 11:41:38.660000    99   \n",
       "1  2018-08-10T11:42:37.7547440Z    99   \n",
       "2  2018-08-10T11:42:37.7554950Z    99   \n",
       "3  2018-08-10T11:41:37.7566730Z    99   \n",
       "\n",
       "                                                 wkt    coverage  \n",
       "0  POLYGON ((-37.121357 81.783356, -61.739033 84....  100.000000  \n",
       "1  POLYGON ((-52.067234 79.08316000000001, -71.51...   69.685332  \n",
       "2  POLYGON ((-52.065311 79.083237, -71.515289 80....   69.679648  \n",
       "3  POLYGON ((-37.125397 81.78415699999999, -61.74...  100.012058  "
      ]
     },
     "execution_count": 23,
     "metadata": {},
     "output_type": "execute_result"
    }
   ],
   "source": [
    "s1_prds"
   ]
  },
  {
   "cell_type": "markdown",
   "metadata": {},
   "source": [
    "The local files to process are thus:"
   ]
  },
  {
   "cell_type": "code",
   "execution_count": 24,
   "metadata": {},
   "outputs": [],
   "source": [
    "local_paths = (s1_prds.iloc[[0,3],[s1_prds.columns.get_loc('local_path')]].values[0][0],\n",
    "               s1_prds.iloc[[0,3],[s1_prds.columns.get_loc('local_path')]].values[1][0])"
   ]
  },
  {
   "cell_type": "code",
   "execution_count": 25,
   "metadata": {},
   "outputs": [
    {
     "data": {
      "text/plain": [
       "('/data2/S1B_EW_GRDM_1SDH_20180822T114138_20180822T114238_012375_016D07_E770.zip',\n",
       " '/data2/S1B_EW_GRDM_1SDH_20180810T114137_20180810T114237_012200_016799_1944.zip')"
      ]
     },
     "execution_count": 25,
     "metadata": {},
     "output_type": "execute_result"
    }
   ],
   "source": [
    "local_paths"
   ]
  },
  {
   "cell_type": "markdown",
   "metadata": {},
   "source": [
    "### <a name=\"workflow\">Workflow"
   ]
  },
  {
   "cell_type": "markdown",
   "metadata": {},
   "source": [
    "#### Import the packages required for processing the data"
   ]
  },
  {
   "cell_type": "code",
   "execution_count": 26,
   "metadata": {
    "collapsed": true
   },
   "outputs": [],
   "source": [
    "from snappy import jpy\n",
    "from snappy import ProductIO\n",
    "from snappy import GPF\n",
    "from snappy import HashMap\n",
    "from osgeo import ogr\n",
    "from osgeo import osr\n",
    "from shapely.geometry import Point\n",
    "from shapely.geometry import Polygon\n",
    "from shapely.geometry import box\n",
    "from shapely.wkt import loads\n",
    "from shapely import geometry\n",
    "import numpy as np\n",
    "import ipyleaflet\n",
    "from ipyleaflet import *\n",
    "\n",
    "from ipywidgets import HTML\n",
    "\n",
    "from datetime import datetime\n",
    "\n",
    "import cioppy\n",
    "\n",
    "import lxml.etree as etree\n",
    "\n"
   ]
  },
  {
   "cell_type": "markdown",
   "metadata": {},
   "source": [
    "#### Read the products"
   ]
  },
  {
   "cell_type": "code",
   "execution_count": 27,
   "metadata": {
    "collapsed": false,
    "slideshow": {
     "slide_type": "subslide"
    }
   },
   "outputs": [],
   "source": [
    "\n",
    "products = []\n",
    "\n",
    "for s1path in local_paths:\n",
    "\n",
    "    \n",
    "    reader = ProductIO.getProductReader(\"SENTINEL-1\")\n",
    "    product = reader.readProductNodes(s1path, None)\n",
    "    products.append(product)"
   ]
  },
  {
   "cell_type": "code",
   "execution_count": 28,
   "metadata": {},
   "outputs": [],
   "source": [
    "def get_snap_parameters(operator):\n",
    "    \n",
    "    op_spi = GPF.getDefaultInstance().getOperatorSpiRegistry().getOperatorSpi(operator)\n",
    "\n",
    "    op_params = op_spi.getOperatorDescriptor().getParameterDescriptors()\n",
    "\n",
    "    return op_params\n",
    "    "
   ]
  },
  {
   "cell_type": "markdown",
   "metadata": {},
   "source": [
    "### Apply orbit file SNAP Operator"
   ]
  },
  {
   "cell_type": "markdown",
   "metadata": {},
   "source": [
    "The orbit state vectors provided in the metadata of a SAR product are generally not accurate and can be refined with the precise orbit files which are available days-to-weeks after the generation of the product. \n",
    "\n",
    "The orbit file provides accurate satellite position and velocity information. Based on this information, the orbit state vectors in the abstract metadata of the product are updated.\n",
    "\n",
    "The Precise Orbit Determination (POD) service for SENTINEL-1 provides Restituted orbit files and Precise Orbit Ephemerides (POE) orbit files. POE files cover approximately 28 hours and contain orbit state vectors at fixed time steps of 10 seconds intervals. Files are generated one file per day and are delivered within 20 days after data acquisition. "
   ]
  },
  {
   "cell_type": "markdown",
   "metadata": {},
   "source": [
    "Get the parameters of the **Apply orbit file** SNAP Operator:"
   ]
  },
  {
   "cell_type": "code",
   "execution_count": 29,
   "metadata": {},
   "outputs": [],
   "source": [
    "operator = 'Apply-Orbit-File'\n",
    "\n",
    "operator_params = get_snap_parameters(operator)"
   ]
  },
  {
   "cell_type": "markdown",
   "metadata": {},
   "source": [
    "Apply the operator:"
   ]
  },
  {
   "cell_type": "code",
   "execution_count": 30,
   "metadata": {},
   "outputs": [
    {
     "name": "stdout",
     "output_type": "stream",
     "text": [
      "orbitType Sentinel Precise (Auto Download)\n",
      "polyDegree 3\n",
      "continueOnFail false\n"
     ]
    }
   ],
   "source": [
    "parameters = HashMap()\n",
    "\n",
    "for param in operator_params:\n",
    "    \n",
    "    print param.getName(), param.getDefaultValue()\n",
    "    \n",
    "    parameters.put(param.getName(), param.getDefaultValue())\n",
    "\n",
    "master_orbit = GPF.createProduct(operator,\n",
    "                                 parameters, \n",
    "                                 products[0])\n",
    "    \n",
    "slave_orbit = GPF.createProduct(operator,\n",
    "                                 parameters, \n",
    "                                 products[1])"
   ]
  },
  {
   "cell_type": "markdown",
   "metadata": {},
   "source": [
    "## DEM Assisted Coregistration"
   ]
  },
  {
   "cell_type": "markdown",
   "metadata": {},
   "source": [
    "For Offset Tracking processing, two images must be coregistered into a stack. \n",
    "\n",
    "The image that was acquired earlier is selected as the master and the other image is selected as the slave. The pixels in slave image will be moved to align with the master image with the help of the orbital data and a reference DEM.\n",
    "\n",
    "Coregistration ensures that each ground target from stationary scene contributes to the same (range, azimuth) pixel in both the master and the slave image.\n",
    "\n",
    "For Offset Tracking application, DEM Assisted Coregistration is used. It coregisters the products strictly based on the geometry using a DEM, orbit positions and times. This avoids possibly warping the image incorrectly due to the movement in the scene.\n"
   ]
  },
  {
   "cell_type": "code",
   "execution_count": 31,
   "metadata": {},
   "outputs": [],
   "source": [
    "operator = 'DEM-Assisted-Coregistration'\n",
    "\n",
    "operator_params = get_snap_parameters(operator)"
   ]
  },
  {
   "cell_type": "code",
   "execution_count": 32,
   "metadata": {},
   "outputs": [
    {
     "name": "stdout",
     "output_type": "stream",
     "text": [
      "demName SRTM 3Sec\n",
      "demResamplingMethod BICUBIC_INTERPOLATION\n",
      "externalDEMFile None\n",
      "externalDEMNoDataValue 0\n",
      "resamplingType BISINC_5_POINT_INTERPOLATION\n",
      "tileExtensionPercent 50\n",
      "maskOutAreaWithoutElevation true\n",
      "outputRangeAzimuthOffset false\n"
     ]
    }
   ],
   "source": [
    "for param in operator_params:\n",
    "    \n",
    "    print param.getName(), param.getDefaultValue()"
   ]
  },
  {
   "cell_type": "markdown",
   "metadata": {},
   "source": [
    "The default DEM, which is SRTM 3 Sec, covers most area of the earth's surface between –60 degree latitude and +60 degree latitude. However, it does not cover the high latitude area where Rink Glacier is located. \n",
    "\n",
    "Therefore, ASTER GDEM, GETASSE30 or ACE30 DEM could be selected. "
   ]
  },
  {
   "cell_type": "code",
   "execution_count": 33,
   "metadata": {},
   "outputs": [
    {
     "name": "stdout",
     "output_type": "stream",
     "text": [
      "demName ACE30\n",
      "demResamplingMethod BICUBIC_INTERPOLATION\n",
      "externalDEMFile None\n",
      "externalDEMNoDataValue 0\n",
      "resamplingType BISINC_5_POINT_INTERPOLATION\n",
      "tileExtensionPercent 50\n",
      "maskOutAreaWithoutElevation true\n",
      "outputRangeAzimuthOffset false\n"
     ]
    }
   ],
   "source": [
    "for param in operator_params:\n",
    "    \n",
    "    if param.getName() == 'demName':\n",
    "        \n",
    "        param_value = 'ACE30'\n",
    "    \n",
    "    else:\n",
    "    \n",
    "        param_value = param.getDefaultValue()\n",
    "\n",
    "    print param.getName(), param_value\n",
    "    \n",
    "    parameters.put(param.getName(), param_value)\n",
    "    \n",
    "dem_assisted_coregistration = GPF.createProduct(operator,\n",
    "                                 parameters, \n",
    "                                 [master_orbit, slave_orbit])"
   ]
  },
  {
   "cell_type": "markdown",
   "metadata": {},
   "source": [
    "### Subset"
   ]
  },
  {
   "cell_type": "code",
   "execution_count": 34,
   "metadata": {},
   "outputs": [],
   "source": [
    "def convert_coords(source_epsg, target_epsg, geom):\n",
    "\n",
    "    source = osr.SpatialReference()\n",
    "    source.ImportFromEPSG(source_epsg)\n",
    "\n",
    "    target = osr.SpatialReference()\n",
    "    target.ImportFromEPSG(target_epsg)\n",
    "\n",
    "    transform = osr.CoordinateTransformation(source, target)\n",
    "\n",
    "    point = ogr.CreateGeometryFromWkt(geom)\n",
    "    point.Transform(transform)\n",
    "\n",
    "    return point.ExportToWkt()"
   ]
  },
  {
   "cell_type": "code",
   "execution_count": 35,
   "metadata": {},
   "outputs": [],
   "source": [
    "def extend_aoi(center_x, center_y, extent):\n",
    "    \n",
    "    center_polar = loads(convert_coords(4326, 3995, Point(center_x, center_y).wkt))\n",
    "    \n",
    "    ll = convert_coords(3995, 4326, Point(center_polar.x - extent,  center_polar.y - extent).wkt)\n",
    "    lr = convert_coords(3995, 4326, Point(center_polar.x + extent,  center_polar.y - extent).wkt)\n",
    "    ur = convert_coords(3995, 4326, Point(center_polar.x + extent,  center_polar.y + extent).wkt)\n",
    "    ul = convert_coords(3995, 4326, Point(center_polar.x - extent,  center_polar.y + extent).wkt)\n",
    "\n",
    "\n",
    "    pointList = [loads(ll),\n",
    "             loads(lr), \n",
    "             loads(ur), \n",
    "             loads(ul), \n",
    "             loads(ll)]\n",
    "\n",
    "    extended_aoi = geometry.Polygon([[p.x, p.y] for p in pointList]).wkt\n",
    "    \n",
    "    return extended_aoi"
   ]
  },
  {
   "cell_type": "code",
   "execution_count": 36,
   "metadata": {},
   "outputs": [],
   "source": [
    "glacier_center_x, glacier_center_y = [float(x) for x in glacier_center['value'].split(',')] "
   ]
  },
  {
   "cell_type": "code",
   "execution_count": 37,
   "metadata": {},
   "outputs": [],
   "source": [
    "aoi_wkt = extend_aoi(glacier_center_x, glacier_center_y, float(geo_extent['value']))"
   ]
  },
  {
   "cell_type": "code",
   "execution_count": 38,
   "metadata": {},
   "outputs": [],
   "source": [
    "aoi_locations = np.asarray([t[::-1] for t in list(loads(aoi_wkt).exterior.coords)]).tolist()"
   ]
  },
  {
   "cell_type": "code",
   "execution_count": 39,
   "metadata": {},
   "outputs": [],
   "source": [
    "map_center_x = loads(aoi_wkt).centroid.x\n",
    "map_center_y = loads(aoi_wkt).centroid.y"
   ]
  },
  {
   "cell_type": "code",
   "execution_count": 40,
   "metadata": {},
   "outputs": [
    {
     "data": {
      "application/vnd.jupyter.widget-view+json": {
       "model_id": "d3156701ac5d4e5fb0147f1e0bfe5923",
       "version_major": 2,
       "version_minor": 0
      },
      "text/plain": [
       "TWFwKGJhc2VtYXA9eyd1cmwnOiAnaHR0cHM6Ly97c30udGlsZS5vcGVuc3RyZWV0bWFwLm9yZy97en0ve3h9L3t5fS5wbmcnLCAnbWF4X3pvb20nOiAxOSwgJ2F0dHJpYnV0aW9uJzogJ01hcCDigKY=\n"
      ]
     },
     "metadata": {},
     "output_type": "display_data"
    }
   ],
   "source": [
    "m = Map(center=(loads(aoi_wkt).centroid.y, \n",
    "                loads(aoi_wkt).centroid.x), \n",
    "                zoom=8)\n",
    "\n",
    "m += Polygon(locations=aoi_locations,\n",
    "             color=\"green\",\n",
    "             fill_color=\"green\",\n",
    "             weight=1,\n",
    "             fill_opacity=0.1)\n",
    "\n",
    "mark = Marker(location=(glacier_center_y, glacier_center_x))\n",
    "\n",
    "html_widget = HTML(\n",
    "    value=\"\"\"\n",
    "        <div>\n",
    "        Glacier\n",
    "        </div>\"\"\",\n",
    "    placeholder='',\n",
    "    description='',\n",
    "    )\n",
    "\n",
    "mark.popup = html_widget\n",
    "\n",
    "m.add_layer(mark)\n",
    "m"
   ]
  },
  {
   "cell_type": "markdown",
   "metadata": {},
   "source": [
    "### Subset"
   ]
  },
  {
   "cell_type": "markdown",
   "metadata": {},
   "source": [
    "parameters = HashMap()\n",
    "\n",
    "#parameters.put('sourceBands', ['Amplitude_HH_mst_20Jul2016', 'Amplitude_HH_slv1_08Jul2016'])\n",
    "#parameters.put('region', '')\n",
    "parameters.put('geoRegion', aoi_wkt)\n",
    "parameters.put('subSamplingX', '1')\n",
    "parameters.put('subSamplingY', '1')\n",
    "parameters.put('fullSwath', 'false')\n",
    "parameters.put('tiePointGridNames', '')\n",
    "parameters.put('copyMetadata', 'true')\n",
    "\n",
    "subset = GPF.createProduct('Subset', parameters, dem_assisted_coregistration)"
   ]
  },
  {
   "cell_type": "markdown",
   "metadata": {},
   "source": [
    "### Offset-Tracking"
   ]
  },
  {
   "cell_type": "markdown",
   "metadata": {},
   "source": [
    "The Offset Tracking operator estimates the movement of glacier surfaces between master and slave images in both slant-range and azimuth direction. It performs cross-correlation on selected Ground Control Point (GCP) in master and slave images. \n",
    "\n",
    "Then the glacier velocities on the selected GCPs are computed based on the offsets estimated by the cross-correlation. Finally the glacier velocity map is generated through interpolation of the velocities computed on the GCP grid.\n",
    "\n",
    "The Offset Tracking is performed in the following sub-steps:\n",
    "\n",
    "* For each point in the user specified GCP grid in master image, compute its corresponding pixel position in slave image using normalized cross-correlation.\n",
    "* If the compute offset between master and slave GCP positions exceeds the maximum offset (computed from user specified maximum velocity), then the GCP point is marked as outlier.\n",
    "*  Perform local average for the offset on valid GCP points.\n",
    "*  Fill holes caused by the outliers. The offset at hole point will be replaced by a new offset computed by local weighted average.\n",
    "*  Compute the velocities for all points on GCP grid from their offsets.\n",
    "*  Finally, compute velocities for all pixels in the master image from the velocities on GCP grid by interpolation.\n",
    "\n",
    "The maximum velocity for Rink Glacier is around 10 meters per day. Given that the SAR image acquisition period is 12 days and range and azimuth spacing is 10 meters, we can calculate the maximum shift of a target in the glacier is about 12 pixel. We know that the default Registration Window dimension (128 pixels) is larger enough to cover the target in both master and slave images. "
   ]
  },
  {
   "cell_type": "code",
   "execution_count": 41,
   "metadata": {},
   "outputs": [
    {
     "name": "stdout",
     "output_type": "stream",
     "text": [
      "gridAzimuthSpacing 40\n",
      "gridRangeSpacing 40\n",
      "registrationWindowWidth 128\n",
      "registrationWindowHeight 128\n",
      "xCorrThreshold 0.1\n",
      "averageBoxSize 5\n",
      "maxVelocity 5.0\n",
      "radius 4\n",
      "resamplingType BICUBIC_INTERPOLATION\n",
      "spatialAverage true\n",
      "fillHoles true\n",
      "roiVector None\n"
     ]
    }
   ],
   "source": [
    "operator = 'Offset-Tracking'\n",
    "\n",
    "operator_params = get_snap_parameters(operator)\n",
    "\n",
    "for param in operator_params:\n",
    "    \n",
    "    print param.getName(), param.getDefaultValue()"
   ]
  },
  {
   "cell_type": "code",
   "execution_count": 42,
   "metadata": {},
   "outputs": [
    {
     "name": "stdout",
     "output_type": "stream",
     "text": [
      "gridAzimuthSpacing 40\n",
      "gridRangeSpacing 40\n",
      "registrationWindowWidth 128\n",
      "registrationWindowHeight 128\n",
      "xCorrThreshold 0.1\n",
      "averageBoxSize 5\n",
      "maxVelocity 10\n",
      "radius 4\n",
      "resamplingType BICUBIC_INTERPOLATION\n",
      "spatialAverage true\n",
      "fillHoles true\n",
      "roiVector None\n"
     ]
    }
   ],
   "source": [
    "for param in operator_params:\n",
    "    \n",
    "    if param.getName() == 'maxVelocity':\n",
    "        \n",
    "        param_value = '10'\n",
    "    \n",
    "    else:\n",
    "    \n",
    "        param_value = param.getDefaultValue()\n",
    "\n",
    "    print param.getName(), param_value\n",
    "    \n",
    "    parameters.put(param.getName(), param_value)\n",
    "    \n",
    "offset_tracking = GPF.createProduct(operator,\n",
    "                                 parameters, \n",
    "                                 dem_assisted_coregistration)"
   ]
  },
  {
   "cell_type": "markdown",
   "metadata": {},
   "source": [
    "### Terrain correction"
   ]
  },
  {
   "cell_type": "code",
   "execution_count": 43,
   "metadata": {},
   "outputs": [],
   "source": [
    "operator = 'Terrain-Correction'\n",
    "\n",
    "operator_params = get_snap_parameters(operator)"
   ]
  },
  {
   "cell_type": "code",
   "execution_count": 44,
   "metadata": {},
   "outputs": [],
   "source": [
    "map_proj = \"\"\"PROJCS[\"WGS 84 / Arctic Polar Stereographic\", \n",
    "  GEOGCS[\"WGS 84\", \n",
    "    DATUM[\"World Geodetic System 1984\", \n",
    "      SPHEROID[\"WGS 84\", 6378137.0, 298.257223563, AUTHORITY[\"EPSG\",\"7030\"]], \n",
    "      AUTHORITY[\"EPSG\",\"6326\"]], \n",
    "    PRIMEM[\"Greenwich\", 0.0, AUTHORITY[\"EPSG\",\"8901\"]], \n",
    "    UNIT[\"degree\", 0.017453292519943295], \n",
    "    AXIS[\"Geodetic longitude\", EAST], \n",
    "    AXIS[\"Geodetic latitude\", NORTH], \n",
    "    AUTHORITY[\"EPSG\",\"4326\"]], \n",
    "  PROJECTION[\"Polar Stereographic (variant B)\", AUTHORITY[\"EPSG\",\"9829\"]], \n",
    "  PARAMETER[\"central_meridian\", 0.0], \n",
    "  PARAMETER[\"Standard_Parallel_1\", 71.0], \n",
    "  PARAMETER[\"false_easting\", 0.0], \n",
    "  PARAMETER[\"false_northing\", 0.0], \n",
    "  UNIT[\"m\", 1.0], \n",
    "  AXIS[\"Easting\", \"South along 90 deg East\"], \n",
    "  AXIS[\"Northing\", \"South along 180 deg\"], \n",
    "  AUTHORITY[\"EPSG\",\"3995\"]]\"\"\""
   ]
  },
  {
   "cell_type": "code",
   "execution_count": 45,
   "metadata": {},
   "outputs": [
    {
     "name": "stdout",
     "output_type": "stream",
     "text": [
      "sourceBandNames None\n",
      "demName ACE30\n",
      "externalDEMFile None\n",
      "externalDEMNoDataValue 0\n",
      "externalDEMApplyEGM true\n",
      "demResamplingMethod BILINEAR_INTERPOLATION\n",
      "imgResamplingMethod BILINEAR_INTERPOLATION\n",
      "pixelSpacingInMeter 0\n",
      "pixelSpacingInDegree 0\n",
      "mapProjection PROJCS[\"WGS 84 / Arctic Polar Stereographic\", \n",
      "  GEOGCS[\"WGS 84\", \n",
      "    DATUM[\"World Geodetic System 1984\", \n",
      "      SPHEROID[\"WGS 84\", 6378137.0, 298.257223563, AUTHORITY[\"EPSG\",\"7030\"]], \n",
      "      AUTHORITY[\"EPSG\",\"6326\"]], \n",
      "    PRIMEM[\"Greenwich\", 0.0, AUTHORITY[\"EPSG\",\"8901\"]], \n",
      "    UNIT[\"degree\", 0.017453292519943295], \n",
      "    AXIS[\"Geodetic longitude\", EAST], \n",
      "    AXIS[\"Geodetic latitude\", NORTH], \n",
      "    AUTHORITY[\"EPSG\",\"4326\"]], \n",
      "  PROJECTION[\"Polar Stereographic (variant B)\", AUTHORITY[\"EPSG\",\"9829\"]], \n",
      "  PARAMETER[\"central_meridian\", 0.0], \n",
      "  PARAMETER[\"Standard_Parallel_1\", 71.0], \n",
      "  PARAMETER[\"false_easting\", 0.0], \n",
      "  PARAMETER[\"false_northing\", 0.0], \n",
      "  UNIT[\"m\", 1.0], \n",
      "  AXIS[\"Easting\", \"South along 90 deg East\"], \n",
      "  AXIS[\"Northing\", \"South along 180 deg\"], \n",
      "  AUTHORITY[\"EPSG\",\"3995\"]]\n",
      "alignToStandardGrid false\n",
      "standardGridOriginX 0\n",
      "standardGridOriginY 0\n",
      "nodataValueAtSea false\n",
      "saveDEM false\n",
      "saveLatLon false\n",
      "saveIncidenceAngleFromEllipsoid false\n",
      "saveLocalIncidenceAngle false\n",
      "saveProjectedLocalIncidenceAngle false\n",
      "saveSelectedSourceBand true\n",
      "outputComplex false\n",
      "applyRadiometricNormalization false\n",
      "saveSigmaNought false\n",
      "saveGammaNought false\n",
      "saveBetaNought false\n",
      "incidenceAngleForSigma0 Use projected local incidence angle from DEM\n",
      "incidenceAngleForGamma0 Use projected local incidence angle from DEM\n",
      "auxFile Latest Auxiliary File\n",
      "externalAuxFile None\n"
     ]
    }
   ],
   "source": [
    "parameters = HashMap()\n",
    "\n",
    "for param in operator_params:\n",
    "    \n",
    "    if param.getName() == 'demName':\n",
    "        \n",
    "        param_value = 'ACE30'\n",
    "    \n",
    "    elif param.getName() == 'mapProjection':\n",
    "        \n",
    "        param_value = map_proj\n",
    "     \n",
    "    elif param.getName() == 'nodataValueAtSea':\n",
    "        \n",
    "        param_value = 'false'\n",
    "    \n",
    "    else:\n",
    "    \n",
    "        param_value = param.getDefaultValue()\n",
    "\n",
    "    print param.getName(), param_value\n",
    "    \n",
    "    parameters.put(param.getName(), param_value)\n",
    "\n",
    "terrain = GPF.createProduct(operator,\n",
    "                  parameters, \n",
    "                  offset_tracking)"
   ]
  },
  {
   "cell_type": "code",
   "execution_count": 46,
   "metadata": {},
   "outputs": [],
   "source": [
    "parameters = HashMap()\n",
    "\n",
    "#parameters.put('sourceBands', ['Amplitude_HH_mst_20Jul2016', 'Amplitude_HH_slv1_08Jul2016'])\n",
    "#parameters.put('region', '')\n",
    "parameters.put('geoRegion', aoi_wkt)\n",
    "parameters.put('subSamplingX', '1')\n",
    "parameters.put('subSamplingY', '1')\n",
    "parameters.put('fullSwath', 'false')\n",
    "parameters.put('tiePointGridNames', '')\n",
    "parameters.put('copyMetadata', 'true')\n",
    "\n",
    "subset = GPF.createProduct('Subset', parameters, terrain)"
   ]
  },
  {
   "cell_type": "markdown",
   "metadata": {},
   "source": [
    "### Write the product"
   ]
  },
  {
   "cell_type": "code",
   "execution_count": null,
   "metadata": {},
   "outputs": [],
   "source": [
    "start_date = datetime.strptime(str(master_orbit.getStartTime()), '%d-%b-%Y %H:%M:%S.%f').strftime('%Y-%m-%d')\n",
    "end_date = datetime.strptime(str(slave_orbit.getStartTime()), '%d-%b-%Y %H:%M:%S.%f').strftime('%Y-%m-%d')\n",
    "\n",
    "output_name = 'velocity_%s_%s' % (start_date, end_date)\n"
   ]
  },
  {
   "cell_type": "code",
   "execution_count": null,
   "metadata": {},
   "outputs": [],
   "source": [
    "ProductIO.writeProduct(subset, \n",
    "                       output_name + '.tif',\n",
    "                       'GeoTIFF-BigTIFF')"
   ]
  },
  {
   "cell_type": "code",
   "execution_count": null,
   "metadata": {},
   "outputs": [],
   "source": [
    "ds = gdal.Open(output_name + '.tif')\n",
    "band = ds.GetRasterBand(1)\n",
    "\n",
    "fig = plt.figure(figsize=(15,15))\n",
    "\n",
    "imgplot = plt.imshow(band.ReadAsArray().astype(np.float),\n",
    "                         cmap=plt.cm.binary, \n",
    "                         vmin=0, \n",
    "                         vmax=2)\n",
    "\n",
    "plt.show()"
   ]
  },
  {
   "cell_type": "markdown",
   "metadata": {
    "slideshow": {
     "slide_type": "slide"
    }
   },
   "source": [
    "## <a name=\"license\">License"
   ]
  },
  {
   "cell_type": "markdown",
   "metadata": {
    "slideshow": {
     "slide_type": "subslide"
    }
   },
   "source": [
    "This work is licenced under a [Attribution-ShareAlike 4.0 International License (CC BY-SA 4.0)](http://creativecommons.org/licenses/by-sa/4.0/) \n",
    "\n",
    "YOU ARE FREE TO:\n",
    "\n",
    "* Share - copy and redistribute the material in any medium or format.\n",
    "* Adapt - remix, transform, and built upon the material for any purpose, even commercially.\n",
    "\n",
    "UNDER THE FOLLOWING TERMS:\n",
    "\n",
    "* Attribution - You must give appropriate credit, provide a link to the license, and indicate if changes were made. You may do so in any reasonable manner, but not in any way that suggests the licensor endorses you or your use.\n",
    "* ShareAlike - If you remix, transform, or build upon the material, you must distribute your contributions under the same license as the original."
   ]
  }
 ],
 "metadata": {
  "kernelspec": {
   "display_name": "Python [default]",
   "language": "python",
   "name": "python2"
  },
  "language_info": {
   "codemirror_mode": {
    "name": "ipython",
    "version": 2
   },
   "file_extension": ".py",
   "mimetype": "text/x-python",
   "name": "python",
   "nbconvert_exporter": "python",
   "pygments_lexer": "ipython2",
   "version": "2.7.12"
  }
 },
 "nbformat": 4,
 "nbformat_minor": 2
}
